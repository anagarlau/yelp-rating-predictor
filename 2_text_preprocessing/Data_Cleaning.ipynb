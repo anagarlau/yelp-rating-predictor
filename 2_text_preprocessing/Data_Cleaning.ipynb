{
 "cells": [
  {
   "cell_type": "markdown",
   "source": [
    "### Preprocessing the Yelp Comments on Berlin Restaurants"
   ],
   "metadata": {
    "collapsed": false
   }
  },
  {
   "cell_type": "markdown",
   "source": [
    "#### Get required packages"
   ],
   "metadata": {
    "collapsed": false
   }
  },
  {
   "cell_type": "code",
   "execution_count": 1,
   "metadata": {},
   "outputs": [
    {
     "name": "stderr",
     "output_type": "stream",
     "text": [
      "[nltk_data] Downloading package punkt to\n",
      "[nltk_data]     C:\\Users\\ana\\AppData\\Roaming\\nltk_data...\n",
      "[nltk_data]   Package punkt is already up-to-date!\n",
      "[nltk_data] Downloading package stopwords to\n",
      "[nltk_data]     C:\\Users\\ana\\AppData\\Roaming\\nltk_data...\n",
      "[nltk_data]   Package stopwords is already up-to-date!\n"
     ]
    }
   ],
   "source": [
    "import pandas as pd\n",
    "import re\n",
    "import nltk\n",
    "import string\n",
    "import nltk.tokenize\n",
    "#Run in Terminal\n",
    "#pip install spacy\n",
    "#python -m spacy download de_core_news_md\n",
    "import spacy as spacy\n",
    "from nltk.tokenize import word_tokenize\n",
    "nltk.download('punkt')\n",
    "nltk.download('stopwords')\n",
    "stop_words = nltk.corpus.stopwords.words('german')\n"
   ]
  },
  {
   "cell_type": "markdown",
   "metadata": {},
   "source": [
    "#### Get dataset"
   ]
  },
  {
   "cell_type": "code",
   "execution_count": 2,
   "outputs": [
    {
     "name": "stderr",
     "output_type": "stream",
     "text": [
      "C:\\Users\\ana\\AppData\\Local\\Temp\\ipykernel_11344\\236994953.py:11: UserWarning: Parsing dates in DD/MM/YYYY format when dayfirst=False (the default) was specified. This may lead to inconsistently parsed dates! Specify a format to ensure consistent parsing.\n",
      "  yelp['Date'] = yelp['Date'].astype('datetime64[ns]',\"dd-MM-yyyy\")\n"
     ]
    },
    {
     "name": "stdout",
     "output_type": "stream",
     "text": [
      "<class 'pandas.core.frame.DataFrame'>\n",
      "RangeIndex: 9721 entries, 0 to 9720\n",
      "Data columns (total 11 columns):\n",
      " #   Column           Non-Null Count  Dtype         \n",
      "---  ------           --------------  -----         \n",
      " 0   ID               9721 non-null   int32         \n",
      " 1   Restaurant_Name  9721 non-null   object        \n",
      " 2   Overall_Rating   9721 non-null   float64       \n",
      " 3   Total_Reviews    9721 non-null   int64         \n",
      " 4   Specialty        9721 non-null   object        \n",
      " 5   Region           9721 non-null   object        \n",
      " 6   Price_Range      9721 non-null   object        \n",
      " 7   Author           9721 non-null   object        \n",
      " 8   Comment          9721 non-null   object        \n",
      " 9   Rating           9721 non-null   int64         \n",
      " 10  Date             9721 non-null   datetime64[ns]\n",
      "dtypes: datetime64[ns](1), float64(1), int32(1), int64(2), object(6)\n",
      "memory usage: 797.6+ KB\n",
      "None\n"
     ]
    }
   ],
   "source": [
    "yelp = pd.read_csv('../1_scraping/intermediary_outputs/german_merged.csv')\n",
    "yelp.columns.values[0]=\"ID\"\n",
    "yelp = yelp.rename(columns={'Overall Rating':'Overall_Rating',\n",
    "                                      \"Total Reviews\":'Total_Reviews',\n",
    "                                      \"Restaurant Name\":\"Restaurant_Name\",\n",
    "                                     \"Price Range\":\"Price_Range\"})\n",
    "yelp.columns\n",
    "yelp['ID'] = yelp['ID'].astype(int)\n",
    "yelp['Comment'] = yelp['Comment'].astype(str)\n",
    "yelp['Overall_Rating'] = yelp['Overall_Rating'].astype(float)\n",
    "yelp['Date'] = yelp['Date'].astype('datetime64[ns]',\"dd-MM-yyyy\")\n",
    "yelp.dtypes\n",
    "print(yelp.info())\n",
    "\n"
   ],
   "metadata": {
    "collapsed": false
   }
  },
  {
   "cell_type": "markdown",
   "source": [
    "#### Remove Duplicates"
   ],
   "metadata": {
    "collapsed": false
   }
  },
  {
   "cell_type": "code",
   "execution_count": 3,
   "outputs": [
    {
     "name": "stdout",
     "output_type": "stream",
     "text": [
      "9721\n",
      "9706\n"
     ]
    }
   ],
   "source": [
    "print(len(yelp))\n",
    "# Remove duplicates\n",
    "yelp = yelp.drop_duplicates(subset=['Comment'], inplace=False)\n",
    "print(len(yelp)) #15 duplicates found"
   ],
   "metadata": {
    "collapsed": false
   }
  },
  {
   "cell_type": "markdown",
   "metadata": {},
   "source": [
    "#### Basic Cleaning"
   ]
  },
  {
   "cell_type": "code",
   "execution_count": 4,
   "metadata": {},
   "outputs": [
    {
     "name": "stdout",
     "output_type": "stream",
     "text": [
      "URL case\n",
      "ich habe mir  bewertungen zu  restaurants auf  menulist angesehen und dieses  restaurant hatte gute  kritiken also habe ich es ausprobiert und es nicht bereut \n",
      "neue  homepage\n",
      "Emoji case\n",
      "der wohl verrückteste  kellner den ich je hatte aber eine einzigartige  kneipe die sich  hinter der  stadtklause versteckt  im  kellergewölbe kann man auch noch sitzen günstiges deutsches  essen und  bier in einem eigentlich so touristisch überfluteten  potsdamer  platz  ecke gerade bei den sonst so hohen  bierpreisen in der  umgebung des  sony  center liefert die  stadtklause eine  entspannung für den  geldbeutel  preis leistung stimmt\n",
      "super leckeres  essen cooles  atmosphäre  gutes  bier leider keine ec  karten oder  kreditkarten aktzeptiert das ist ein bissle schade\n",
      "mit  abstand das beste  schnitzel weit und breit  super nettes  ambiente und tolles  personal beim nächsten berlin besuch wieder  daumen hoch\n",
      "beste  ramen die ich jemals gegessen habe ja es ist voll aber man wartet mi ich lange außer man entscheidet sich um   ich werde wiederkommen\n",
      "Shoutouts\n",
      "1\n",
      "bayrische tapas in der baumreichen metzerstrasse nähe metzer eck die wirtsleute kommen aus bayern und sind sehr nett und gastfreundlich chef marcus ist gelernter brauer weihenstephan braut sein eigenes hervorragendes bier weizen und pils  sehr toll es gibt leberkäs weisswürste xöchts schweinsbraten und nachmittags von der chefin selbstgemachten käsekuchen draußen stehen schön schattige tische drinnen ist es aufgeräumt und klar vormieter war ein sushiladen der schöne breite marmortresen wurde übernommen gefällt mir sehr die wirtsleut und ihr schmankerlkonzept hat unbedingten geheimtippcharakter  komm ich jetzt öfter   danke für die empfehlung lieber\n",
      "2\n",
      "wir waren am   mai abends erstmals im  casalot  reservierung habe ich ganz kurzfristig telefonisch angefragt war aber kein  problem  zudem habe ich einen  dailydeal gutschein für  vorspeisenmenü und  grillplatte eingelöst was bei der  bedienung ebenfalls problemlos akzeptiert wurde  der  service war die ganze  zeit über sehr aufmerksam und überaus freundlich  das  essen war vielfältig und superlecker  wir hatten nicht den  eindruck dass wegen des  dailydeal gutscheins die  portionen irgendwie mickrig waren  die  bedienung war bei uns angenehm zügig und ich kann die geäußerte  kritik wegen langer  wartezeiten nicht bestätigen obwohl das  casalot fast vollständig besetzt war  fazit seeeeehr lecker und toller  service  in  verbindung mit  gutscheinaktionen auch noch sehr günstig wobei aber auch die  normalpreise keinen aus den  schuhen hauen macht weiter so wir kommen gerne wieder\n",
      "3\n",
      "wenn es nicht ein gutes  stück von meiner  wohnung entfernt liegen würde dann käme ich wahrscheinlich in der  woche mindestens einmal hierher  ein  preisleistungsverhältnis der besonderen  sorte hier kriegt man gutes  essen zu noch besseren  preisen leckere  pizzen ab   euro  ich esse aber lieber die  pasta mit käse sahne  sauce  die ist hier besonders lecker und kostengünstig ohne  ende wenn es draußen warm ist kann man hervorragend auf der  terrasse  platz nehmen und hat  einsicht auf die  lehrter  straße  schmeckt wie beim  italiener\n",
      "4\n",
      "wie schon von anderen geschrieben authentisch geil   worte  thailändisches  eisbein   wowowow  bester  thai der  stadt     dokuwa\n",
      "Hashtags\n",
      "update   das cocolo ist definitiv eines meiner  stammrestaurants in  berlin geworden  mittlerweile war ich bestimmt schon zwei  dutzend  male dort  betritt man das  cocolo fühlt man sich sofort wieder wie in in einem guten  ramen  shop in  tokyo man sollte  wartezeit einplanen denn die  plätze sind rar  aber das  warten lohnt sich  ich hatte  gyoza  kimchi und das  tonkotsu  ramen  es hat einfach großartig geschmeckt und meine  freunde waren ebenfalls voll des  lobes über das  essen  die  brühe meines  tonkotsu  ramen war eher kräftig und wir hatten eine längere  diskussion darüber ob man hier dem  deutschen  geschmack entgegegekommen ist oder ob wir auch in  japan meist eine eher kräftige  brühe hatten  lange bevor wir eine  einigung in dieser  diskussion erziehlt hatten waren unsere  schüsseln aber schon leergefuttert  alles in allem eine echte  empfehlung in  berlin  noch ein  hinweis  wie viele typische  ramen shops in  japan gibt es hier viel  personal und wenig  sitze  man sollte so fair sein und die  deutsche  gewohnheit nach dem  essen noch ein  stündchen über seinem  bier mit den  freunden zu palavern einfach sein lassen und zügig in die nächste  kneipe weiterziehen  in  japan ist das auch nicht anders  einen guten  shop erkennt man an den langen  warteschlangen  hat man dann seinen  platz heißt es  essen bezahlen wieder gehen  das hat weniger mit  gier nach  geld zu tun als mit der  tatsache daß der  shop sonst nicht in die schwarzen  zahlen kommt  und wenn ein  shop seinen  profit verdient hat dan das  cocolo\n",
      "mein erster  abend im  grill  royal  ich hatte viel gehört und war auf noch viel mehr gefasst  schickis  snobs  wannabes etc  stellen  sie sich vor  freitagabend im  dezember   nachdem wir kurz an der  bar warten mussten da wir nicht reserviert hatten ich weiß ich weiß  freitagabend wurden wir von der charmanten  empfangsdame an unseren  tisch geführt  ratzfatz bekamen wir die  abendkarte und wurden von der offensichtlich weinkundigen  kellnerin bestens beraten  das  steak das der  vorspeise  tartar vom  rinderfilet folgte war geradezu ein kulinarischer  orgasmus  lange habe ich kein derart gutes   bone  steak   angus gegessen nun ja es hatte auch einen stolzen  preis wie gewünscht war es medium rare dazu herrlich frisches  gemüse und tolle  pommes  frites  die  beilagen sind übrigens frei wählbar auch der ganze  hummer vom  grill war das reinste  ambrosia   und leider meiner  begleitung vorbehalten  aber ich weiß jetzt schon was ich nächstes  mal esse  zum  dessert wurde uns ein entsprechender  dessertwein serviert  erst war ich skeptisch süße  weine sind mir eigentlich ein  greuel  als ich aber den ersten  schluck trank war es um mich geschehen  als pinkelte mir ein  engel auf die  zunge es war einfach köstlich   und passend zum  dessert nämlich halbflüssiger  schokoladenkuchen  kompliment an die küche wähnte ich den höhepunkt des  abends doch eigentlich viel später  zuhause mit meiner charmanten  begleitung immerhin hab ich deren  rechnung übernommen   zum  publikum  gelungene  mischung  hier trifft la  bohme den  promi sitzt  tisch an  tisch mit den immer wichtigen  geschäftsleuten  szenegängern und  ottonormalverbrauchern  die küche ist inspiriert kreativ und raffiniert in der  zubereitung  dies alles steht in einem guten nicht billigen   preisleistungsverhältnis  abgerundet wird dies von der stets aufmerksamen jedoch nicht aufdringlichen  bedienung  und das hab ich jetzt nicht geschrieben weil es noch nen  schnaps aufs  haus gab ehrlich  fazit ein gelungener wenngleich nicht billiger  abend  wir sind durch und durch befriedigt gegangen was ich in  berliner  restaurants dieses  preissegments leider nicht oft sagen kann  danke für den schönen  abend ich komme wieder  \n",
      "Commentar 112 gelandetTolles\n",
      "durch  zufall sind wir auf das  marral gelandet tolles  essen toller  service und alles auch noch zu einem guten  preis  wir kommen defintiv wieder\n",
      "an dieser  stelle möchte ich meiner enttäuschung  ausdruck verleihen als wir ein  jubiläum feiern wollten  mein vater ein  freund der arabischen  kultur war doch ziemlich irritiert als ermitbekam daß der reservierte und geschmückte  tisch erst bei unsrer  ankunftbestimmt wurde und mit  rosenblütenblättern irgendwie lieblos bekrümelt wurde der  tisch befand sich zwischen zwei schon besetzten  tischen so daß so ziemlich stuhllehne an  stuhllehne stand ein  durchkommen für die  kellner daher rechtschwer war  wir bestellten es kamen die  speisen  allerdings erfolgte die erklärung der  reise durch den  orient so schnell daß keiner von uns hinterherkam  die  reaktion auf unsere  verständnisschwierigkeiten fand ich recht patzig wenn der  gast das erste  mal nachfragt kann man ihm nicht entgegnen daß erbesser aufpassen sollte  dann blieben erst die  wassergläser stehen dasrestliche  geschirr blieb dann auch auf dem  tisch obwohl wir irgendwann das geschirr am  kopfende zusammenstellten weil immer wieder  kellner an unserem tisch mit leeren händen zurückgingen  die  kellner obwohl das  restaurant nur zueinem  drittel drinnen voll war schienen unkoordiniert und mit der  situationüberfordert zu sein  jedenfalls sollten wir nicht bestellten  rotwein bekommen zum  nachbestellen baten wir um eine  speisekarte die wir nicht bekamen weil angeblichdas  restaurant so voll sei daß alle  karten in  benutzung seinen  das wäre beider  auslastung ein trauriges  armutszeugnis  was wäre denn bei voller  auslastungpassiert  bestellung ohne  karte etwa oder warten bis wieder eine frei ist  daseinzig  positive war das vorzügliche  essen  damit war es das auch schon des lobes weil wir einen  nachtisch nicht mehr bestellen konnten  ab einer gewissen zeit war einfach kein  service mehr zu bekommen  auch am  nachbartisch warteteman vergeblich auf bestellte  getränke  da ich also nicht bestellen konnte wollte ich bezahlen gehen  selbst das wurde zu einer  aufgabe weil derzuständige  kellner erst gesucht werden mußte der gerade  pause machte  unsere enttäuschung teilte ich ihm auf seine  anfrage hin mit  es kam nur die entschuldigung der vielen gäste  also merkwürdig finde ich daß in einem restaurant die  kellner überfordert sind wenn es nur zu einem  drittel voll ist und warum wissen die  kollegen nicht wer gerade zur  pause gegangen ist außerdem fand ich die  diskussion um eine  rechtfertigung der  situation mehr alsunerfreulich  erstenswar ich froh das  restaurantverlassen zu können und zweitens hab ich leider dieberühmte  gastfreundlichkeit komplett vermißt  das ist mir noch nie passiert das  restaurant kann ich nicht empfehlen  meine erfahrung hab ich mittlerweile schon weitergegeben und führt hier zurmangelhaften  bewertung\n"
     ]
    }
   ],
   "source": [
    "#remove pattern \"Unknown\" / \"x Fotos\" in Author - replace with None\n",
    "yelp['Author'] = yelp.Author.where((yelp.Author == 'Unknown') | ('Foto' in yelp.Author), None)\n",
    "yelp['Price_Range'] = yelp.Price_Range.where(yelp.Price_Range == 'Unknown', None)\n",
    "#print(yelp[yelp.ID==1114])\n",
    "\n",
    "def clean_text(text):\n",
    "    #fix enter instead of punctuation or space but keep contiguous capitalization\n",
    "    text = re.sub('(?<=.)(?=[A-Z][a-z])', r\" \", text)\n",
    "    #remove random urls w/o http\n",
    "    text = re.sub('[\\w]+\\.[\\w]+\\/+[\\w]+','',text)\n",
    "    #remove URL with http\n",
    "    text = re.sub(r'http\\S+', '', text)\n",
    "    #remove URL with www\n",
    "    text = re.sub(r'www\\S+', '', text)\n",
    "    # add space after . to avoid word concatenation when user left no space after .\n",
    "    text = re.sub(r'(?<=[.,)!])(?=[^\\s])', r' ', text)\n",
    "    # Remove Emoji chars\n",
    "    emoticons = r'[\\W]+(?::|;|=)(?:-)?(?:\\)+|\\(|D|P)'\n",
    "    text = re.sub(emoticons, '' , text)\n",
    "    #remove hashtags but leave the content of a hashtag in text\n",
    "    text = re.sub(r\"([#]+)\", \"\", text)\n",
    "    #remove @name shoutouts +  weird shoutouts with space between @ and name\n",
    "    pattern_shoutout_one = r\"((\\w+|[^a-z])[@](\\s+\\w+|\\w+|.*))\"\n",
    "    text = re.sub(pattern_shoutout_one, \"\",text)\n",
    "    #Remove weird unicode characters such as U+2026\n",
    "    text = re.sub(r'[^\\x00-\\x7FäöüÄÖÜß]+', '', text)\n",
    "    # # remove hashtags and normal shoutouts with @\n",
    "    # pattern_hashtags_shoutouts = r\"([@#]\\w+)\"\n",
    "    # text = re.sub(pattern_hashtags_shoutouts,\"\" ,text)\n",
    "\n",
    "    #remove digits\n",
    "    text = re.sub(r'[0-9]+', '', text)\n",
    "    #remove 1 char words\n",
    "    text = re.sub(r'\\b\\w{1}\\b', ' ', text)\n",
    "    #Remove punctuations etc.\n",
    "    text = \"\".join([word.lower() for word in text if word not in string.punctuation])\n",
    "    #Convert to lowercase to maintain consistency\n",
    "    text = text.lower()\n",
    "    return text\n",
    "\n",
    "df = yelp[['ID', 'Comment']]\n",
    "pd.set_option('max_colwidth', 800)\n",
    "\n",
    "\n",
    "yelp['Comment'] = yelp.Comment.apply(lambda x: clean_text(x))\n",
    "print(\"URL case\")\n",
    "print(yelp.Comment[0])\n",
    "print(yelp.Comment[3562])\n",
    "print(\"Emoji case\")\n",
    "print(yelp.Comment[28])\n",
    "print(yelp.Comment[6])\n",
    "print(yelp.Comment[226])\n",
    "print(yelp.Comment[164])\n",
    "print(\"Shoutouts\")\n",
    "print(\"1\")\n",
    "print(yelp.Comment[278])#remove comments in english\n",
    "print(\"2\")\n",
    "print(yelp.Comment[2672])\n",
    "print(\"3\")\n",
    "print(yelp.Comment[6434])\n",
    "print(\"4\")\n",
    "print(yelp.Comment[2690])\n",
    "print(\"Hashtags\")\n",
    "print(yelp.Comment[1134])#remove comments in english\n",
    "print(yelp.Comment[4605])\n",
    "print(\"Commentar 112 gelandetTolles\")\n",
    "print(yelp.Comment[112])\n",
    "print(yelp.Comment[2680])"
   ]
  },
  {
   "cell_type": "code",
   "execution_count": 5,
   "metadata": {},
   "outputs": [
    {
     "data": {
      "text/plain": "   ID Restaurant_Name  Overall_Rating  Total_Reviews      Specialty Region  \\\n0   0          JOSEPH             4.5              6  Israelisch /   Mitte   \n1   1          JOSEPH             4.5              6  Israelisch /   Mitte   \n2   2          JOSEPH             4.5              6  Israelisch /   Mitte   \n3   3          JOSEPH             4.5              6  Israelisch /   Mitte   \n4   4          JOSEPH             4.5              6  Israelisch /   Mitte   \n\n  Price_Range Author  \\\n0     Unknown   None   \n1     Unknown   None   \n2     Unknown   None   \n3     Unknown   None   \n4     Unknown   None   \n\n                                                                                                                                                                                                                                                                                                                                                                                                                                                                                                                                                                                                                                                                                                                                                                                                                           Comment  \\\n0                                                                                                                                                                                                                                                                                                                                                                                                                                                                                                                                                                                                                                                                  ich habe mir  bewertungen zu  restaurants auf  menulist angesehen und dieses  restaurant hatte gute  kritiken also habe ich es ausprobiert und es nicht bereut    \n1  das  joseph ist ein ziemlich neues israelisches  restaurant im modernen  design  es ist zwar nicht besonders kuschelig aber angenehm hell und hübsch eingerichtet mit schönen  lampen  der  service ist ausgesprochen freundlich unkompliziert und aufmerksam besonders  celina  das  essen kam schnell sah sehr appetitlich aus und so schmeckte es auch  die israelischen  starter  kleinigkeiten und  hauptspeisen haben uns sehr gut geschmeckt die  preise sind angemessen und für  berlin mitte nicht zu teuer  wir waren nur etwas überrascht dass schon um      sehr laute  musik aufgelegt wurde wir konnten uns fast nicht mehr unterhalten am er  tisch gegenüber  auf  anfrage wurde das etwas gedrosselt  fazit  wer israelische küche mag gutes  preis leistungs verhältnis möchte mit  blick auf die  friedri...   \n2                                                                                                                                                                                                                                                                                                                                                                                                                                                                         schalömchen scheiße haben wir uns heute koscher weggeknallt  maria und  joseph werden zum  vorbild  kellerinnen geben alles und saufen mehr als der  gast  als ich rein kam schlägt es  wellen aber ich bin diesen  sommer einfach lit as fuck und alle saufen mit mir  ne geile  crew ist die halbe  miete hätte gerne mehr geferkelt aber war zu dicht   \n3  essen war allenfalls ok muss ich nicht nochmal haben  insgesamt war mein  erlebnis im  joseph sehr langweilig  nachdem ich allein ins  restaurant kam dauerte es erstmal bis ich begrüßt und platziert wirde  das  lokal war nicht voll die  speisekarte auf  englisch was mich in  berlin  mitte nicht wirklich verwundert  ich bestellte einen  grüne bohnen salat als  vorspeise und danach einen  grillspieß mit  gemüse  in der offenen küche zubereitet kam es nach wenigen  minuten am  tisch an  sellerie und  walnüsse die lt  karte unter  anderem in meinem wohl klingenden  salat sein sollten fehlten  der selbstgemachte  bagel als  beilage zum  salat hingegen hat mir gut geschmeckt  der  grillspieß bestand aus  kartoffel  zwiebel  aubergine  paprika und  zucchini  gebettet auf stellenweise schwarz ...   \n4                                                                                                                                                                                                                                                                                                                                                                                                                                                           waren auf  empfehlung dort und wurden nicht enttäuscht  hammer  ambiente  hammer  essen  mega  personal  wir waren zu  da und haben uns was zusammen stellen lassen  einmal alles  ich als  vegetarier bin auch voll auf meine  kosten gekommen  es macht wirklich  sinn und so ist auch das  konzept das man mehrere  gerichte bestellt und alles untereinander teilt   \n\n   Rating       Date  \n0       5 2022-10-26  \n1       4 2019-07-11  \n2       5 2019-10-18  \n3       2 2020-08-01  \n4       5 2019-03-09  ",
      "text/html": "<div>\n<style scoped>\n    .dataframe tbody tr th:only-of-type {\n        vertical-align: middle;\n    }\n\n    .dataframe tbody tr th {\n        vertical-align: top;\n    }\n\n    .dataframe thead th {\n        text-align: right;\n    }\n</style>\n<table border=\"1\" class=\"dataframe\">\n  <thead>\n    <tr style=\"text-align: right;\">\n      <th></th>\n      <th>ID</th>\n      <th>Restaurant_Name</th>\n      <th>Overall_Rating</th>\n      <th>Total_Reviews</th>\n      <th>Specialty</th>\n      <th>Region</th>\n      <th>Price_Range</th>\n      <th>Author</th>\n      <th>Comment</th>\n      <th>Rating</th>\n      <th>Date</th>\n    </tr>\n  </thead>\n  <tbody>\n    <tr>\n      <th>0</th>\n      <td>0</td>\n      <td>JOSEPH</td>\n      <td>4.5</td>\n      <td>6</td>\n      <td>Israelisch /</td>\n      <td>Mitte</td>\n      <td>Unknown</td>\n      <td>None</td>\n      <td>ich habe mir  bewertungen zu  restaurants auf  menulist angesehen und dieses  restaurant hatte gute  kritiken also habe ich es ausprobiert und es nicht bereut</td>\n      <td>5</td>\n      <td>2022-10-26</td>\n    </tr>\n    <tr>\n      <th>1</th>\n      <td>1</td>\n      <td>JOSEPH</td>\n      <td>4.5</td>\n      <td>6</td>\n      <td>Israelisch /</td>\n      <td>Mitte</td>\n      <td>Unknown</td>\n      <td>None</td>\n      <td>das  joseph ist ein ziemlich neues israelisches  restaurant im modernen  design  es ist zwar nicht besonders kuschelig aber angenehm hell und hübsch eingerichtet mit schönen  lampen  der  service ist ausgesprochen freundlich unkompliziert und aufmerksam besonders  celina  das  essen kam schnell sah sehr appetitlich aus und so schmeckte es auch  die israelischen  starter  kleinigkeiten und  hauptspeisen haben uns sehr gut geschmeckt die  preise sind angemessen und für  berlin mitte nicht zu teuer  wir waren nur etwas überrascht dass schon um      sehr laute  musik aufgelegt wurde wir konnten uns fast nicht mehr unterhalten am er  tisch gegenüber  auf  anfrage wurde das etwas gedrosselt  fazit  wer israelische küche mag gutes  preis leistungs verhältnis möchte mit  blick auf die  friedri...</td>\n      <td>4</td>\n      <td>2019-07-11</td>\n    </tr>\n    <tr>\n      <th>2</th>\n      <td>2</td>\n      <td>JOSEPH</td>\n      <td>4.5</td>\n      <td>6</td>\n      <td>Israelisch /</td>\n      <td>Mitte</td>\n      <td>Unknown</td>\n      <td>None</td>\n      <td>schalömchen scheiße haben wir uns heute koscher weggeknallt  maria und  joseph werden zum  vorbild  kellerinnen geben alles und saufen mehr als der  gast  als ich rein kam schlägt es  wellen aber ich bin diesen  sommer einfach lit as fuck und alle saufen mit mir  ne geile  crew ist die halbe  miete hätte gerne mehr geferkelt aber war zu dicht</td>\n      <td>5</td>\n      <td>2019-10-18</td>\n    </tr>\n    <tr>\n      <th>3</th>\n      <td>3</td>\n      <td>JOSEPH</td>\n      <td>4.5</td>\n      <td>6</td>\n      <td>Israelisch /</td>\n      <td>Mitte</td>\n      <td>Unknown</td>\n      <td>None</td>\n      <td>essen war allenfalls ok muss ich nicht nochmal haben  insgesamt war mein  erlebnis im  joseph sehr langweilig  nachdem ich allein ins  restaurant kam dauerte es erstmal bis ich begrüßt und platziert wirde  das  lokal war nicht voll die  speisekarte auf  englisch was mich in  berlin  mitte nicht wirklich verwundert  ich bestellte einen  grüne bohnen salat als  vorspeise und danach einen  grillspieß mit  gemüse  in der offenen küche zubereitet kam es nach wenigen  minuten am  tisch an  sellerie und  walnüsse die lt  karte unter  anderem in meinem wohl klingenden  salat sein sollten fehlten  der selbstgemachte  bagel als  beilage zum  salat hingegen hat mir gut geschmeckt  der  grillspieß bestand aus  kartoffel  zwiebel  aubergine  paprika und  zucchini  gebettet auf stellenweise schwarz ...</td>\n      <td>2</td>\n      <td>2020-08-01</td>\n    </tr>\n    <tr>\n      <th>4</th>\n      <td>4</td>\n      <td>JOSEPH</td>\n      <td>4.5</td>\n      <td>6</td>\n      <td>Israelisch /</td>\n      <td>Mitte</td>\n      <td>Unknown</td>\n      <td>None</td>\n      <td>waren auf  empfehlung dort und wurden nicht enttäuscht  hammer  ambiente  hammer  essen  mega  personal  wir waren zu  da und haben uns was zusammen stellen lassen  einmal alles  ich als  vegetarier bin auch voll auf meine  kosten gekommen  es macht wirklich  sinn und so ist auch das  konzept das man mehrere  gerichte bestellt und alles untereinander teilt</td>\n      <td>5</td>\n      <td>2019-03-09</td>\n    </tr>\n  </tbody>\n</table>\n</div>"
     },
     "execution_count": 5,
     "metadata": {},
     "output_type": "execute_result"
    }
   ],
   "source": [
    "yelp.head()"
   ]
  },
  {
   "cell_type": "markdown",
   "metadata": {},
   "source": [
    "#### Tokenization & Stopword Removal"
   ]
  },
  {
   "cell_type": "code",
   "execution_count": 6,
   "metadata": {},
   "outputs": [
    {
     "name": "stdout",
     "output_type": "stream",
     "text": [
      "monate schnitzelei großen schnitzel lecker karte kreativ zusammengestellt insbesondere kostenlose begrüßungsbier deutschen tapas heben schnitzelei nochmal lokalen ab zudem bedienungen freundlich ambiente angenehm\n",
      "zufall marral gelandet tolles essen toller service guten preis kommen defintiv\n"
     ]
    }
   ],
   "source": [
    "\n",
    "def tokenize_and_remove_stopword(text):\n",
    "    tokens = word_tokenize(text,language='german')\n",
    "    text = \" \".join([word for word in tokens if word not in stop_words])\n",
    "    return text\n",
    "\n",
    "yelp['Comment'] = yelp['Comment'].apply(lambda x: tokenize_and_remove_stopword(x))\n",
    "print(yelp.Comment[7890])\n",
    "print(yelp.Comment[112])"
   ]
  },
  {
   "cell_type": "markdown",
   "metadata": {},
   "source": [
    "#### Lemmatisierung mit SpaCy"
   ]
  },
  {
   "cell_type": "code",
   "execution_count": 7,
   "metadata": {},
   "outputs": [],
   "source": [
    "# https://blog.codecentric.de/natural-language-processing-basics\n",
    "# https://textmining.wp.hs-hannover.de/Preprocessing.html\n",
    "# https://nickyreinert.de/blog/2020/12/09/einfuehrung-in-stemming-und-lemmatisierung-deutscher-texte-mit-python/\n",
    "# https://de.steadforce.com/blog/natural-language-processing-tools\n",
    "# https://spacy.io/usage/linguistic-features#lemmatization"
   ]
  },
  {
   "cell_type": "code",
   "execution_count": 8,
   "outputs": [],
   "source": [
    "#pip install spacy\n",
    "#python -m spacy download de_core_news_md"
   ],
   "metadata": {
    "collapsed": false
   }
  },
  {
   "cell_type": "code",
   "execution_count": 9,
   "outputs": [],
   "source": [
    "spc =  spacy.load(r'de_core_news_md')\n",
    "\n",
    "def lemmatize_spc(tokenized_comment):\n",
    "\n",
    "    tok_cmt_as_spacy_object = spc(tokenized_comment)\n",
    "    text = \" \".join([token.lemma_ for token in tok_cmt_as_spacy_object])\n",
    "    return text.lower()\n",
    "yelp['Comment'] = yelp['Comment'].apply(lambda x: lemmatize_spc(x))\n",
    "\n",
    "\n",
    "\n"
   ],
   "metadata": {
    "collapsed": false
   }
  },
  {
   "cell_type": "markdown",
   "source": [
    "#### Drop Columns and Save to CSV"
   ],
   "metadata": {
    "collapsed": false
   }
  },
  {
   "cell_type": "code",
   "execution_count": 10,
   "outputs": [],
   "source": [
    "yelp.drop([\"ID\", \"Restaurant_Name\", \"Overall_Rating\", \"Total_Reviews\", \"Specialty\", \"Region\", \"Author\", \"Date\", \"Price_Range\"],inplace = True,axis = 1)\n",
    "yelp.to_csv(\"cleaned_data_yelp.csv\", index=False)"
   ],
   "metadata": {
    "collapsed": false
   }
  }
 ],
 "metadata": {
  "kernelspec": {
   "display_name": "Python 3 (ipykernel)",
   "language": "python",
   "name": "python3"
  },
  "language_info": {
   "codemirror_mode": {
    "name": "ipython",
    "version": 3
   },
   "file_extension": ".py",
   "mimetype": "text/x-python",
   "name": "python",
   "nbconvert_exporter": "python",
   "pygments_lexer": "ipython3",
   "version": "3.10.7"
  }
 },
 "nbformat": 4,
 "nbformat_minor": 2
}
