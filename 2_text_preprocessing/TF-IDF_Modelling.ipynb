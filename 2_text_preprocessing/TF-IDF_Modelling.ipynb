{
 "cells": [
  {
   "cell_type": "markdown",
   "source": [
    "# Modelling with TF-IDF Vectorization\n"
   ],
   "metadata": {
    "collapsed": false
   }
  },
  {
   "cell_type": "code",
   "execution_count": 1,
   "outputs": [],
   "source": [
    "import pandas as pd\n",
    "import numpy as np\n",
    "from sklearn.feature_extraction.text import TfidfVectorizer\n",
    "from sklearn.preprocessing import LabelEncoder"
   ],
   "metadata": {
    "collapsed": false
   }
  },
  {
   "cell_type": "code",
   "execution_count": 2,
   "outputs": [
    {
     "data": {
      "text/plain": "                                             Comment  Rating  \\\n0  ich habe mir  bewertungen zu  restaurants auf ...       5   \n1  das  joseph ist ein ziemlich neues israelische...       4   \n2  schalömchen scheiße haben wir uns heute kosche...       5   \n3  essen war allenfalls ok muss ich nicht nochmal...       2   \n4  waren auf  empfehlung dort und wurden nicht en...       5   \n\n                                       Clean_Comment  \\\n0  ich habe mir  bewertungen zu  restaurants auf ...   \n1  das  joseph ist ein ziemlich neues israelische...   \n2  schalömchen scheiße haben wir uns heute kosche...   \n3  essen war allenfalls ok muss ich nicht nochmal...   \n4  waren auf  empfehlung dort und wurden nicht en...   \n\n                                   Tokenized_Comment  \\\n0  bewertungen restaurants menulist angesehen res...   \n1  joseph ziemlich neues israelisches restaurant ...   \n2  schalömchen scheiße heute koscher weggeknallt ...   \n3  essen allenfalls ok nochmal insgesamt erlebnis...   \n4  empfehlung wurden enttäuscht hammer ambiente h...   \n\n                                  Lemmatized_Comment  Senti_Blob  Senti_norm  \n0  ich haben sich   bewertung zu   restaurant auf...    1.000000    5.000000  \n1  der   joseph sein ein ziemlich neu israelisch ...    0.846429    4.692857  \n2  schalömch scheiße haben wir sich heute kosch w...    0.283333    3.566667  \n3  essen sein allenfalls ok mussen ich nicht noch...    0.133333    3.266667  \n4  sein auf   empfehlung dort und werden nicht en...    0.750000    4.500000  ",
      "text/html": "<div>\n<style scoped>\n    .dataframe tbody tr th:only-of-type {\n        vertical-align: middle;\n    }\n\n    .dataframe tbody tr th {\n        vertical-align: top;\n    }\n\n    .dataframe thead th {\n        text-align: right;\n    }\n</style>\n<table border=\"1\" class=\"dataframe\">\n  <thead>\n    <tr style=\"text-align: right;\">\n      <th></th>\n      <th>Comment</th>\n      <th>Rating</th>\n      <th>Clean_Comment</th>\n      <th>Tokenized_Comment</th>\n      <th>Lemmatized_Comment</th>\n      <th>Senti_Blob</th>\n      <th>Senti_norm</th>\n    </tr>\n  </thead>\n  <tbody>\n    <tr>\n      <th>0</th>\n      <td>ich habe mir  bewertungen zu  restaurants auf ...</td>\n      <td>5</td>\n      <td>ich habe mir  bewertungen zu  restaurants auf ...</td>\n      <td>bewertungen restaurants menulist angesehen res...</td>\n      <td>ich haben sich   bewertung zu   restaurant auf...</td>\n      <td>1.000000</td>\n      <td>5.000000</td>\n    </tr>\n    <tr>\n      <th>1</th>\n      <td>das  joseph ist ein ziemlich neues israelische...</td>\n      <td>4</td>\n      <td>das  joseph ist ein ziemlich neues israelische...</td>\n      <td>joseph ziemlich neues israelisches restaurant ...</td>\n      <td>der   joseph sein ein ziemlich neu israelisch ...</td>\n      <td>0.846429</td>\n      <td>4.692857</td>\n    </tr>\n    <tr>\n      <th>2</th>\n      <td>schalömchen scheiße haben wir uns heute kosche...</td>\n      <td>5</td>\n      <td>schalömchen scheiße haben wir uns heute kosche...</td>\n      <td>schalömchen scheiße heute koscher weggeknallt ...</td>\n      <td>schalömch scheiße haben wir sich heute kosch w...</td>\n      <td>0.283333</td>\n      <td>3.566667</td>\n    </tr>\n    <tr>\n      <th>3</th>\n      <td>essen war allenfalls ok muss ich nicht nochmal...</td>\n      <td>2</td>\n      <td>essen war allenfalls ok muss ich nicht nochmal...</td>\n      <td>essen allenfalls ok nochmal insgesamt erlebnis...</td>\n      <td>essen sein allenfalls ok mussen ich nicht noch...</td>\n      <td>0.133333</td>\n      <td>3.266667</td>\n    </tr>\n    <tr>\n      <th>4</th>\n      <td>waren auf  empfehlung dort und wurden nicht en...</td>\n      <td>5</td>\n      <td>waren auf  empfehlung dort und wurden nicht en...</td>\n      <td>empfehlung wurden enttäuscht hammer ambiente h...</td>\n      <td>sein auf   empfehlung dort und werden nicht en...</td>\n      <td>0.750000</td>\n      <td>4.500000</td>\n    </tr>\n  </tbody>\n</table>\n</div>"
     },
     "execution_count": 2,
     "metadata": {},
     "output_type": "execute_result"
    }
   ],
   "source": [
    "yelp = pd.read_csv('yelp_cleaned_sentiscored.csv')\n",
    "yelp.head()"
   ],
   "metadata": {
    "collapsed": false
   }
  },
  {
   "cell_type": "code",
   "execution_count": 3,
   "outputs": [
    {
     "data": {
      "text/plain": "(9706, 38255)"
     },
     "execution_count": 3,
     "metadata": {},
     "output_type": "execute_result"
    }
   ],
   "source": [
    "# Q: https://melaniewalsh.github.io/Intro-Cultural-Analytics/05-Text-Analysis/03-TF-IDF-Scikit-Learn.html\n",
    "# setting lower and upper frequency thresholds as done in reference paper Luo, Xu\n",
    "# max_features: int, default=None --> If not None, build a vocabulary that only considers the top\n",
    "# max_features ordered by term frequency across the corpus\n",
    "# max/min_df: ignore terms that have a document frequency strictly higher/lower than given threshold\n",
    "# doc_frequency=0.8\n",
    "# min_absolute_frequency=5\n",
    "# max_features = 15000\n",
    "# norm='l2'\n",
    "#tfidf = TfidfVectorizer(min_df=min_absolute_frequency, max_df=doc_frequency)\n",
    "tfidf = TfidfVectorizer()\n",
    "X_tfidf = tfidf.fit_transform(yelp['Lemmatized_Comment'])\n",
    "#print(X_tfidf)\n",
    "y = yelp['Rating']\n",
    "X_tfidf.shape"
   ],
   "metadata": {
    "collapsed": false
   }
  },
  {
   "cell_type": "markdown",
   "source": [
    "## Re-sampling & Split TF-IDF dataset in train-dev-test using seed"
   ],
   "metadata": {
    "collapsed": false
   }
  },
  {
   "cell_type": "code",
   "execution_count": 4,
   "outputs": [],
   "source": [
    "from sklearn.model_selection import train_test_split\n",
    "# Set a seed to guarantee same records for train, dev and test datasets are used\n",
    "seed=101010\n",
    "\n",
    "X_train_dev, X_test, y_train_dev, y_test = train_test_split(X_tfidf, y, test_size = 0.1, random_state=seed)\n",
    "X_train, X_dev, y_train, y_dev = train_test_split(X_train_dev, y_train_dev, test_size = 0.1, random_state=seed)"
   ],
   "metadata": {
    "collapsed": false
   }
  },
  {
   "cell_type": "markdown",
   "source": [
    "### Dealing with an imbalanced Dataset: Classes 1, 2 and 3 are underrepresented in our corpus\n",
    "\n",
    "Due to the size of the present corpus, we chose to resample the train dataset using: oversampling and combined under-and oversampling.\n",
    "2 Oversampling Methods are tested below: Random Oversampler, ADASYN (Adaptive Synthetic Sampling).\n",
    "SMOTETomek (SMOTE + Tomek Link Removal) was chosen for combined under-and oversampling.\n",
    "\n",
    "Q:\n",
    "https://medium.com/analytics-vidhya/re-sampling-imbalanced-training-corpus-for-sentiment-analysis-c9dc97f9eae1\n",
    "https://imbalanced-learn.org/stable/references/index.html\n"
   ],
   "metadata": {
    "collapsed": false
   }
  },
  {
   "cell_type": "code",
   "execution_count": 5,
   "outputs": [
    {
     "data": {
      "text/plain": "<AxesSubplot: ylabel='Frequency'>"
     },
     "execution_count": 5,
     "metadata": {},
     "output_type": "execute_result"
    },
    {
     "data": {
      "text/plain": "<Figure size 640x480 with 1 Axes>",
      "image/png": "[encoded data removed]"
     },
     "metadata": {},
     "output_type": "display_data"
    }
   ],
   "source": [
    "yelp['Rating'].plot.hist(grid=True, bins=5)"
   ],
   "metadata": {
    "collapsed": false
   }
  },
  {
   "cell_type": "code",
   "execution_count": 9,
   "outputs": [],
   "source": [
    "from sklearn.utils import resample\n",
    "from imblearn.over_sampling import SMOTE, ADASYN, RandomOverSampler\n",
    "from imblearn.combine import SMOTETomek"
   ],
   "metadata": {
    "collapsed": false
   }
  },
  {
   "cell_type": "code",
   "execution_count": 12,
   "outputs": [],
   "source": [
    "#Random Oversampler duplicates entries for minority classes\n",
    "ros = RandomOverSampler(random_state=42)\n",
    "ROS_X_train, ROS_y_train = ros.fit_resample(X_train, y_train)\n",
    "# Adaptive synthetic sampling generates additional data for minority class samples which are more difficult to learn\n",
    "ad = ADASYN(random_state=42)\n",
    "ad_X_train, ad_y_train = ad.fit_resample(X_train, y_train)"
   ],
   "metadata": {
    "collapsed": false
   }
  },
  {
   "cell_type": "code",
   "execution_count": 14,
   "outputs": [],
   "source": [
    "smtom = SMOTETomek(random_state=42)\n",
    "tom_X_train, tom_y_train = smtom.fit_resample(X_train, y_train)"
   ],
   "metadata": {
    "collapsed": false
   }
  },
  {
   "cell_type": "markdown",
   "source": [
    "#### Comparison of dataset size after re-sampling\n"
   ],
   "metadata": {
    "collapsed": false
   }
  },
  {
   "cell_type": "code",
   "execution_count": 15,
   "outputs": [
    {
     "data": {
      "text/plain": "   Baseline   ROS  ADASYN  SMOTETomek\n1       389  3727    3757        3727\n2       471  3727    3802        3727\n3      1033  3727    3649        3726\n4      2241  3727    4124        3722\n5      3727  3727    3727        3721",
      "text/html": "<div>\n<style scoped>\n    .dataframe tbody tr th:only-of-type {\n        vertical-align: middle;\n    }\n\n    .dataframe tbody tr th {\n        vertical-align: top;\n    }\n\n    .dataframe thead th {\n        text-align: right;\n    }\n</style>\n<table border=\"1\" class=\"dataframe\">\n  <thead>\n    <tr style=\"text-align: right;\">\n      <th></th>\n      <th>Baseline</th>\n      <th>ROS</th>\n      <th>ADASYN</th>\n      <th>SMOTETomek</th>\n    </tr>\n  </thead>\n  <tbody>\n    <tr>\n      <th>1</th>\n      <td>389</td>\n      <td>3727</td>\n      <td>3757</td>\n      <td>3727</td>\n    </tr>\n    <tr>\n      <th>2</th>\n      <td>471</td>\n      <td>3727</td>\n      <td>3802</td>\n      <td>3727</td>\n    </tr>\n    <tr>\n      <th>3</th>\n      <td>1033</td>\n      <td>3727</td>\n      <td>3649</td>\n      <td>3726</td>\n    </tr>\n    <tr>\n      <th>4</th>\n      <td>2241</td>\n      <td>3727</td>\n      <td>4124</td>\n      <td>3722</td>\n    </tr>\n    <tr>\n      <th>5</th>\n      <td>3727</td>\n      <td>3727</td>\n      <td>3727</td>\n      <td>3721</td>\n    </tr>\n  </tbody>\n</table>\n</div>"
     },
     "execution_count": 15,
     "metadata": {},
     "output_type": "execute_result"
    }
   ],
   "source": [
    "pd.DataFrame({'Baseline':pd.Series(y_train).value_counts(),\n",
    "              'ROS':pd.Series(ROS_y_train).value_counts(),\n",
    "              'ADASYN':pd.Series(ad_y_train).value_counts(),\n",
    "              'SMOTETomek':pd.Series(tom_y_train).value_counts()})"
   ],
   "metadata": {
    "collapsed": false
   }
  },
  {
   "cell_type": "markdown",
   "source": [
    "#### Selection of best regression model for TF-IDF-based Prediction of \"Rating\"\n",
    "\n",
    "https://www.simplilearn.com/tutorials/scikit-learn-tutorial/sklearn-regression-models"
   ],
   "metadata": {
    "collapsed": false
   }
  },
  {
   "cell_type": "code",
   "execution_count": 16,
   "outputs": [],
   "source": [
    "from sklearn.svm import LinearSVR\n",
    "from sklearn.linear_model import LinearRegression, SGDRegressor, Ridge, Lasso\n",
    "from sklearn.dummy import DummyRegressor\n",
    "regressors = [LinearRegression(),\n",
    "              SGDRegressor(), #Stochastic Gradient Descent Regression\n",
    "              Ridge(),\n",
    "              Lasso(),\n",
    "              LinearSVR(),#Support Vector Machine\n",
    "              DummyRegressor()]\n"
   ],
   "metadata": {
    "collapsed": false
   }
  },
  {
   "cell_type": "markdown",
   "source": [
    "#### All regressors will be trained using the Baseline, Oversampled, and Combined under- and oversampled train dataset"
   ],
   "metadata": {
    "collapsed": false
   }
  },
  {
   "cell_type": "code",
   "execution_count": 18,
   "outputs": [],
   "source": [
    "from sklearn.metrics import mean_absolute_error, mean_squared_error, max_error\n",
    "import time\n",
    "\n",
    "\n",
    "def model_eval(xtrain,ytrain,reg_list=regressors):\n",
    "    Name = []\n",
    "    mae=[]\n",
    "    mse = []\n",
    "    maxerr=[]\n",
    "    Time_Taken = []\n",
    "    current_min=4\n",
    "    best_model=reg_list[0] ; best_pred=0 ; best_name=LinearRegression()\n",
    "\n",
    "    for model in reg_list:\n",
    "        model = model\n",
    "        name = str(model)\n",
    "        Name.append(name)\n",
    "        begin = time.time()\n",
    "        model.fit(xtrain,ytrain)\n",
    "        prediction = model.predict(X_dev)\n",
    "        end = time.time()\n",
    "\n",
    "        if mean_absolute_error(y_dev,prediction) < current_min:\n",
    "            current_min = mean_absolute_error(y_dev,prediction)\n",
    "            best_model = model\n",
    "            best_name = name\n",
    "            best_pred = prediction\n",
    "\n",
    "        mse.append(mean_squared_error(y_dev,prediction))\n",
    "        mae.append(mean_absolute_error(y_dev,prediction))\n",
    "        maxerr.append(max_error(y_dev,prediction))\n",
    "        Time_Taken.append(end-begin)\n",
    "        print(name + ' Successfully Trained')\n",
    "\n",
    "    Dict = {'Regressor':Name,'MAE':mae,'MSE':mse,'Max. Error':maxerr,'Time Taken':Time_Taken}\n",
    "    model_df = pd.DataFrame(Dict)\n",
    "    model_df=model_df.sort_values(by=['MAE'], ascending=True, ignore_index=True)\n",
    "\n",
    "    return [best_model,best_pred,best_name,model_df,mae,mse,maxerr,Time_Taken]"
   ],
   "metadata": {
    "collapsed": false
   }
  },
  {
   "cell_type": "markdown",
   "source": [
    "#### Modelling: Baseline"
   ],
   "metadata": {
    "collapsed": false
   }
  },
  {
   "cell_type": "code",
   "execution_count": 19,
   "outputs": [
    {
     "name": "stdout",
     "output_type": "stream",
     "text": [
      "LinearRegression() Successfully Trained\n",
      "SGDRegressor() Successfully Trained\n",
      "Ridge() Successfully Trained\n",
      "Lasso() Successfully Trained\n",
      "LinearSVR() Successfully Trained\n",
      "DummyRegressor() Successfully Trained\n"
     ]
    },
    {
     "data": {
      "text/plain": "            Regressor       MAE       MSE  Max. Error  Time Taken\n0         LinearSVR()  0.597869  0.629730    3.512287    0.128541\n1             Ridge()  0.610349  0.623456    3.388318    0.080308\n2      SGDRegressor()  0.819717  1.060394    2.987309    0.519100\n3             Lasso()  0.872364  1.250645    3.074418    0.443312\n4    DummyRegressor()  0.872364  1.250645    3.074418    0.000000\n5  LinearRegression()  1.327471  2.897847    5.641654    5.503523",
      "text/html": "<div>\n<style scoped>\n    .dataframe tbody tr th:only-of-type {\n        vertical-align: middle;\n    }\n\n    .dataframe tbody tr th {\n        vertical-align: top;\n    }\n\n    .dataframe thead th {\n        text-align: right;\n    }\n</style>\n<table border=\"1\" class=\"dataframe\">\n  <thead>\n    <tr style=\"text-align: right;\">\n      <th></th>\n      <th>Regressor</th>\n      <th>MAE</th>\n      <th>MSE</th>\n      <th>Max. Error</th>\n      <th>Time Taken</th>\n    </tr>\n  </thead>\n  <tbody>\n    <tr>\n      <th>0</th>\n      <td>LinearSVR()</td>\n      <td>0.597869</td>\n      <td>0.629730</td>\n      <td>3.512287</td>\n      <td>0.128541</td>\n    </tr>\n    <tr>\n      <th>1</th>\n      <td>Ridge()</td>\n      <td>0.610349</td>\n      <td>0.623456</td>\n      <td>3.388318</td>\n      <td>0.080308</td>\n    </tr>\n    <tr>\n      <th>2</th>\n      <td>SGDRegressor()</td>\n      <td>0.819717</td>\n      <td>1.060394</td>\n      <td>2.987309</td>\n      <td>0.519100</td>\n    </tr>\n    <tr>\n      <th>3</th>\n      <td>Lasso()</td>\n      <td>0.872364</td>\n      <td>1.250645</td>\n      <td>3.074418</td>\n      <td>0.443312</td>\n    </tr>\n    <tr>\n      <th>4</th>\n      <td>DummyRegressor()</td>\n      <td>0.872364</td>\n      <td>1.250645</td>\n      <td>3.074418</td>\n      <td>0.000000</td>\n    </tr>\n    <tr>\n      <th>5</th>\n      <td>LinearRegression()</td>\n      <td>1.327471</td>\n      <td>2.897847</td>\n      <td>5.641654</td>\n      <td>5.503523</td>\n    </tr>\n  </tbody>\n</table>\n</div>"
     },
     "execution_count": 19,
     "metadata": {},
     "output_type": "execute_result"
    }
   ],
   "source": [
    "results_baseline = model_eval(xtrain = X_train, ytrain = y_train)\n",
    "results_baseline[3]"
   ],
   "metadata": {
    "collapsed": false
   }
  },
  {
   "cell_type": "markdown",
   "source": [
    "#### Modelling: Random Oversampler (ROS)"
   ],
   "metadata": {
    "collapsed": false
   }
  },
  {
   "cell_type": "code",
   "execution_count": 20,
   "outputs": [
    {
     "name": "stdout",
     "output_type": "stream",
     "text": [
      "LinearRegression() Successfully Trained\n",
      "SGDRegressor() Successfully Trained\n",
      "Ridge() Successfully Trained\n",
      "Lasso() Successfully Trained\n",
      "LinearSVR() Successfully Trained\n",
      "DummyRegressor() Successfully Trained\n"
     ]
    },
    {
     "data": {
      "text/plain": "            Regressor       MAE       MSE  Max. Error  Time Taken\n0             Ridge()  0.679603  0.735213    3.156796    0.266774\n1         LinearSVR()  0.708575  0.805897    3.474628    0.596298\n2      SGDRegressor()  0.933514  1.327424    3.513298    1.520955\n3  LinearRegression()  1.321226  2.871689    5.573410   14.917488\n4             Lasso()  1.430206  2.505721    2.000000    1.048529\n5    DummyRegressor()  1.430206  2.505721    2.000000    0.001009",
      "text/html": "<div>\n<style scoped>\n    .dataframe tbody tr th:only-of-type {\n        vertical-align: middle;\n    }\n\n    .dataframe tbody tr th {\n        vertical-align: top;\n    }\n\n    .dataframe thead th {\n        text-align: right;\n    }\n</style>\n<table border=\"1\" class=\"dataframe\">\n  <thead>\n    <tr style=\"text-align: right;\">\n      <th></th>\n      <th>Regressor</th>\n      <th>MAE</th>\n      <th>MSE</th>\n      <th>Max. Error</th>\n      <th>Time Taken</th>\n    </tr>\n  </thead>\n  <tbody>\n    <tr>\n      <th>0</th>\n      <td>Ridge()</td>\n      <td>0.679603</td>\n      <td>0.735213</td>\n      <td>3.156796</td>\n      <td>0.266774</td>\n    </tr>\n    <tr>\n      <th>1</th>\n      <td>LinearSVR()</td>\n      <td>0.708575</td>\n      <td>0.805897</td>\n      <td>3.474628</td>\n      <td>0.596298</td>\n    </tr>\n    <tr>\n      <th>2</th>\n      <td>SGDRegressor()</td>\n      <td>0.933514</td>\n      <td>1.327424</td>\n      <td>3.513298</td>\n      <td>1.520955</td>\n    </tr>\n    <tr>\n      <th>3</th>\n      <td>LinearRegression()</td>\n      <td>1.321226</td>\n      <td>2.871689</td>\n      <td>5.573410</td>\n      <td>14.917488</td>\n    </tr>\n    <tr>\n      <th>4</th>\n      <td>Lasso()</td>\n      <td>1.430206</td>\n      <td>2.505721</td>\n      <td>2.000000</td>\n      <td>1.048529</td>\n    </tr>\n    <tr>\n      <th>5</th>\n      <td>DummyRegressor()</td>\n      <td>1.430206</td>\n      <td>2.505721</td>\n      <td>2.000000</td>\n      <td>0.001009</td>\n    </tr>\n  </tbody>\n</table>\n</div>"
     },
     "execution_count": 20,
     "metadata": {},
     "output_type": "execute_result"
    }
   ],
   "source": [
    "results_ros = model_eval(xtrain = ROS_X_train, ytrain = ROS_y_train)\n",
    "results_ros[3]"
   ],
   "metadata": {
    "collapsed": false
   }
  },
  {
   "cell_type": "markdown",
   "source": [
    "#### Modelling: ADASYN"
   ],
   "metadata": {
    "collapsed": false
   }
  },
  {
   "cell_type": "code",
   "execution_count": 23,
   "outputs": [
    {
     "name": "stdout",
     "output_type": "stream",
     "text": [
      "LinearRegression() Successfully Trained\n",
      "SGDRegressor() Successfully Trained\n",
      "Ridge() Successfully Trained\n",
      "Lasso() Successfully Trained\n",
      "LinearSVR() Successfully Trained\n",
      "DummyRegressor() Successfully Trained\n"
     ]
    },
    {
     "data": {
      "text/plain": "            Regressor       MAE       MSE  Max. Error  Time Taken\n0             Ridge()  0.664620  0.709662    3.188193    0.474814\n1         LinearSVR()  0.707083  0.802001    3.368115    6.394428\n2      SGDRegressor()  0.937380  1.344496    3.374168    1.876544\n3  LinearRegression()  1.321913  2.870677    5.567950   25.199212\n4             Lasso()  1.422530  2.475082    2.013747    1.194506\n5    DummyRegressor()  1.422530  2.475082    2.013747    0.001001",
      "text/html": "<div>\n<style scoped>\n    .dataframe tbody tr th:only-of-type {\n        vertical-align: middle;\n    }\n\n    .dataframe tbody tr th {\n        vertical-align: top;\n    }\n\n    .dataframe thead th {\n        text-align: right;\n    }\n</style>\n<table border=\"1\" class=\"dataframe\">\n  <thead>\n    <tr style=\"text-align: right;\">\n      <th></th>\n      <th>Regressor</th>\n      <th>MAE</th>\n      <th>MSE</th>\n      <th>Max. Error</th>\n      <th>Time Taken</th>\n    </tr>\n  </thead>\n  <tbody>\n    <tr>\n      <th>0</th>\n      <td>Ridge()</td>\n      <td>0.664620</td>\n      <td>0.709662</td>\n      <td>3.188193</td>\n      <td>0.474814</td>\n    </tr>\n    <tr>\n      <th>1</th>\n      <td>LinearSVR()</td>\n      <td>0.707083</td>\n      <td>0.802001</td>\n      <td>3.368115</td>\n      <td>6.394428</td>\n    </tr>\n    <tr>\n      <th>2</th>\n      <td>SGDRegressor()</td>\n      <td>0.937380</td>\n      <td>1.344496</td>\n      <td>3.374168</td>\n      <td>1.876544</td>\n    </tr>\n    <tr>\n      <th>3</th>\n      <td>LinearRegression()</td>\n      <td>1.321913</td>\n      <td>2.870677</td>\n      <td>5.567950</td>\n      <td>25.199212</td>\n    </tr>\n    <tr>\n      <th>4</th>\n      <td>Lasso()</td>\n      <td>1.422530</td>\n      <td>2.475082</td>\n      <td>2.013747</td>\n      <td>1.194506</td>\n    </tr>\n    <tr>\n      <th>5</th>\n      <td>DummyRegressor()</td>\n      <td>1.422530</td>\n      <td>2.475082</td>\n      <td>2.013747</td>\n      <td>0.001001</td>\n    </tr>\n  </tbody>\n</table>\n</div>"
     },
     "execution_count": 23,
     "metadata": {},
     "output_type": "execute_result"
    }
   ],
   "source": [
    "results_adasyn = model_eval(xtrain = ad_X_train, ytrain = ad_y_train)\n",
    "results_adasyn[3]"
   ],
   "metadata": {
    "collapsed": false
   }
  },
  {
   "cell_type": "markdown",
   "source": [
    "#### Modelling: SMOTETomek"
   ],
   "metadata": {
    "collapsed": false
   }
  },
  {
   "cell_type": "code",
   "execution_count": 25,
   "outputs": [
    {
     "name": "stdout",
     "output_type": "stream",
     "text": [
      "LinearRegression() Successfully Trained\n",
      "SGDRegressor() Successfully Trained\n",
      "Ridge() Successfully Trained\n",
      "Lasso() Successfully Trained\n",
      "LinearSVR() Successfully Trained\n",
      "DummyRegressor() Successfully Trained\n"
     ]
    },
    {
     "data": {
      "text/plain": "            Regressor       MAE       MSE  Max. Error  Time Taken\n0             Ridge()  0.662040  0.709892    3.227537    0.453613\n1         LinearSVR()  0.698242  0.797081    3.323595    5.862775\n2      SGDRegressor()  0.932847  1.335114    3.381302    1.560962\n3  LinearRegression()  1.313952  2.826148    5.425868   25.702203\n4             Lasso()  1.430912  2.507769    2.000913    1.115051\n5    DummyRegressor()  1.430912  2.507769    2.000913    0.000000",
      "text/html": "<div>\n<style scoped>\n    .dataframe tbody tr th:only-of-type {\n        vertical-align: middle;\n    }\n\n    .dataframe tbody tr th {\n        vertical-align: top;\n    }\n\n    .dataframe thead th {\n        text-align: right;\n    }\n</style>\n<table border=\"1\" class=\"dataframe\">\n  <thead>\n    <tr style=\"text-align: right;\">\n      <th></th>\n      <th>Regressor</th>\n      <th>MAE</th>\n      <th>MSE</th>\n      <th>Max. Error</th>\n      <th>Time Taken</th>\n    </tr>\n  </thead>\n  <tbody>\n    <tr>\n      <th>0</th>\n      <td>Ridge()</td>\n      <td>0.662040</td>\n      <td>0.709892</td>\n      <td>3.227537</td>\n      <td>0.453613</td>\n    </tr>\n    <tr>\n      <th>1</th>\n      <td>LinearSVR()</td>\n      <td>0.698242</td>\n      <td>0.797081</td>\n      <td>3.323595</td>\n      <td>5.862775</td>\n    </tr>\n    <tr>\n      <th>2</th>\n      <td>SGDRegressor()</td>\n      <td>0.932847</td>\n      <td>1.335114</td>\n      <td>3.381302</td>\n      <td>1.560962</td>\n    </tr>\n    <tr>\n      <th>3</th>\n      <td>LinearRegression()</td>\n      <td>1.313952</td>\n      <td>2.826148</td>\n      <td>5.425868</td>\n      <td>25.702203</td>\n    </tr>\n    <tr>\n      <th>4</th>\n      <td>Lasso()</td>\n      <td>1.430912</td>\n      <td>2.507769</td>\n      <td>2.000913</td>\n      <td>1.115051</td>\n    </tr>\n    <tr>\n      <th>5</th>\n      <td>DummyRegressor()</td>\n      <td>1.430912</td>\n      <td>2.507769</td>\n      <td>2.000913</td>\n      <td>0.000000</td>\n    </tr>\n  </tbody>\n</table>\n</div>"
     },
     "execution_count": 25,
     "metadata": {},
     "output_type": "execute_result"
    }
   ],
   "source": [
    "results_smote = model_eval(xtrain = tom_X_train, ytrain = tom_y_train)\n",
    "results_smote[3]"
   ],
   "metadata": {
    "collapsed": false
   }
  }
 ],
 "metadata": {
  "kernelspec": {
   "display_name": "Python 3",
   "language": "python",
   "name": "python3"
  },
  "language_info": {
   "codemirror_mode": {
    "name": "ipython",
    "version": 2
   },
   "file_extension": ".py",
   "mimetype": "text/x-python",
   "name": "python",
   "nbconvert_exporter": "python",
   "pygments_lexer": "ipython2",
   "version": "2.7.6"
  }
 },
 "nbformat": 4,
 "nbformat_minor": 0
}
