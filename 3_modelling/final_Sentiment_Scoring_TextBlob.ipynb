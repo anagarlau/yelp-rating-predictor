{
 "cells": [
  {
   "cell_type": "markdown",
   "source": [
    "# Yelp Rating Predictor Hybrid Model\n",
    "\n",
    "Help for making arguments: The point in the hybrid model paper is to consider situations where you have low volumes of training \n",
    "data and have \n",
    "Description\n",
    "\n",
    "#TODO\n"
   ],
   "metadata": {
    "collapsed": false
   }
  },
  {
   "cell_type": "markdown",
   "metadata": {},
   "source": [
    "#### Load Data"
   ]
  },
  {
   "cell_type": "code",
   "execution_count": 102,
   "metadata": {},
   "outputs": [],
   "source": [
    "import pandas as pd\n",
    "yelp = pd.read_csv('../2_text_preprocessing/cleaned_data_yelp.csv')"
   ]
  },
  {
   "cell_type": "markdown",
   "metadata": {},
   "source": [
    "## First Model: Sentiment Scoring using Textblob"
   ]
  },
  {
   "cell_type": "code",
   "execution_count": 103,
   "metadata": {},
   "outputs": [],
   "source": [
    "# pip install -U textblob-de\n",
    "# python -m textblob.download_corpora\n",
    "from textblob_de import TextBlobDE as TextBlob\n",
    "import pandas as pd"
   ]
  },
  {
   "cell_type": "markdown",
   "metadata": {},
   "source": [
    "#### Compute sentiment score per comment"
   ]
  },
  {
   "cell_type": "code",
   "execution_count": 104,
   "metadata": {},
   "outputs": [],
   "source": [
    "def compute_sentiscore(text):\n",
    "    blob=TextBlob(text)\n",
    "    polarity = blob.sentiment.polarity\n",
    "    return polarity"
   ]
  },
  {
   "cell_type": "code",
   "execution_count": 105,
   "metadata": {},
   "outputs": [],
   "source": [
    "yelp['Senti_Blob'] = yelp['Lemmatized_Comment'].apply(lambda x: compute_sentiscore(x))\n",
    "yelp['Senti_Blob_Tokenized'] = yelp['Tokenized_Comment'].apply(lambda x: compute_sentiscore(x))\n",
    "#yelp['Senti_Blob_Clean'] = yelp['Clean_Comment'].apply(lambda x: compute_sentiscore(x))\n",
    "#yelp['Senti_Blob_Comment'] = yelp['Comment'].apply(lambda x: compute_sentiscore(x))"
   ]
  },
  {
   "cell_type": "markdown",
   "metadata": {},
   "source": [
    "#### Scale Sentiblob to Rating Range 1-5"
   ]
  },
  {
   "cell_type": "code",
   "execution_count": 106,
   "metadata": {},
   "outputs": [],
   "source": [
    "from sklearn.preprocessing import MinMaxScaler\n",
    "scaler = MinMaxScaler(feature_range=(1,5))\n",
    "# Create Array with specific dimension requirements to make scaler happy\n",
    "senti_blob_ar= (yelp['Senti_Blob'].values).reshape(-1, 1)\n",
    "Senti_Blob_scaled = pd.DataFrame(scaler.fit_transform(senti_blob_ar),columns=['Senti_norm'])\n",
    "# Create Array with specific dimension requirements to make scaler happy\n",
    "senti_blob_ar= (yelp['Senti_Blob_Tokenized'].values).reshape(-1, 1)\n",
    "Senti_Blob_scaled_Tokenized = pd.DataFrame(scaler.fit_transform(senti_blob_ar),columns=['Senti_norm_Tokenized'])\n",
    "# Create Array with specific dimension requirements to make scaler happy\n",
    "#senti_blob_ar= (yelp['Senti_Blob_Clean'].values).reshape(-1, 1)\n",
    "#Senti_Blob_scaled_Clean = pd.DataFrame(scaler.fit_transform(senti_blob_ar),columns=['Senti_norm_Clean'])\n",
    "# Create Array with specific dimension requirements to make scaler happy\n",
    "#senti_blob_ar= (yelp['Senti_Blob_Comment'].values).reshape(-1, 1)\n",
    "#Senti_Blob_scaled_Comment = pd.DataFrame(scaler.fit_transform(senti_blob_ar),columns=['Senti_norm_Comment'])\n",
    "#yelp = pd.concat([yelp,Senti_Blob_scaled,Senti_Blob_scaled_Tokenized,Senti_Blob_scaled_Clean,Senti_Blob_scaled_Comment],axis=1)\n",
    "yelp = pd.concat([yelp,Senti_Blob_scaled,Senti_Blob_scaled_Tokenized],axis=1)"
   ]
  },
  {
   "cell_type": "markdown",
   "metadata": {},
   "source": [
    "#### Comparison Rating vs. TextBlob Sentiscore"
   ]
  },
  {
   "cell_type": "code",
   "execution_count": 107,
   "metadata": {},
   "outputs": [],
   "source": [
    "#Senti_Blob_scaled.plot.hist(grid=True, bins=5)"
   ]
  },
  {
   "cell_type": "code",
   "execution_count": 108,
   "metadata": {},
   "outputs": [],
   "source": [
    "#yelp['Rating'].plot.hist(grid=True, bins=5)"
   ]
  },
  {
   "cell_type": "code",
   "execution_count": 109,
   "metadata": {},
   "outputs": [],
   "source": [
    "yelp.to_csv('yelp_cleaned_sentiscored.csv',header=True, index=False)"
   ]
  },
  {
   "cell_type": "markdown",
   "metadata": {},
   "source": [
    "## Second Model: TF-IDF Regression"
   ]
  },
  {
   "cell_type": "code",
   "execution_count": 110,
   "metadata": {},
   "outputs": [],
   "source": [
    "yelp = pd.read_csv('yelp_cleaned_sentiscored.csv')"
   ]
  },
  {
   "cell_type": "code",
   "execution_count": 111,
   "metadata": {},
   "outputs": [],
   "source": [
    "import pandas as pd\n",
    "import numpy as np\n",
    "from sklearn.feature_extraction.text import TfidfVectorizer\n",
    "from sklearn.preprocessing import LabelEncoder\n",
    "from matplotlib import pyplot as plot"
   ]
  },
  {
   "cell_type": "code",
   "execution_count": 112,
   "metadata": {},
   "outputs": [
    {
     "data": {
      "text/plain": "(9706, 44432)"
     },
     "execution_count": 112,
     "metadata": {},
     "output_type": "execute_result"
    }
   ],
   "source": [
    "# Q: https://melaniewalsh.github.io/Intro-Cultural-Analytics/05-Text-Analysis/03-TF-IDF-Scikit-Learn.html\n",
    "# setting lower and upper frequency thresholds as done in reference paper Luo, Xu\n",
    "# max_features: int, default=None --> If not None, build a vocabulary that only considers the top\n",
    "# max_features ordered by term frequency across the corpus\n",
    "# max/min_df: ignore terms that have a document frequency strictly higher/lower than given threshold\n",
    "# doc_frequency=0.8\n",
    "# min_absolute_frequency=5\n",
    "# max_features = 15000\n",
    "# norm='l2'\n",
    "#tfidf = TfidfVectorizer(min_df=min_absolute_frequency, max_df=doc_frequency)\n",
    "tfidf = TfidfVectorizer()\n",
    "X_tfidf = tfidf.fit_transform(yelp['Tokenized_Comment'])\n",
    "#X_tfidf = tfidf.fit_transform(yelp['Clean_Comment'])\n",
    "#X_tfidf = tfidf.fit_transform(yelp['Lemmatized_Comment'])\n",
    "#print(X_tfidf)\n",
    "y = yelp['Rating']\n",
    "X_tfidf.shape"
   ]
  },
  {
   "cell_type": "markdown",
   "metadata": {},
   "source": [
    "#### Split TF-IDF dataset in train-dev-test using seed"
   ]
  },
  {
   "cell_type": "code",
   "execution_count": 113,
   "metadata": {},
   "outputs": [],
   "source": [
    "from sklearn.model_selection import train_test_split\n",
    "# Set a seed to guarantee same records for train, dev and test datasets are used\n",
    "seed=42\n",
    "X_train, X_rest, y_train, y_rest = train_test_split(X_tfidf, y, test_size = 0.2, random_state=seed)\n",
    "X_test, X_dev, y_test, y_dev = train_test_split(X_rest, y_rest, test_size = 0.5, random_state=seed)"
   ]
  },
  {
   "cell_type": "markdown",
   "metadata": {},
   "source": [
    "#### Dealing with an imbalanced Dataset: Classes 1, 2 and 3 are underrepresented in our corpus\n",
    "\n",
    "Due to the size of the present corpus, we chose to resample the train dataset using: oversampling and combined under-and oversampling.\n",
    "2 Oversampling Methods are tested below: Random Oversampler, ADASYN (Adaptive Synthetic Sampling).\n",
    "SMOTETomek (SMOTE + Tomek Link Removal) was chosen for combined under-and oversampling.\n",
    "\n",
    "Q:\n",
    "https://medium.com/analytics-vidhya/re-sampling-imbalanced-training-corpus-for-sentiment-analysis-c9dc97f9eae1\n",
    "https://imbalanced-learn.org/stable/references/index.html"
   ]
  },
  {
   "cell_type": "code",
   "execution_count": 114,
   "metadata": {},
   "outputs": [],
   "source": [
    "#yelp['Rating'].plot.hist(grid=True, bins=5)"
   ]
  },
  {
   "cell_type": "code",
   "execution_count": 115,
   "metadata": {},
   "outputs": [],
   "source": [
    "from imblearn.over_sampling import SMOTE, ADASYN, RandomOverSampler\n",
    "from imblearn.combine import SMOTETomek"
   ]
  },
  {
   "cell_type": "code",
   "execution_count": 116,
   "metadata": {},
   "outputs": [],
   "source": [
    "#Random Oversampler duplicates entries for minority classes\n",
    "ros = RandomOverSampler(random_state=42)\n",
    "ROS_X_train, ROS_y_train = ros.fit_resample(X_train, y_train)"
   ]
  },
  {
   "cell_type": "code",
   "execution_count": 117,
   "metadata": {},
   "outputs": [],
   "source": [
    "# Adaptive synthetic sampling generates additional data for minority class samples which are more difficult to learn\n",
    "ad = ADASYN(random_state=42)\n",
    "ad_X_train, ad_y_train = ad.fit_resample(X_train, y_train)"
   ]
  },
  {
   "cell_type": "code",
   "execution_count": 118,
   "metadata": {},
   "outputs": [],
   "source": [
    "smtom = SMOTETomek(random_state=42)\n",
    "tom_X_train, tom_y_train = smtom.fit_resample(X_train, y_train)"
   ]
  },
  {
   "cell_type": "markdown",
   "metadata": {},
   "source": [
    "#### Comparison of dataset size after re-sampling"
   ]
  },
  {
   "cell_type": "code",
   "execution_count": 119,
   "metadata": {},
   "outputs": [
    {
     "data": {
      "text/plain": "   Baseline   ROS  ADASYN  SMOTETomek\n1       393  3688    3769        3688\n2       470  3688    3835        3688\n3       992  3688    3681        3688\n4      2221  3688    4044        3682\n5      3688  3688    3688        3682",
      "text/html": "<div>\n<style scoped>\n    .dataframe tbody tr th:only-of-type {\n        vertical-align: middle;\n    }\n\n    .dataframe tbody tr th {\n        vertical-align: top;\n    }\n\n    .dataframe thead th {\n        text-align: right;\n    }\n</style>\n<table border=\"1\" class=\"dataframe\">\n  <thead>\n    <tr style=\"text-align: right;\">\n      <th></th>\n      <th>Baseline</th>\n      <th>ROS</th>\n      <th>ADASYN</th>\n      <th>SMOTETomek</th>\n    </tr>\n  </thead>\n  <tbody>\n    <tr>\n      <th>1</th>\n      <td>393</td>\n      <td>3688</td>\n      <td>3769</td>\n      <td>3688</td>\n    </tr>\n    <tr>\n      <th>2</th>\n      <td>470</td>\n      <td>3688</td>\n      <td>3835</td>\n      <td>3688</td>\n    </tr>\n    <tr>\n      <th>3</th>\n      <td>992</td>\n      <td>3688</td>\n      <td>3681</td>\n      <td>3688</td>\n    </tr>\n    <tr>\n      <th>4</th>\n      <td>2221</td>\n      <td>3688</td>\n      <td>4044</td>\n      <td>3682</td>\n    </tr>\n    <tr>\n      <th>5</th>\n      <td>3688</td>\n      <td>3688</td>\n      <td>3688</td>\n      <td>3682</td>\n    </tr>\n  </tbody>\n</table>\n</div>"
     },
     "execution_count": 119,
     "metadata": {},
     "output_type": "execute_result"
    }
   ],
   "source": [
    "pd.DataFrame({'Baseline':pd.Series(y_train).value_counts(),\n",
    "              'ROS':pd.Series(ROS_y_train).value_counts(),\n",
    "              'ADASYN':pd.Series(ad_y_train).value_counts(),\n",
    "              'SMOTETomek':pd.Series(tom_y_train).value_counts()})"
   ]
  },
  {
   "cell_type": "markdown",
   "metadata": {},
   "source": [
    "### Selection of best regression model for TF-IDF-based Prediction of \"Rating\"\n",
    "\n",
    "For all types of resampled datasets .... using Regressors... Function...\n",
    "\n",
    "https://www.simplilearn.com/tutorials/scikit-learn-tutorial/sklearn-regression-models"
   ]
  },
  {
   "cell_type": "code",
   "execution_count": 120,
   "metadata": {},
   "outputs": [],
   "source": [
    "from sklearn.svm import LinearSVR\n",
    "from sklearn.linear_model import LinearRegression, SGDRegressor, Ridge, Lasso\n",
    "from sklearn.dummy import DummyRegressor\n",
    "regressors = [LinearRegression(),\n",
    "              SGDRegressor(), #Stochastic Gradient Descent Regression\n",
    "              Ridge(),\n",
    "              Lasso(),\n",
    "              LinearSVR(),#Support Vector Machine\n",
    "              DummyRegressor()]"
   ]
  },
  {
   "cell_type": "code",
   "execution_count": 121,
   "metadata": {},
   "outputs": [],
   "source": [
    "from sklearn.metrics import mean_absolute_error, mean_squared_error, max_error\n",
    "import time\n",
    "\n",
    "def model_eval(xtrain,ytrain,reg_list=regressors):\n",
    "    Name = []\n",
    "    mae=[]\n",
    "    mse = []\n",
    "    maxerr=[]\n",
    "    Time_Taken = []\n",
    "    current_min=4\n",
    "    best_model=reg_list[0] ; best_pred=[] ; best_name=LinearRegression()\n",
    "\n",
    "    for model in reg_list:\n",
    "        model = model\n",
    "        name = str(model)\n",
    "        Name.append(name)\n",
    "        begin = time.time()\n",
    "        #train\n",
    "        model.fit(xtrain,ytrain)\n",
    "        #validate/predict\n",
    "        prediction = model.predict(X_dev)\n",
    "        end = time.time()\n",
    "        if mean_absolute_error(y_dev,prediction) < current_min:\n",
    "            current_min = mean_absolute_error(y_dev,prediction)\n",
    "            best_model = model\n",
    "            best_name = name\n",
    "            best_pred = prediction\n",
    "        mse.append(mean_squared_error(y_dev,prediction))\n",
    "        mae.append(mean_absolute_error(y_dev,prediction))\n",
    "        maxerr.append(max_error(y_dev,prediction))\n",
    "        Time_Taken.append(end-begin)\n",
    "        print(name + ' Successfully Trained')\n",
    "\n",
    "    Dict = {'Regressor':Name,'MAE':mae,'MSE':mse,'Max. Error':maxerr,'Time Taken':Time_Taken}\n",
    "    model_df = pd.DataFrame(Dict)\n",
    "    #sort by MAE for better visibility\n",
    "    model_df=model_df.sort_values(by=['MAE'], ascending=True, ignore_index=True)\n",
    "\n",
    "    return [best_model,best_pred,best_name,model_df,mae,mse,maxerr,Time_Taken]"
   ]
  },
  {
   "cell_type": "markdown",
   "metadata": {},
   "source": [
    "#### Training regressors using the baseline train dataset"
   ]
  },
  {
   "cell_type": "code",
   "execution_count": 122,
   "metadata": {},
   "outputs": [
    {
     "name": "stdout",
     "output_type": "stream",
     "text": [
      "LinearRegression() Successfully Trained\n",
      "SGDRegressor() Successfully Trained\n",
      "Ridge() Successfully Trained\n",
      "Lasso() Successfully Trained\n",
      "LinearSVR() Successfully Trained\n",
      "DummyRegressor() Successfully Trained\n"
     ]
    },
    {
     "data": {
      "text/plain": "            Regressor       MAE       MSE  Max. Error  Time Taken\n0             Ridge()  0.638093  0.689512    3.570621    0.051284\n1         LinearSVR()  0.645261  0.735368    4.022919    0.082633\n2      SGDRegressor()  0.817099  1.036587    3.280426    0.376224\n3             Lasso()  0.902294  1.340634    3.074317    0.467050\n4    DummyRegressor()  0.902294  1.340634    3.074317    0.001002\n5  LinearRegression()  0.950819  1.436604    5.040079    3.287895",
      "text/html": "<div>\n<style scoped>\n    .dataframe tbody tr th:only-of-type {\n        vertical-align: middle;\n    }\n\n    .dataframe tbody tr th {\n        vertical-align: top;\n    }\n\n    .dataframe thead th {\n        text-align: right;\n    }\n</style>\n<table border=\"1\" class=\"dataframe\">\n  <thead>\n    <tr style=\"text-align: right;\">\n      <th></th>\n      <th>Regressor</th>\n      <th>MAE</th>\n      <th>MSE</th>\n      <th>Max. Error</th>\n      <th>Time Taken</th>\n    </tr>\n  </thead>\n  <tbody>\n    <tr>\n      <th>0</th>\n      <td>Ridge()</td>\n      <td>0.638093</td>\n      <td>0.689512</td>\n      <td>3.570621</td>\n      <td>0.051284</td>\n    </tr>\n    <tr>\n      <th>1</th>\n      <td>LinearSVR()</td>\n      <td>0.645261</td>\n      <td>0.735368</td>\n      <td>4.022919</td>\n      <td>0.082633</td>\n    </tr>\n    <tr>\n      <th>2</th>\n      <td>SGDRegressor()</td>\n      <td>0.817099</td>\n      <td>1.036587</td>\n      <td>3.280426</td>\n      <td>0.376224</td>\n    </tr>\n    <tr>\n      <th>3</th>\n      <td>Lasso()</td>\n      <td>0.902294</td>\n      <td>1.340634</td>\n      <td>3.074317</td>\n      <td>0.467050</td>\n    </tr>\n    <tr>\n      <th>4</th>\n      <td>DummyRegressor()</td>\n      <td>0.902294</td>\n      <td>1.340634</td>\n      <td>3.074317</td>\n      <td>0.001002</td>\n    </tr>\n    <tr>\n      <th>5</th>\n      <td>LinearRegression()</td>\n      <td>0.950819</td>\n      <td>1.436604</td>\n      <td>5.040079</td>\n      <td>3.287895</td>\n    </tr>\n  </tbody>\n</table>\n</div>"
     },
     "execution_count": 122,
     "metadata": {},
     "output_type": "execute_result"
    }
   ],
   "source": [
    "results_baseline = model_eval(xtrain = X_train, ytrain = y_train)\n",
    "results_baseline[3]"
   ]
  },
  {
   "cell_type": "markdown",
   "metadata": {},
   "source": [
    "#### Training regressors using the ROS re-sampled train dataset"
   ]
  },
  {
   "cell_type": "code",
   "execution_count": 123,
   "metadata": {},
   "outputs": [
    {
     "name": "stdout",
     "output_type": "stream",
     "text": [
      "LinearRegression() Successfully Trained\n",
      "SGDRegressor() Successfully Trained\n",
      "Ridge() Successfully Trained\n",
      "Lasso() Successfully Trained\n",
      "LinearSVR() Successfully Trained\n",
      "DummyRegressor() Successfully Trained\n"
     ]
    },
    {
     "data": {
      "text/plain": "            Regressor       MAE       MSE  Max. Error  Time Taken\n0             Ridge()  0.678258  0.736699    3.503422    0.145004\n1         LinearSVR()  0.700329  0.794375    3.933126    0.512385\n2      SGDRegressor()  0.905062  1.204543    2.943334    1.069159\n3  LinearRegression()  0.948034  1.428617    5.018966   10.646540\n4             Lasso()  1.375901  2.403708    2.000000    1.128304\n5    DummyRegressor()  1.375901  2.403708    2.000000    0.000000",
      "text/html": "<div>\n<style scoped>\n    .dataframe tbody tr th:only-of-type {\n        vertical-align: middle;\n    }\n\n    .dataframe tbody tr th {\n        vertical-align: top;\n    }\n\n    .dataframe thead th {\n        text-align: right;\n    }\n</style>\n<table border=\"1\" class=\"dataframe\">\n  <thead>\n    <tr style=\"text-align: right;\">\n      <th></th>\n      <th>Regressor</th>\n      <th>MAE</th>\n      <th>MSE</th>\n      <th>Max. Error</th>\n      <th>Time Taken</th>\n    </tr>\n  </thead>\n  <tbody>\n    <tr>\n      <th>0</th>\n      <td>Ridge()</td>\n      <td>0.678258</td>\n      <td>0.736699</td>\n      <td>3.503422</td>\n      <td>0.145004</td>\n    </tr>\n    <tr>\n      <th>1</th>\n      <td>LinearSVR()</td>\n      <td>0.700329</td>\n      <td>0.794375</td>\n      <td>3.933126</td>\n      <td>0.512385</td>\n    </tr>\n    <tr>\n      <th>2</th>\n      <td>SGDRegressor()</td>\n      <td>0.905062</td>\n      <td>1.204543</td>\n      <td>2.943334</td>\n      <td>1.069159</td>\n    </tr>\n    <tr>\n      <th>3</th>\n      <td>LinearRegression()</td>\n      <td>0.948034</td>\n      <td>1.428617</td>\n      <td>5.018966</td>\n      <td>10.646540</td>\n    </tr>\n    <tr>\n      <th>4</th>\n      <td>Lasso()</td>\n      <td>1.375901</td>\n      <td>2.403708</td>\n      <td>2.000000</td>\n      <td>1.128304</td>\n    </tr>\n    <tr>\n      <th>5</th>\n      <td>DummyRegressor()</td>\n      <td>1.375901</td>\n      <td>2.403708</td>\n      <td>2.000000</td>\n      <td>0.000000</td>\n    </tr>\n  </tbody>\n</table>\n</div>"
     },
     "execution_count": 123,
     "metadata": {},
     "output_type": "execute_result"
    }
   ],
   "source": [
    "results_ros = model_eval(xtrain = ROS_X_train, ytrain = ROS_y_train)\n",
    "results_ros[3]"
   ]
  },
  {
   "cell_type": "markdown",
   "metadata": {},
   "source": [
    "#### Training regressors using the ADASYN re-sampled train dataset"
   ]
  },
  {
   "cell_type": "code",
   "execution_count": 124,
   "metadata": {},
   "outputs": [
    {
     "name": "stdout",
     "output_type": "stream",
     "text": [
      "LinearRegression() Successfully Trained\n",
      "SGDRegressor() Successfully Trained\n",
      "Ridge() Successfully Trained\n",
      "Lasso() Successfully Trained\n",
      "LinearSVR() Successfully Trained\n",
      "DummyRegressor() Successfully Trained\n"
     ]
    },
    {
     "data": {
      "text/plain": "            Regressor       MAE       MSE  Max. Error  Time Taken\n0             Ridge()  0.678321  0.739192    3.556014    0.195694\n1         LinearSVR()  0.709741  0.809988    3.878913    4.013542\n2      SGDRegressor()  0.906647  1.208220    2.986385    1.206519\n3  LinearRegression()  0.948040  1.428655    5.015484   15.035655\n4             Lasso()  1.374718  2.398613    2.002471    1.145572\n5    DummyRegressor()  1.374718  2.398613    2.002471    0.000000",
      "text/html": "<div>\n<style scoped>\n    .dataframe tbody tr th:only-of-type {\n        vertical-align: middle;\n    }\n\n    .dataframe tbody tr th {\n        vertical-align: top;\n    }\n\n    .dataframe thead th {\n        text-align: right;\n    }\n</style>\n<table border=\"1\" class=\"dataframe\">\n  <thead>\n    <tr style=\"text-align: right;\">\n      <th></th>\n      <th>Regressor</th>\n      <th>MAE</th>\n      <th>MSE</th>\n      <th>Max. Error</th>\n      <th>Time Taken</th>\n    </tr>\n  </thead>\n  <tbody>\n    <tr>\n      <th>0</th>\n      <td>Ridge()</td>\n      <td>0.678321</td>\n      <td>0.739192</td>\n      <td>3.556014</td>\n      <td>0.195694</td>\n    </tr>\n    <tr>\n      <th>1</th>\n      <td>LinearSVR()</td>\n      <td>0.709741</td>\n      <td>0.809988</td>\n      <td>3.878913</td>\n      <td>4.013542</td>\n    </tr>\n    <tr>\n      <th>2</th>\n      <td>SGDRegressor()</td>\n      <td>0.906647</td>\n      <td>1.208220</td>\n      <td>2.986385</td>\n      <td>1.206519</td>\n    </tr>\n    <tr>\n      <th>3</th>\n      <td>LinearRegression()</td>\n      <td>0.948040</td>\n      <td>1.428655</td>\n      <td>5.015484</td>\n      <td>15.035655</td>\n    </tr>\n    <tr>\n      <th>4</th>\n      <td>Lasso()</td>\n      <td>1.374718</td>\n      <td>2.398613</td>\n      <td>2.002471</td>\n      <td>1.145572</td>\n    </tr>\n    <tr>\n      <th>5</th>\n      <td>DummyRegressor()</td>\n      <td>1.374718</td>\n      <td>2.398613</td>\n      <td>2.002471</td>\n      <td>0.000000</td>\n    </tr>\n  </tbody>\n</table>\n</div>"
     },
     "execution_count": 124,
     "metadata": {},
     "output_type": "execute_result"
    }
   ],
   "source": [
    "results_adasyn = model_eval(xtrain = ad_X_train, ytrain = ad_y_train)\n",
    "results_adasyn[3]"
   ]
  },
  {
   "cell_type": "markdown",
   "metadata": {},
   "source": [
    "#### Training regressors using the SMOTETomek re-sampled train dataset"
   ]
  },
  {
   "cell_type": "code",
   "execution_count": 125,
   "metadata": {},
   "outputs": [
    {
     "name": "stdout",
     "output_type": "stream",
     "text": [
      "LinearRegression() Successfully Trained\n",
      "SGDRegressor() Successfully Trained\n",
      "Ridge() Successfully Trained\n",
      "Lasso() Successfully Trained\n",
      "LinearSVR() Successfully Trained\n",
      "DummyRegressor() Successfully Trained\n"
     ]
    },
    {
     "data": {
      "text/plain": "            Regressor       MAE       MSE  Max. Error  Time Taken\n0             Ridge()  0.677225  0.735660    3.475313    0.202185\n1         LinearSVR()  0.709363  0.807069    3.859641    2.921110\n2      SGDRegressor()  0.902671  1.198772    3.016103    1.180828\n3  LinearRegression()  0.945974  1.422351    5.006298   15.415360\n4             Lasso()  1.376638  2.405724    2.000977    1.245598\n5    DummyRegressor()  1.376638  2.405724    2.000977    0.000000",
      "text/html": "<div>\n<style scoped>\n    .dataframe tbody tr th:only-of-type {\n        vertical-align: middle;\n    }\n\n    .dataframe tbody tr th {\n        vertical-align: top;\n    }\n\n    .dataframe thead th {\n        text-align: right;\n    }\n</style>\n<table border=\"1\" class=\"dataframe\">\n  <thead>\n    <tr style=\"text-align: right;\">\n      <th></th>\n      <th>Regressor</th>\n      <th>MAE</th>\n      <th>MSE</th>\n      <th>Max. Error</th>\n      <th>Time Taken</th>\n    </tr>\n  </thead>\n  <tbody>\n    <tr>\n      <th>0</th>\n      <td>Ridge()</td>\n      <td>0.677225</td>\n      <td>0.735660</td>\n      <td>3.475313</td>\n      <td>0.202185</td>\n    </tr>\n    <tr>\n      <th>1</th>\n      <td>LinearSVR()</td>\n      <td>0.709363</td>\n      <td>0.807069</td>\n      <td>3.859641</td>\n      <td>2.921110</td>\n    </tr>\n    <tr>\n      <th>2</th>\n      <td>SGDRegressor()</td>\n      <td>0.902671</td>\n      <td>1.198772</td>\n      <td>3.016103</td>\n      <td>1.180828</td>\n    </tr>\n    <tr>\n      <th>3</th>\n      <td>LinearRegression()</td>\n      <td>0.945974</td>\n      <td>1.422351</td>\n      <td>5.006298</td>\n      <td>15.415360</td>\n    </tr>\n    <tr>\n      <th>4</th>\n      <td>Lasso()</td>\n      <td>1.376638</td>\n      <td>2.405724</td>\n      <td>2.000977</td>\n      <td>1.245598</td>\n    </tr>\n    <tr>\n      <th>5</th>\n      <td>DummyRegressor()</td>\n      <td>1.376638</td>\n      <td>2.405724</td>\n      <td>2.000977</td>\n      <td>0.000000</td>\n    </tr>\n  </tbody>\n</table>\n</div>"
     },
     "execution_count": 125,
     "metadata": {},
     "output_type": "execute_result"
    }
   ],
   "source": [
    "results_smote = model_eval(xtrain = tom_X_train, ytrain = tom_y_train)\n",
    "results_smote[3]"
   ]
  },
  {
   "cell_type": "code",
   "execution_count": 126,
   "metadata": {},
   "outputs": [],
   "source": [
    "best_model = results_adasyn[0]\n",
    "y_pred_tfidf = best_model.predict(X_tfidf)"
   ]
  },
  {
   "cell_type": "markdown",
   "metadata": {},
   "source": [
    "#### Predict Ratings for all comments using Ridge Regression and save to CSV"
   ]
  },
  {
   "cell_type": "code",
   "execution_count": 127,
   "metadata": {},
   "outputs": [],
   "source": [
    "#Add columns with prediction results from TF-IDF: raw results, scaled results\n",
    "from sklearn.preprocessing import MinMaxScaler\n",
    "scaler = MinMaxScaler(feature_range=(1,5))\n",
    "y_pred_tfidf_reshaped = (y_pred_tfidf).reshape(-1, 1)\n",
    "df_tfidf_pred = pd.DataFrame(y_pred_tfidf, columns=['TFIDF_res'])\n",
    "df_tfidf_pred_scaled = pd.DataFrame(scaler.fit_transform(y_pred_tfidf_reshaped),columns=['TFIDF_res_scaled'])\n",
    "\n",
    "yelp = pd.concat([yelp, df_tfidf_pred, df_tfidf_pred_scaled],axis=1)"
   ]
  },
  {
   "cell_type": "markdown",
   "metadata": {},
   "source": [
    "#### Visualizing Best Regressor: Ridge Regressor using ADASYN re-sampling"
   ]
  },
  {
   "cell_type": "code",
   "execution_count": 128,
   "metadata": {},
   "outputs": [
    {
     "data": {
      "text/plain": "[<matplotlib.lines.Line2D at 0x26fab8cd360>]"
     },
     "execution_count": 128,
     "metadata": {},
     "output_type": "execute_result"
    },
    {
     "data": {
      "text/plain": "<Figure size 640x480 with 1 Axes>",
      "image/png": "[encoded data removed]"
     },
     "metadata": {},
     "output_type": "display_data"
    }
   ],
   "source": [
    "plot.plot(yelp.TFIDF_res_scaled, yelp.Rating, 'x', color='green')"
   ]
  },
  {
   "cell_type": "code",
   "execution_count": 129,
   "metadata": {},
   "outputs": [],
   "source": [
    "yelp.to_csv('yelp_cleaned_sentiscored.csv',header=True, index=False)"
   ]
  },
  {
   "cell_type": "markdown",
   "metadata": {},
   "source": [
    "## Third Model: LSTM Rating Classifier using GloVe Word Embeddings\n",
    "\n",
    "Q:\n",
    "https://www.youtube.com/watch?v=nam2zR7p7Os\n",
    "https://www.youtube.com/watch?v=Wp-Wb456kSU\n",
    "https://www.tensorflow.org/api_docs/python/tf/keras/preprocessing\n",
    "https://keras.io/examples/nlp/pretrained_word_embeddings/\n",
    "https://www.youtube.com/watch?v=ivqXiW0X42Q&ab_channel=SherMuhammadDaudpota\n",
    "https://www.kaggle.com/code/francoisdubois/build-a-word-embedding-with-glove-matrix/notebook"
   ]
  },
  {
   "cell_type": "code",
   "execution_count": 130,
   "metadata": {},
   "outputs": [],
   "source": [
    "from keras.preprocessing.text import one_hot\n",
    "from keras.utils import pad_sequences\n",
    "from numpy import asarray, array\n",
    "from numpy import zeros\n",
    "from keras.preprocessing.text import Tokenizer\n",
    "from keras.models import Sequential\n",
    "from keras.layers import Dense, Flatten, Embedding, LSTM, Dropout\n",
    "import matplotlib.pyplot as plt\n",
    "from keras import optimizers\n",
    "from keras.initializers import Constant\n",
    "from keras.callbacks import EarlyStopping\n",
    "from sklearn.metrics import f1_score,precision_score,recall_score,accuracy_score,classification_report, balanced_accuracy_score"
   ]
  },
  {
   "cell_type": "code",
   "execution_count": 131,
   "metadata": {},
   "outputs": [],
   "source": [
    "yelp = pd.read_csv('yelp_cleaned_sentiscored.csv')"
   ]
  },
  {
   "cell_type": "markdown",
   "metadata": {},
   "source": [
    "#### Load GloVe Word Embeddings\n",
    "\n",
    "Use pretrained Vectors for German. Download at: https://www.deepset.ai/german-word-embeddings"
   ]
  },
  {
   "cell_type": "code",
   "execution_count": 132,
   "metadata": {},
   "outputs": [
    {
     "name": "stdout",
     "output_type": "stream",
     "text": [
      "Found 1309281 word vectors.\n"
     ]
    }
   ],
   "source": [
    "#fill dictionary with GloVe words and their embeddings\n",
    "embedding_dict = {}\n",
    "\n",
    "with open(\"vectors.txt\", \"r\",encoding='utf-8') as f:\n",
    "    for line in f:\n",
    "        values = line.split()\n",
    "        word = values[0]\n",
    "        vectors = asarray(values[1:33], 'float32')\n",
    "        embedding_dict[word] = vectors\n",
    "f.close()\n",
    "print('Found %s word vectors.' % len(embedding_dict))\n",
    "#print(embedding_dict.get(\"der\"))"
   ]
  },
  {
   "cell_type": "markdown",
   "metadata": {},
   "source": [
    "#### Encode and Pad Yelp Lemmatized Comments"
   ]
  },
  {
   "cell_type": "code",
   "execution_count": 133,
   "metadata": {},
   "outputs": [],
   "source": [
    "comments_array = asarray(yelp['Lemmatized_Comment'])\n",
    "vocab_size = 1700 #20000\n",
    "tokenizer=Tokenizer()\n",
    "# Include Comments in Tokenizer\n",
    "tokenizer.fit_on_texts(comments_array)\n",
    "# get index per word\n",
    "\n",
    "tokenizer.word_index = {key.replace(\"'\", \"\"):val for key, val in tokenizer.word_index.items()}\n",
    "#print(tokenizer.word_index)\n",
    "word_index = tokenizer.word_index"
   ]
  },
  {
   "cell_type": "code",
   "execution_count": 134,
   "metadata": {},
   "outputs": [],
   "source": [
    "encoded_comments = tokenizer.texts_to_sequences(comments_array)\n",
    "#print(encoded_comments[104:105])\n",
    "padding_size=300\n",
    "padded_cmts = pad_sequences(encoded_comments, maxlen=padding_size)"
   ]
  },
  {
   "cell_type": "markdown",
   "metadata": {},
   "source": [
    "#### Create GloVe Embedding Matrix for Yelp Comments Vocabulary"
   ]
  },
  {
   "cell_type": "code",
   "execution_count": 135,
   "metadata": {},
   "outputs": [
    {
     "name": "stdout",
     "output_type": "stream",
     "text": [
      "Colums in GloVe Embedding Matrix: 39097\n",
      "Converted 23046 words (16049 misses)\n"
     ]
    }
   ],
   "source": [
    "num_words = len(word_index) + 2\n",
    "#num_words = vocab_size\n",
    "embedding_dim = 32\n",
    "hits = 0\n",
    "misses = 0\n",
    "\n",
    "# Prepare embedding matrix\n",
    "embedding_matrix = np.zeros((num_words, embedding_dim))\n",
    "\n",
    "for word, i in word_index.items():\n",
    "    embedding_vector = embedding_dict.get(word)\n",
    "    if (embedding_vector is not None) and (len(embedding_vector) == embedding_dim):\n",
    "        # Words not found in GloVe embedding dictionary will be all-zeros.\n",
    "        # This includes the representation for \"padding\" and \"OOV\"\n",
    "        embedding_matrix[i] = embedding_vector\n",
    "        hits += 1\n",
    "    else:\n",
    "        misses += 1\n",
    "\n",
    "print(\"Colums in GloVe Embedding Matrix: %d\" % len(embedding_matrix))\n",
    "print(\"Converted %d words (%d misses)\" % (hits, misses))"
   ]
  },
  {
   "cell_type": "markdown",
   "metadata": {},
   "source": [
    "#### One-Hot Encoding of Rating\n",
    "Q: https://www.atmosera.com/blog/multiclass-classification-with-neural-networks/"
   ]
  },
  {
   "cell_type": "code",
   "execution_count": 136,
   "metadata": {},
   "outputs": [],
   "source": [
    "from tensorflow.keras.utils import to_categorical\n",
    "from sklearn.preprocessing import LabelEncoder\n",
    "# need to pre-encode labels (1-5) to (0-4) because if we do to_categorical only later on  we end up with six levels instead of 5\n",
    "# fit transform solves this issue\n",
    "yelp['Rating_Encoded'] = LabelEncoder().fit_transform(yelp['Rating'])\n",
    "# print(yelp.Rating)\n",
    "# print(to_categorical(yelp.Rating))"
   ]
  },
  {
   "cell_type": "markdown",
   "metadata": {},
   "source": [
    "#### Split LSTM dataset in train-dev-test using seed\n",
    "Q:\n",
    "https://towardsdatascience.com/how-to-split-data-into-three-sets-train-validation-and-test-and-why-e50d22d3e54c"
   ]
  },
  {
   "cell_type": "code",
   "execution_count": 137,
   "metadata": {},
   "outputs": [],
   "source": [
    "# Get 20% of total data as non-training data\n",
    "y= yelp['Rating_Encoded']\n",
    "X_train, X_rest, y_train, y_rest = train_test_split(padded_cmts, y, test_size = 0.2, random_state=seed)\n",
    "\n",
    "# Partition those 20% half into validation data and half into test data, resulting in 10% of total data for each\n",
    "X_dev, X_test, y_dev, y_test = train_test_split(X_rest, y_rest, test_size = 0.5, random_state=seed)"
   ]
  },
  {
   "cell_type": "markdown",
   "metadata": {},
   "source": [
    "#### Define LSTM Model\n",
    "\n",
    "Q:\n",
    "https://www.tensorflow.org/api_docs/python/tf/keras/callbacks/EarlyStopping\n",
    "\n",
    "https://keras.io/examples/nlp/pretrained_word_embeddings/\n",
    "\n",
    "https://scikit-learn.org/stable/modules/generated/sklearn.utils.class_weight.compute_class_weight.html"
   ]
  },
  {
   "cell_type": "code",
   "execution_count": 138,
   "metadata": {},
   "outputs": [
    {
     "name": "stdout",
     "output_type": "stream",
     "text": [
      "Model: \"sequential_2\"\n",
      "_________________________________________________________________\n",
      " Layer (type)                Output Shape              Param #   \n",
      "=================================================================\n",
      " embedding_2 (Embedding)     (None, 300, 32)           1251104   \n",
      "                                                                 \n",
      " dropout_2 (Dropout)         (None, 300, 32)           0         \n",
      "                                                                 \n",
      " lstm_2 (LSTM)               (None, 16)                3136      \n",
      "                                                                 \n",
      " dense_2 (Dense)             (None, 5)                 85        \n",
      "                                                                 \n",
      "=================================================================\n",
      "Total params: 1,254,325\n",
      "Trainable params: 1,254,325\n",
      "Non-trainable params: 0\n",
      "_________________________________________________________________\n"
     ]
    }
   ],
   "source": [
    "# This callback will stop the training when there is no improvement in\n",
    "# loss/accuracy for 'patience' parameter many consecutive epochs.\n",
    "earlyStopping = EarlyStopping(monitor='val_accuracy', patience=0)\n",
    "\n",
    "model = Sequential()\n",
    "\n",
    "\n",
    "# Include pre-trained GloVe Word Embeddings\n",
    "model.add(Embedding(\n",
    "    input_dim = num_words,\n",
    "    #embedding_dim = dim of matrix glove vectors x our dictionary\n",
    "    output_dim = embedding_dim,\n",
    "    embeddings_initializer = Constant(embedding_matrix),\n",
    "    input_length = padding_size,\n",
    "    trainable = True))\n",
    "\n",
    "# Randomly drop nodes from network layer in different iterations to prevent overfitting\n",
    "model.add(Dropout(rate=0.2))\n",
    "# LSTM layer\n",
    "model.add(LSTM(units=16, activation='tanh'))\n",
    "\n",
    "# Compress information into 5 dimensional layer, scaling into probabilities for each Rating class with the Softmax function\n",
    "model.add(Dense(units=5, activation='softmax'))\n",
    "opt = optimizers.Adam(learning_rate=5e-03)\n",
    "model.compile(optimizer=opt,\n",
    "              loss='categorical_crossentropy',\n",
    "              metrics=['accuracy'])\n",
    "model.summary()"
   ]
  },
  {
   "cell_type": "markdown",
   "metadata": {},
   "source": [
    "#### Train LSTM Model\n",
    "\n",
    "https://www.youtube.com/watch?v=Qsmn9pL5kcU"
   ]
  },
  {
   "cell_type": "code",
   "execution_count": 139,
   "metadata": {},
   "outputs": [
    {
     "name": "stdout",
     "output_type": "stream",
     "text": [
      "Epoch 1/5\n",
      "243/243 [==============================] - 56s 223ms/step - loss: 1.2300 - accuracy: 0.4799 - val_loss: 1.0868 - val_accuracy: 0.5376\n",
      "Epoch 2/5\n",
      "243/243 [==============================] - 44s 182ms/step - loss: 0.9024 - accuracy: 0.6252 - val_loss: 0.9572 - val_accuracy: 0.5901\n"
     ]
    }
   ],
   "source": [
    "hist = model.fit(X_train,\n",
    "                 to_categorical(y_train),\n",
    "                 #batch_size=16,\n",
    "                 epochs=5,\n",
    "                 callbacks=[earlyStopping],\n",
    "                 validation_data=(X_dev,to_categorical(y_dev)))"
   ]
  },
  {
   "cell_type": "code",
   "execution_count": 140,
   "metadata": {},
   "outputs": [
    {
     "name": "stdout",
     "output_type": "stream",
     "text": [
      "31/31 [==============================] - 2s 45ms/step\n",
      "0.46492746921549133\n",
      "              precision    recall  f1-score   support\n",
      "\n",
      "           0       0.52      0.27      0.36        48\n",
      "           1       0.28      0.23      0.25        71\n",
      "           2       0.34      0.37      0.35       134\n",
      "           3       0.46      0.43      0.45       267\n",
      "           4       0.73      0.80      0.76       451\n",
      "\n",
      "    accuracy                           0.57       971\n",
      "   macro avg       0.46      0.42      0.43       971\n",
      "weighted avg       0.56      0.57      0.56       971\n",
      "\n"
     ]
    }
   ],
   "source": [
    "#print(hist.history.keys())\n",
    "pred_test= np.argmax(model.predict(X_test), axis=1)\n",
    "#print(pred_test[:300])\n",
    "print(balanced_accuracy_score(pred_test,y_test))\n",
    "print(classification_report(y_test,pred_test))"
   ]
  },
  {
   "cell_type": "markdown",
   "metadata": {},
   "source": [
    "#### Show Loss across epochs"
   ]
  },
  {
   "cell_type": "code",
   "execution_count": 141,
   "metadata": {},
   "outputs": [
    {
     "data": {
      "text/plain": "<Figure size 640x480 with 1 Axes>",
      "image/png": "[encoded data removed]"
     },
     "metadata": {},
     "output_type": "display_data"
    }
   ],
   "source": [
    "plot.plot(hist.history['loss'])\n",
    "plot.plot(hist.history['val_loss'])\n",
    "plot.title('model loss')\n",
    "plot.ylabel('loss')\n",
    "plot.xlabel('epoch')\n",
    "plot.legend(['train', 'validation'], loc='upper left')\n",
    "plot.show()"
   ]
  },
  {
   "cell_type": "code",
   "execution_count": 142,
   "metadata": {},
   "outputs": [],
   "source": [
    "#yelp.drop(['LSTM','LSTM_scaled'],inplace=True,axis=1)"
   ]
  },
  {
   "cell_type": "code",
   "execution_count": 143,
   "metadata": {},
   "outputs": [
    {
     "name": "stdout",
     "output_type": "stream",
     "text": [
      "304/304 [==============================] - 15s 48ms/step\n"
     ]
    }
   ],
   "source": [
    "# Get Predictions on the full dataset (includes Train, Dev, Test predictions)\n",
    "lstm_pred = np.argmax(model.predict(padded_cmts), axis=1)\n",
    "\n",
    "# Re-code Rating prediction from 0-4 back to 0-5 range by adding 1 and saving as dataframe to join with main Yelp dataset\n",
    "df_lstm_pred_scaled = pd.DataFrame(data = lstm_pred, columns = [\"LSTM\"])\n",
    "df_lstm_pred = pd.DataFrame(data = lstm_pred + 1, columns = [\"LSTM_scaled\"])\n",
    "yelp = pd.concat([yelp, df_lstm_pred_scaled ,df_lstm_pred],axis=1)\n",
    "\n",
    "# print(np.argmax(lstm_pred, axis=1)[1])"
   ]
  },
  {
   "cell_type": "markdown",
   "metadata": {},
   "source": [
    "## Yelp Predictor Rating Hybrid Model: Putting the three models together"
   ]
  },
  {
   "cell_type": "code",
   "execution_count": 144,
   "metadata": {},
   "outputs": [],
   "source": [
    "from sklearn.linear_model import LogisticRegression\n",
    "from sklearn.tree import DecisionTreeClassifier\n",
    "from sklearn.ensemble import RandomForestClassifier, ExtraTreesClassifier\n",
    "from sklearn.multiclass import OneVsRestClassifier\n",
    "from sklearn.neighbors import KNeighborsClassifier\n",
    "from sklearn.svm import SVC\n",
    "from sklearn.naive_bayes import MultinomialNB, ComplementNB\n",
    "from sklearn.metrics import balanced_accuracy_score , classification_report, confusion_matrix, ConfusionMatrixDisplay\n",
    "from sklearn.dummy import DummyClassifier\n",
    "from sklearn import metrics\n",
    "from sklearn.metrics import f1_score,precision_score,recall_score,accuracy_score, explained_variance_score, r2_score, mean_squared_error, max_error\n",
    "from sklearn.metrics import balanced_accuracy_score , classification_report, confusion_matrix, ConfusionMatrixDisplay"
   ]
  },
  {
   "cell_type": "markdown",
   "metadata": {},
   "source": [
    "#### Split dataset in train-dev-test using seed"
   ]
  },
  {
   "cell_type": "code",
   "execution_count": 145,
   "metadata": {},
   "outputs": [
    {
     "data": {
      "text/plain": "Index(['Comment', 'Rating', 'Clean_Comment', 'Tokenized_Comment',\n       'Lemmatized_Comment', 'Senti_Blob', 'Senti_Blob_Tokenized',\n       'Senti_norm', 'Senti_norm_Tokenized', 'TFIDF_res', 'TFIDF_res_scaled',\n       'Rating_Encoded', 'LSTM', 'LSTM_scaled'],\n      dtype='object')"
     },
     "execution_count": 145,
     "metadata": {},
     "output_type": "execute_result"
    }
   ],
   "source": [
    "yelp.columns"
   ]
  },
  {
   "cell_type": "code",
   "execution_count": 146,
   "metadata": {},
   "outputs": [
    {
     "data": {
      "text/plain": "    Rating  TFIDF_res_scaled  Senti_norm  LSTM_scaled\n55       5          3.593639    4.090909            5\n56       4          3.496255    3.750000            4\n57       4          3.870625    5.000000            4\n58       5          4.272262    4.150000            5\n59       4          3.830468    3.300000            5\n60       5          3.933024    4.400000            5\n61       5          3.684782    4.828571            5\n62       4          3.339877    5.000000            4\n63       4          3.863128    4.257143            5\n64       1          1.397426    1.000000            1\n65       5          3.592266    4.473684            5",
      "text/html": "<div>\n<style scoped>\n    .dataframe tbody tr th:only-of-type {\n        vertical-align: middle;\n    }\n\n    .dataframe tbody tr th {\n        vertical-align: top;\n    }\n\n    .dataframe thead th {\n        text-align: right;\n    }\n</style>\n<table border=\"1\" class=\"dataframe\">\n  <thead>\n    <tr style=\"text-align: right;\">\n      <th></th>\n      <th>Rating</th>\n      <th>TFIDF_res_scaled</th>\n      <th>Senti_norm</th>\n      <th>LSTM_scaled</th>\n    </tr>\n  </thead>\n  <tbody>\n    <tr>\n      <th>55</th>\n      <td>5</td>\n      <td>3.593639</td>\n      <td>4.090909</td>\n      <td>5</td>\n    </tr>\n    <tr>\n      <th>56</th>\n      <td>4</td>\n      <td>3.496255</td>\n      <td>3.750000</td>\n      <td>4</td>\n    </tr>\n    <tr>\n      <th>57</th>\n      <td>4</td>\n      <td>3.870625</td>\n      <td>5.000000</td>\n      <td>4</td>\n    </tr>\n    <tr>\n      <th>58</th>\n      <td>5</td>\n      <td>4.272262</td>\n      <td>4.150000</td>\n      <td>5</td>\n    </tr>\n    <tr>\n      <th>59</th>\n      <td>4</td>\n      <td>3.830468</td>\n      <td>3.300000</td>\n      <td>5</td>\n    </tr>\n    <tr>\n      <th>60</th>\n      <td>5</td>\n      <td>3.933024</td>\n      <td>4.400000</td>\n      <td>5</td>\n    </tr>\n    <tr>\n      <th>61</th>\n      <td>5</td>\n      <td>3.684782</td>\n      <td>4.828571</td>\n      <td>5</td>\n    </tr>\n    <tr>\n      <th>62</th>\n      <td>4</td>\n      <td>3.339877</td>\n      <td>5.000000</td>\n      <td>4</td>\n    </tr>\n    <tr>\n      <th>63</th>\n      <td>4</td>\n      <td>3.863128</td>\n      <td>4.257143</td>\n      <td>5</td>\n    </tr>\n    <tr>\n      <th>64</th>\n      <td>1</td>\n      <td>1.397426</td>\n      <td>1.000000</td>\n      <td>1</td>\n    </tr>\n    <tr>\n      <th>65</th>\n      <td>5</td>\n      <td>3.592266</td>\n      <td>4.473684</td>\n      <td>5</td>\n    </tr>\n  </tbody>\n</table>\n</div>"
     },
     "execution_count": 146,
     "metadata": {},
     "output_type": "execute_result"
    }
   ],
   "source": [
    "check=yelp[['Rating','TFIDF_res_scaled','Senti_norm','LSTM_scaled']]\n",
    "check[55:66]"
   ]
  },
  {
   "cell_type": "code",
   "execution_count": 147,
   "metadata": {},
   "outputs": [],
   "source": [
    "hybrid_x = yelp[['TFIDF_res','Senti_Blob','LSTM']]\n",
    "#combinations: \n",
    "# 'TFIDF_res_scaled','Senti_Blob','LSTM_scaled' | 'TFIDF_res','Senti_Blob','LSTM_scaled'\n",
    "# 'TFIDF_res_scaled','Senti_Blob_Tokenized','LSTM_scaled'| 'TFIDF_res','Senti_Blob_Tokenized','LSTM_scaled'\n",
    "# 'TFIDF_res_scaled','Senti_Blob','LSTM' | 'TFIDF_res','Senti_Blob','LSTM'\n",
    "# 'TFIDF_res','Senti_Blob_Tokenized','LSTM' | 'TFIDF_res_scaled','Senti_Blob_Tokenized','LSTM'\n",
    "# 'TFIDF_res','Senti_Blob_Tokenized','LSTM'\n",
    "y = yelp['Rating']\n",
    "\n",
    "# Get 20% of total data as non-training data\n",
    "X_train, X_rest, y_train, y_rest = train_test_split(hybrid_x, y, test_size = 0.2, random_state=seed)\n",
    "\n",
    "# Partition those 20% half into validation data and half into test data, resulting in 10% of total data for each\n",
    "X_dev, X_test, y_dev, y_test = train_test_split(X_rest, y_rest, test_size = 0.5, random_state=seed)"
   ]
  },
  {
   "cell_type": "code",
   "execution_count": 148,
   "metadata": {},
   "outputs": [
    {
     "data": {
      "text/plain": "Index(['TFIDF_res', 'Senti_Blob', 'LSTM'], dtype='object')"
     },
     "execution_count": 148,
     "metadata": {},
     "output_type": "execute_result"
    }
   ],
   "source": [
    "hybrid_x.columns"
   ]
  },
  {
   "cell_type": "markdown",
   "metadata": {},
   "source": [
    "### Selection of best classifier model for Hybrid Prediction of \"Rating\""
   ]
  },
  {
   "cell_type": "code",
   "execution_count": 149,
   "metadata": {},
   "outputs": [],
   "source": [
    "classifiers = [LogisticRegression(),\n",
    "               KNeighborsClassifier(),\n",
    "               #ComplementNB(),\n",
    "               SVC(),\n",
    "               DecisionTreeClassifier(),\n",
    "               RandomForestClassifier(),\n",
    "               DummyClassifier()]"
   ]
  },
  {
   "cell_type": "code",
   "execution_count": 150,
   "metadata": {},
   "outputs": [],
   "source": [
    "def class_eval(xtrain,ytrain,class_list=classifiers):\n",
    "    Name = []\n",
    "    Accuracy = []\n",
    "    Accuracy_bal = []\n",
    "    Precision = []\n",
    "    F1_Score = []\n",
    "    Recall = []\n",
    "    Time_Taken = []\n",
    "    current_max=0\n",
    "\n",
    "    for model in class_list:\n",
    "        model = OneVsRestClassifier(model)\n",
    "        name = str(model)\n",
    "        Name.append(name)\n",
    "        begin = time.time()\n",
    "        model.fit(xtrain,ytrain)\n",
    "        prediction = model.predict(X_dev)\n",
    "        end = time.time()\n",
    "\n",
    "        if balanced_accuracy_score(prediction,y_dev) > current_max:\n",
    "            current_max = balanced_accuracy_score(prediction,y_dev)\n",
    "            best_model = model\n",
    "            best_name = name\n",
    "            best_pred = prediction\n",
    "            best_matrix = confusion_matrix(prediction,y_dev)\n",
    "\n",
    "        Accuracy.append(accuracy_score(prediction,y_dev))\n",
    "        Accuracy_bal.append(balanced_accuracy_score(prediction,y_dev))\n",
    "        Precision.append(precision_score(prediction,y_dev,average = 'macro'))\n",
    "        Recall.append(recall_score(prediction,y_dev,average = 'macro'))\n",
    "        F1_Score.append(f1_score(prediction,y_dev,average = 'macro'))\n",
    "        Time_Taken.append(end-begin)\n",
    "        print(name + ' Successfully Trained')\n",
    "\n",
    "    Dict = {'Name':Name,\n",
    "            'Balanced Acc.':Accuracy_bal,\n",
    "            'Accuracy':Accuracy,          \n",
    "            'Precision':Precision,\n",
    "            'F1Score':F1_Score,\n",
    "            'Recall':Recall,\n",
    "            'Time Taken':Time_Taken}\n",
    "    model_df = pd.DataFrame(Dict)\n",
    "    model_df=model_df.sort_values(by=['Accuracy'], ascending=False, ignore_index=True)\n",
    "\n",
    "    return [best_model,best_pred,best_name,best_matrix,model_df,Name,Accuracy,Precision,F1_Score,Recall,Time_Taken]"
   ]
  },
  {
   "cell_type": "markdown",
   "metadata": {},
   "source": [
    "#### Train classifiers and compare results"
   ]
  },
  {
   "cell_type": "code",
   "execution_count": 151,
   "metadata": {},
   "outputs": [
    {
     "name": "stdout",
     "output_type": "stream",
     "text": [
      "OneVsRestClassifier(estimator=LogisticRegression()) Successfully Trained\n",
      "OneVsRestClassifier(estimator=KNeighborsClassifier()) Successfully Trained\n",
      "OneVsRestClassifier(estimator=SVC()) Successfully Trained\n",
      "OneVsRestClassifier(estimator=DecisionTreeClassifier()) Successfully Trained\n",
      "OneVsRestClassifier(estimator=RandomForestClassifier()) Successfully Trained\n",
      "OneVsRestClassifier(estimator=DummyClassifier()) Successfully Trained\n"
     ]
    },
    {
     "name": "stderr",
     "output_type": "stream",
     "text": [
      "C:\\Users\\ana\\AppData\\Local\\Programs\\Python\\Python310\\lib\\site-packages\\sklearn\\utils\\deprecation.py:103: FutureWarning: `n_features_in_` is deprecated in 1.0 and will be removed in 1.2.\n",
      "  warnings.warn(msg, category=FutureWarning)\n",
      "C:\\Users\\ana\\AppData\\Local\\Programs\\Python\\Python310\\lib\\site-packages\\sklearn\\metrics\\_classification.py:2006: UserWarning: y_pred contains classes not in y_true\n",
      "  warnings.warn(\"y_pred contains classes not in y_true\")\n",
      "C:\\Users\\ana\\AppData\\Local\\Programs\\Python\\Python310\\lib\\site-packages\\sklearn\\metrics\\_classification.py:2006: UserWarning: y_pred contains classes not in y_true\n",
      "  warnings.warn(\"y_pred contains classes not in y_true\")\n",
      "C:\\Users\\ana\\AppData\\Local\\Programs\\Python\\Python310\\lib\\site-packages\\sklearn\\metrics\\_classification.py:1334: UndefinedMetricWarning: Recall is ill-defined and being set to 0.0 in labels with no true samples. Use `zero_division` parameter to control this behavior.\n",
      "  _warn_prf(average, modifier, msg_start, len(result))\n"
     ]
    },
    {
     "data": {
      "text/plain": "                                                Name  Balanced Acc.  Accuracy  \\\n0               OneVsRestClassifier(estimator=SVC())       0.503180  0.599382   \n1  OneVsRestClassifier(estimator=LogisticRegressi...       0.442446  0.548919   \n2  OneVsRestClassifier(estimator=KNeighborsClassi...       0.458878  0.547889   \n3  OneVsRestClassifier(estimator=DecisionTreeClas...       0.460352  0.546859   \n4  OneVsRestClassifier(estimator=RandomForestClas...       0.454784  0.534501   \n5   OneVsRestClassifier(estimator=DummyClassifier())       0.469619  0.469619   \n\n   Precision   F1Score    Recall  Time Taken  \n0   0.462183  0.472486  0.503180    5.852169  \n1   0.342229  0.347491  0.442446    0.276514  \n2   0.423896  0.430663  0.458878    0.200583  \n3   0.419037  0.431814  0.460352    0.167893  \n4   0.422925  0.429563  0.454784    6.896317  \n5   0.200000  0.127821  0.093924    0.012228  ",
      "text/html": "<div>\n<style scoped>\n    .dataframe tbody tr th:only-of-type {\n        vertical-align: middle;\n    }\n\n    .dataframe tbody tr th {\n        vertical-align: top;\n    }\n\n    .dataframe thead th {\n        text-align: right;\n    }\n</style>\n<table border=\"1\" class=\"dataframe\">\n  <thead>\n    <tr style=\"text-align: right;\">\n      <th></th>\n      <th>Name</th>\n      <th>Balanced Acc.</th>\n      <th>Accuracy</th>\n      <th>Precision</th>\n      <th>F1Score</th>\n      <th>Recall</th>\n      <th>Time Taken</th>\n    </tr>\n  </thead>\n  <tbody>\n    <tr>\n      <th>0</th>\n      <td>OneVsRestClassifier(estimator=SVC())</td>\n      <td>0.503180</td>\n      <td>0.599382</td>\n      <td>0.462183</td>\n      <td>0.472486</td>\n      <td>0.503180</td>\n      <td>5.852169</td>\n    </tr>\n    <tr>\n      <th>1</th>\n      <td>OneVsRestClassifier(estimator=LogisticRegressi...</td>\n      <td>0.442446</td>\n      <td>0.548919</td>\n      <td>0.342229</td>\n      <td>0.347491</td>\n      <td>0.442446</td>\n      <td>0.276514</td>\n    </tr>\n    <tr>\n      <th>2</th>\n      <td>OneVsRestClassifier(estimator=KNeighborsClassi...</td>\n      <td>0.458878</td>\n      <td>0.547889</td>\n      <td>0.423896</td>\n      <td>0.430663</td>\n      <td>0.458878</td>\n      <td>0.200583</td>\n    </tr>\n    <tr>\n      <th>3</th>\n      <td>OneVsRestClassifier(estimator=DecisionTreeClas...</td>\n      <td>0.460352</td>\n      <td>0.546859</td>\n      <td>0.419037</td>\n      <td>0.431814</td>\n      <td>0.460352</td>\n      <td>0.167893</td>\n    </tr>\n    <tr>\n      <th>4</th>\n      <td>OneVsRestClassifier(estimator=RandomForestClas...</td>\n      <td>0.454784</td>\n      <td>0.534501</td>\n      <td>0.422925</td>\n      <td>0.429563</td>\n      <td>0.454784</td>\n      <td>6.896317</td>\n    </tr>\n    <tr>\n      <th>5</th>\n      <td>OneVsRestClassifier(estimator=DummyClassifier())</td>\n      <td>0.469619</td>\n      <td>0.469619</td>\n      <td>0.200000</td>\n      <td>0.127821</td>\n      <td>0.093924</td>\n      <td>0.012228</td>\n    </tr>\n  </tbody>\n</table>\n</div>"
     },
     "execution_count": 151,
     "metadata": {},
     "output_type": "execute_result"
    }
   ],
   "source": [
    "hybrid = class_eval(xtrain = X_train, ytrain = y_train, class_list = classifiers)\n",
    "hybrid[4]"
   ]
  },
  {
   "cell_type": "markdown",
   "metadata": {},
   "source": [
    "### HyperTuning"
   ]
  },
  {
   "cell_type": "markdown",
   "metadata": {},
   "source": [
    "https://towardsdatascience.com/logistic-regression-model-tuning-with-scikit-learn-part-1-425142e01af5"
   ]
  },
  {
   "cell_type": "code",
   "execution_count": 152,
   "metadata": {},
   "outputs": [
    {
     "name": "stdout",
     "output_type": "stream",
     "text": [
      "8735\n",
      "5    4144\n",
      "4    2495\n",
      "3    1123\n",
      "2     531\n",
      "1     442\n",
      "Name: Rating, dtype: int64\n",
      "      TFIDF_res  Senti_Blob  LSTM\n",
      "4104   4.554079    0.755556     4\n",
      "3058   3.747116    0.406250     3\n",
      "7372   3.863558    0.429032     2\n",
      "7588   4.576150    0.000000     4\n",
      "393    2.962123    0.671429     2\n"
     ]
    }
   ],
   "source": [
    "# Since cross-validation is performed we don't need the Train - Dev/Val split\n",
    "X_train_tune = pd.concat([X_train,X_dev])\n",
    "y_train_tune = pd.concat([y_train,y_dev])\n",
    "print(len(X_train_tune))\n",
    "print(y_train_tune.value_counts())\n",
    "print(X_train_tune.head())"
   ]
  },
  {
   "cell_type": "code",
   "execution_count": 153,
   "metadata": {},
   "outputs": [],
   "source": [
    "# Create pipelines \n",
    "from sklearn.pipeline import Pipeline\n",
    "from sklearn.model_selection import GridSearchCV\n",
    "\n",
    "pipe = Pipeline([('classifier' , LogisticRegression())])\n",
    "#pipe = Pipeline([('classifier' , SVC())])\n",
    "\n",
    "# Create param grid.\n",
    "\n",
    "param_grid = [\n",
    "    {'classifier' : [LogisticRegression()],\n",
    "     'classifier__penalty' : ['l1', 'l2', 'elasticnet'],\n",
    "     'classifier__C' : [0.75,1,1.25],\n",
    "     'classifier__fit_intercept' : ['True','False'],\n",
    "     'classifier__class_weight' : ['balanced',None],\n",
    "    'classifier__solver' : ['lbfgs','liblinear'],\n",
    "    'classifier__multi_class' : ['multinomial','auto','ovr']},\n",
    "    {'classifier' : [SVC()],\n",
    "     'classifier__C' : [1],\n",
    "     'classifier__kernel' : ['poly', 'rbf'],\n",
    "     'classifier__degree' : [1,2,3],\n",
    "     'classifier__gamma' : ['auto','scale'],\n",
    "    'classifier__class_weight' : ['balanced',None]}\n",
    "    ]\n",
    "\n",
    "# Create grid search object\n",
    "clf = GridSearchCV(pipe, param_grid = param_grid, cv = 3, verbose=True, n_jobs=-1)"
   ]
  },
  {
   "cell_type": "code",
   "execution_count": 154,
   "metadata": {},
   "outputs": [
    {
     "name": "stdout",
     "output_type": "stream",
     "text": [
      "Fitting 3 folds for each of 240 candidates, totalling 720 fits\n"
     ]
    },
    {
     "name": "stderr",
     "output_type": "stream",
     "text": [
      "C:\\Users\\ana\\AppData\\Local\\Programs\\Python\\Python310\\lib\\site-packages\\sklearn\\model_selection\\_validation.py:378: FitFailedWarning: \n",
      "504 fits failed out of a total of 720.\n",
      "The score on these train-test partitions for these parameters will be set to nan.\n",
      "If these failures are not expected, you can try to debug them by setting error_score='raise'.\n",
      "\n",
      "Below are more details about the failures:\n",
      "--------------------------------------------------------------------------------\n",
      "108 fits failed with the following error:\n",
      "Traceback (most recent call last):\n",
      "  File \"C:\\Users\\ana\\AppData\\Local\\Programs\\Python\\Python310\\lib\\site-packages\\sklearn\\model_selection\\_validation.py\", line 686, in _fit_and_score\n",
      "    estimator.fit(X_train, y_train, **fit_params)\n",
      "  File \"C:\\Users\\ana\\AppData\\Local\\Programs\\Python\\Python310\\lib\\site-packages\\sklearn\\pipeline.py\", line 382, in fit\n",
      "    self._final_estimator.fit(Xt, y, **fit_params_last_step)\n",
      "  File \"C:\\Users\\ana\\AppData\\Local\\Programs\\Python\\Python310\\lib\\site-packages\\sklearn\\linear_model\\_logistic.py\", line 1091, in fit\n",
      "    solver = _check_solver(self.solver, self.penalty, self.dual)\n",
      "  File \"C:\\Users\\ana\\AppData\\Local\\Programs\\Python\\Python310\\lib\\site-packages\\sklearn\\linear_model\\_logistic.py\", line 61, in _check_solver\n",
      "    raise ValueError(\n",
      "ValueError: Solver lbfgs supports only 'l2' or 'none' penalties, got l1 penalty.\n",
      "\n",
      "--------------------------------------------------------------------------------\n",
      "72 fits failed with the following error:\n",
      "Traceback (most recent call last):\n",
      "  File \"C:\\Users\\ana\\AppData\\Local\\Programs\\Python\\Python310\\lib\\site-packages\\sklearn\\model_selection\\_validation.py\", line 686, in _fit_and_score\n",
      "    estimator.fit(X_train, y_train, **fit_params)\n",
      "  File \"C:\\Users\\ana\\AppData\\Local\\Programs\\Python\\Python310\\lib\\site-packages\\sklearn\\pipeline.py\", line 382, in fit\n",
      "    self._final_estimator.fit(Xt, y, **fit_params_last_step)\n",
      "  File \"C:\\Users\\ana\\AppData\\Local\\Programs\\Python\\Python310\\lib\\site-packages\\sklearn\\linear_model\\_logistic.py\", line 1149, in fit\n",
      "    multi_class = _check_multi_class(self.multi_class, solver, len(self.classes_))\n",
      "  File \"C:\\Users\\ana\\AppData\\Local\\Programs\\Python\\Python310\\lib\\site-packages\\sklearn\\linear_model\\_logistic.py\", line 97, in _check_multi_class\n",
      "    raise ValueError(\"Solver %s does not support a multinomial backend.\" % solver)\n",
      "ValueError: Solver liblinear does not support a multinomial backend.\n",
      "\n",
      "--------------------------------------------------------------------------------\n",
      "36 fits failed with the following error:\n",
      "Traceback (most recent call last):\n",
      "  File \"C:\\Users\\ana\\AppData\\Local\\Programs\\Python\\Python310\\lib\\site-packages\\sklearn\\model_selection\\_validation.py\", line 686, in _fit_and_score\n",
      "    estimator.fit(X_train, y_train, **fit_params)\n",
      "  File \"C:\\Users\\ana\\AppData\\Local\\Programs\\Python\\Python310\\lib\\site-packages\\sklearn\\pipeline.py\", line 382, in fit\n",
      "    self._final_estimator.fit(Xt, y, **fit_params_last_step)\n",
      "  File \"C:\\Users\\ana\\AppData\\Local\\Programs\\Python\\Python310\\lib\\site-packages\\sklearn\\linear_model\\_logistic.py\", line 1233, in fit\n",
      "    fold_coefs_ = Parallel(n_jobs=self.n_jobs, verbose=self.verbose, prefer=prefer)(\n",
      "  File \"C:\\Users\\ana\\AppData\\Local\\Programs\\Python\\Python310\\lib\\site-packages\\joblib\\parallel.py\", line 1085, in __call__\n",
      "    if self.dispatch_one_batch(iterator):\n",
      "  File \"C:\\Users\\ana\\AppData\\Local\\Programs\\Python\\Python310\\lib\\site-packages\\joblib\\parallel.py\", line 901, in dispatch_one_batch\n",
      "    self._dispatch(tasks)\n",
      "  File \"C:\\Users\\ana\\AppData\\Local\\Programs\\Python\\Python310\\lib\\site-packages\\joblib\\parallel.py\", line 819, in _dispatch\n",
      "    job = self._backend.apply_async(batch, callback=cb)\n",
      "  File \"C:\\Users\\ana\\AppData\\Local\\Programs\\Python\\Python310\\lib\\site-packages\\joblib\\_parallel_backends.py\", line 208, in apply_async\n",
      "    result = ImmediateResult(func)\n",
      "  File \"C:\\Users\\ana\\AppData\\Local\\Programs\\Python\\Python310\\lib\\site-packages\\joblib\\_parallel_backends.py\", line 597, in __init__\n",
      "    self.results = batch()\n",
      "  File \"C:\\Users\\ana\\AppData\\Local\\Programs\\Python\\Python310\\lib\\site-packages\\joblib\\parallel.py\", line 288, in __call__\n",
      "    return [func(*args, **kwargs)\n",
      "  File \"C:\\Users\\ana\\AppData\\Local\\Programs\\Python\\Python310\\lib\\site-packages\\joblib\\parallel.py\", line 288, in <listcomp>\n",
      "    return [func(*args, **kwargs)\n",
      "  File \"C:\\Users\\ana\\AppData\\Local\\Programs\\Python\\Python310\\lib\\site-packages\\sklearn\\utils\\fixes.py\", line 117, in __call__\n",
      "    return self.function(*args, **kwargs)\n",
      "  File \"C:\\Users\\ana\\AppData\\Local\\Programs\\Python\\Python310\\lib\\site-packages\\sklearn\\linear_model\\_logistic.py\", line 351, in _logistic_regression_path\n",
      "    (classes.size, n_features + int(fit_intercept)), order=\"F\", dtype=X.dtype\n",
      "ValueError: invalid literal for int() with base 10: 'True'\n",
      "\n",
      "--------------------------------------------------------------------------------\n",
      "108 fits failed with the following error:\n",
      "Traceback (most recent call last):\n",
      "  File \"C:\\Users\\ana\\AppData\\Local\\Programs\\Python\\Python310\\lib\\site-packages\\sklearn\\model_selection\\_validation.py\", line 686, in _fit_and_score\n",
      "    estimator.fit(X_train, y_train, **fit_params)\n",
      "  File \"C:\\Users\\ana\\AppData\\Local\\Programs\\Python\\Python310\\lib\\site-packages\\sklearn\\pipeline.py\", line 382, in fit\n",
      "    self._final_estimator.fit(Xt, y, **fit_params_last_step)\n",
      "  File \"C:\\Users\\ana\\AppData\\Local\\Programs\\Python\\Python310\\lib\\site-packages\\sklearn\\linear_model\\_logistic.py\", line 1091, in fit\n",
      "    solver = _check_solver(self.solver, self.penalty, self.dual)\n",
      "  File \"C:\\Users\\ana\\AppData\\Local\\Programs\\Python\\Python310\\lib\\site-packages\\sklearn\\linear_model\\_logistic.py\", line 61, in _check_solver\n",
      "    raise ValueError(\n",
      "ValueError: Solver lbfgs supports only 'l2' or 'none' penalties, got elasticnet penalty.\n",
      "\n",
      "--------------------------------------------------------------------------------\n",
      "108 fits failed with the following error:\n",
      "Traceback (most recent call last):\n",
      "  File \"C:\\Users\\ana\\AppData\\Local\\Programs\\Python\\Python310\\lib\\site-packages\\sklearn\\model_selection\\_validation.py\", line 686, in _fit_and_score\n",
      "    estimator.fit(X_train, y_train, **fit_params)\n",
      "  File \"C:\\Users\\ana\\AppData\\Local\\Programs\\Python\\Python310\\lib\\site-packages\\sklearn\\pipeline.py\", line 382, in fit\n",
      "    self._final_estimator.fit(Xt, y, **fit_params_last_step)\n",
      "  File \"C:\\Users\\ana\\AppData\\Local\\Programs\\Python\\Python310\\lib\\site-packages\\sklearn\\linear_model\\_logistic.py\", line 1091, in fit\n",
      "    solver = _check_solver(self.solver, self.penalty, self.dual)\n",
      "  File \"C:\\Users\\ana\\AppData\\Local\\Programs\\Python\\Python310\\lib\\site-packages\\sklearn\\linear_model\\_logistic.py\", line 71, in _check_solver\n",
      "    raise ValueError(\n",
      "ValueError: Only 'saga' solver supports elasticnet penalty, got solver=liblinear.\n",
      "\n",
      "--------------------------------------------------------------------------------\n",
      "18 fits failed with the following error:\n",
      "Traceback (most recent call last):\n",
      "  File \"C:\\Users\\ana\\AppData\\Local\\Programs\\Python\\Python310\\lib\\site-packages\\sklearn\\model_selection\\_validation.py\", line 686, in _fit_and_score\n",
      "    estimator.fit(X_train, y_train, **fit_params)\n",
      "  File \"C:\\Users\\ana\\AppData\\Local\\Programs\\Python\\Python310\\lib\\site-packages\\sklearn\\pipeline.py\", line 382, in fit\n",
      "    self._final_estimator.fit(Xt, y, **fit_params_last_step)\n",
      "  File \"C:\\Users\\ana\\AppData\\Local\\Programs\\Python\\Python310\\lib\\site-packages\\sklearn\\linear_model\\_logistic.py\", line 1233, in fit\n",
      "    fold_coefs_ = Parallel(n_jobs=self.n_jobs, verbose=self.verbose, prefer=prefer)(\n",
      "  File \"C:\\Users\\ana\\AppData\\Local\\Programs\\Python\\Python310\\lib\\site-packages\\joblib\\parallel.py\", line 1085, in __call__\n",
      "    if self.dispatch_one_batch(iterator):\n",
      "  File \"C:\\Users\\ana\\AppData\\Local\\Programs\\Python\\Python310\\lib\\site-packages\\joblib\\parallel.py\", line 901, in dispatch_one_batch\n",
      "    self._dispatch(tasks)\n",
      "  File \"C:\\Users\\ana\\AppData\\Local\\Programs\\Python\\Python310\\lib\\site-packages\\joblib\\parallel.py\", line 819, in _dispatch\n",
      "    job = self._backend.apply_async(batch, callback=cb)\n",
      "  File \"C:\\Users\\ana\\AppData\\Local\\Programs\\Python\\Python310\\lib\\site-packages\\joblib\\_parallel_backends.py\", line 208, in apply_async\n",
      "    result = ImmediateResult(func)\n",
      "  File \"C:\\Users\\ana\\AppData\\Local\\Programs\\Python\\Python310\\lib\\site-packages\\joblib\\_parallel_backends.py\", line 597, in __init__\n",
      "    self.results = batch()\n",
      "  File \"C:\\Users\\ana\\AppData\\Local\\Programs\\Python\\Python310\\lib\\site-packages\\joblib\\parallel.py\", line 288, in __call__\n",
      "    return [func(*args, **kwargs)\n",
      "  File \"C:\\Users\\ana\\AppData\\Local\\Programs\\Python\\Python310\\lib\\site-packages\\joblib\\parallel.py\", line 288, in <listcomp>\n",
      "    return [func(*args, **kwargs)\n",
      "  File \"C:\\Users\\ana\\AppData\\Local\\Programs\\Python\\Python310\\lib\\site-packages\\sklearn\\utils\\fixes.py\", line 117, in __call__\n",
      "    return self.function(*args, **kwargs)\n",
      "  File \"C:\\Users\\ana\\AppData\\Local\\Programs\\Python\\Python310\\lib\\site-packages\\sklearn\\linear_model\\_logistic.py\", line 316, in _logistic_regression_path\n",
      "    w0 = np.zeros(n_features + int(fit_intercept), dtype=X.dtype)\n",
      "ValueError: invalid literal for int() with base 10: 'True'\n",
      "\n",
      "--------------------------------------------------------------------------------\n",
      "36 fits failed with the following error:\n",
      "Traceback (most recent call last):\n",
      "  File \"C:\\Users\\ana\\AppData\\Local\\Programs\\Python\\Python310\\lib\\site-packages\\sklearn\\model_selection\\_validation.py\", line 686, in _fit_and_score\n",
      "    estimator.fit(X_train, y_train, **fit_params)\n",
      "  File \"C:\\Users\\ana\\AppData\\Local\\Programs\\Python\\Python310\\lib\\site-packages\\sklearn\\pipeline.py\", line 382, in fit\n",
      "    self._final_estimator.fit(Xt, y, **fit_params_last_step)\n",
      "  File \"C:\\Users\\ana\\AppData\\Local\\Programs\\Python\\Python310\\lib\\site-packages\\sklearn\\linear_model\\_logistic.py\", line 1233, in fit\n",
      "    fold_coefs_ = Parallel(n_jobs=self.n_jobs, verbose=self.verbose, prefer=prefer)(\n",
      "  File \"C:\\Users\\ana\\AppData\\Local\\Programs\\Python\\Python310\\lib\\site-packages\\joblib\\parallel.py\", line 1085, in __call__\n",
      "    if self.dispatch_one_batch(iterator):\n",
      "  File \"C:\\Users\\ana\\AppData\\Local\\Programs\\Python\\Python310\\lib\\site-packages\\joblib\\parallel.py\", line 901, in dispatch_one_batch\n",
      "    self._dispatch(tasks)\n",
      "  File \"C:\\Users\\ana\\AppData\\Local\\Programs\\Python\\Python310\\lib\\site-packages\\joblib\\parallel.py\", line 819, in _dispatch\n",
      "    job = self._backend.apply_async(batch, callback=cb)\n",
      "  File \"C:\\Users\\ana\\AppData\\Local\\Programs\\Python\\Python310\\lib\\site-packages\\joblib\\_parallel_backends.py\", line 208, in apply_async\n",
      "    result = ImmediateResult(func)\n",
      "  File \"C:\\Users\\ana\\AppData\\Local\\Programs\\Python\\Python310\\lib\\site-packages\\joblib\\_parallel_backends.py\", line 597, in __init__\n",
      "    self.results = batch()\n",
      "  File \"C:\\Users\\ana\\AppData\\Local\\Programs\\Python\\Python310\\lib\\site-packages\\joblib\\parallel.py\", line 288, in __call__\n",
      "    return [func(*args, **kwargs)\n",
      "  File \"C:\\Users\\ana\\AppData\\Local\\Programs\\Python\\Python310\\lib\\site-packages\\joblib\\parallel.py\", line 288, in <listcomp>\n",
      "    return [func(*args, **kwargs)\n",
      "  File \"C:\\Users\\ana\\AppData\\Local\\Programs\\Python\\Python310\\lib\\site-packages\\sklearn\\utils\\fixes.py\", line 117, in __call__\n",
      "    return self.function(*args, **kwargs)\n",
      "  File \"C:\\Users\\ana\\AppData\\Local\\Programs\\Python\\Python310\\lib\\site-packages\\sklearn\\linear_model\\_logistic.py\", line 351, in _logistic_regression_path\n",
      "    (classes.size, n_features + int(fit_intercept)), order=\"F\", dtype=X.dtype\n",
      "ValueError: invalid literal for int() with base 10: 'False'\n",
      "\n",
      "--------------------------------------------------------------------------------\n",
      "18 fits failed with the following error:\n",
      "Traceback (most recent call last):\n",
      "  File \"C:\\Users\\ana\\AppData\\Local\\Programs\\Python\\Python310\\lib\\site-packages\\sklearn\\model_selection\\_validation.py\", line 686, in _fit_and_score\n",
      "    estimator.fit(X_train, y_train, **fit_params)\n",
      "  File \"C:\\Users\\ana\\AppData\\Local\\Programs\\Python\\Python310\\lib\\site-packages\\sklearn\\pipeline.py\", line 382, in fit\n",
      "    self._final_estimator.fit(Xt, y, **fit_params_last_step)\n",
      "  File \"C:\\Users\\ana\\AppData\\Local\\Programs\\Python\\Python310\\lib\\site-packages\\sklearn\\linear_model\\_logistic.py\", line 1233, in fit\n",
      "    fold_coefs_ = Parallel(n_jobs=self.n_jobs, verbose=self.verbose, prefer=prefer)(\n",
      "  File \"C:\\Users\\ana\\AppData\\Local\\Programs\\Python\\Python310\\lib\\site-packages\\joblib\\parallel.py\", line 1085, in __call__\n",
      "    if self.dispatch_one_batch(iterator):\n",
      "  File \"C:\\Users\\ana\\AppData\\Local\\Programs\\Python\\Python310\\lib\\site-packages\\joblib\\parallel.py\", line 901, in dispatch_one_batch\n",
      "    self._dispatch(tasks)\n",
      "  File \"C:\\Users\\ana\\AppData\\Local\\Programs\\Python\\Python310\\lib\\site-packages\\joblib\\parallel.py\", line 819, in _dispatch\n",
      "    job = self._backend.apply_async(batch, callback=cb)\n",
      "  File \"C:\\Users\\ana\\AppData\\Local\\Programs\\Python\\Python310\\lib\\site-packages\\joblib\\_parallel_backends.py\", line 208, in apply_async\n",
      "    result = ImmediateResult(func)\n",
      "  File \"C:\\Users\\ana\\AppData\\Local\\Programs\\Python\\Python310\\lib\\site-packages\\joblib\\_parallel_backends.py\", line 597, in __init__\n",
      "    self.results = batch()\n",
      "  File \"C:\\Users\\ana\\AppData\\Local\\Programs\\Python\\Python310\\lib\\site-packages\\joblib\\parallel.py\", line 288, in __call__\n",
      "    return [func(*args, **kwargs)\n",
      "  File \"C:\\Users\\ana\\AppData\\Local\\Programs\\Python\\Python310\\lib\\site-packages\\joblib\\parallel.py\", line 288, in <listcomp>\n",
      "    return [func(*args, **kwargs)\n",
      "  File \"C:\\Users\\ana\\AppData\\Local\\Programs\\Python\\Python310\\lib\\site-packages\\sklearn\\utils\\fixes.py\", line 117, in __call__\n",
      "    return self.function(*args, **kwargs)\n",
      "  File \"C:\\Users\\ana\\AppData\\Local\\Programs\\Python\\Python310\\lib\\site-packages\\sklearn\\linear_model\\_logistic.py\", line 316, in _logistic_regression_path\n",
      "    w0 = np.zeros(n_features + int(fit_intercept), dtype=X.dtype)\n",
      "ValueError: invalid literal for int() with base 10: 'False'\n",
      "\n",
      "  warnings.warn(some_fits_failed_message, FitFailedWarning)\n",
      "C:\\Users\\ana\\AppData\\Local\\Programs\\Python\\Python310\\lib\\site-packages\\sklearn\\model_selection\\_search.py:953: UserWarning: One or more of the test scores are non-finite: [       nan        nan        nan        nan        nan        nan\n",
      "        nan 0.80949554        nan 0.80377194        nan        nan\n",
      "        nan 0.80949554        nan 0.80377194        nan        nan\n",
      "        nan        nan        nan        nan        nan        nan\n",
      "        nan 0.80949554        nan 0.80377194        nan        nan\n",
      "        nan 0.80961001        nan 0.80377194        nan        nan\n",
      "        nan        nan        nan        nan        nan        nan\n",
      "        nan 0.70657871        nan 0.69787864        nan        nan\n",
      "        nan 0.70669322        nan 0.69787864        nan        nan\n",
      "        nan        nan        nan        nan        nan        nan\n",
      "        nan 0.70657871        nan 0.69787864        nan        nan\n",
      "        nan 0.70657871        nan 0.69787864        nan        nan\n",
      "        nan        nan        nan        nan        nan        nan\n",
      "        nan 0.80949546        nan 0.80491662        nan        nan\n",
      "        nan 0.80972447        nan 0.80491662        nan        nan\n",
      "        nan        nan        nan        nan        nan        nan\n",
      "        nan 0.80972447        nan 0.80491662        nan        nan\n",
      "        nan 0.80972447        nan 0.80491662        nan        nan\n",
      "        nan        nan        nan        nan        nan        nan\n",
      "        nan 0.70738003        nan 0.69971014        nan        nan\n",
      "        nan 0.70738003        nan 0.69971014        nan        nan\n",
      "        nan        nan        nan        nan        nan        nan\n",
      "        nan 0.70738003        nan 0.69971014        nan        nan\n",
      "        nan 0.70738003        nan 0.69971014        nan        nan\n",
      "        nan        nan        nan        nan        nan        nan\n",
      "        nan 0.80926652        nan 0.80663393        nan        nan\n",
      "        nan 0.80938099        nan 0.80663393        nan        nan\n",
      "        nan        nan        nan        nan        nan        nan\n",
      "        nan 0.80926652        nan 0.80663393        nan        nan\n",
      "        nan 0.80926652        nan 0.80663393        nan        nan\n",
      "        nan        nan        nan        nan        nan        nan\n",
      "        nan 0.70738003        nan 0.70165635        nan        nan\n",
      "        nan 0.70738003        nan 0.70165635        nan        nan\n",
      "        nan        nan        nan        nan        nan        nan\n",
      "        nan 0.70738003        nan 0.70165635        nan        nan\n",
      "        nan 0.70738003        nan 0.70165635        nan        nan\n",
      " 0.83239069 0.83307766 0.83399368 0.83468053 0.82987229 0.83307766\n",
      " 0.83044468 0.83468053 0.82815534 0.83307766 0.8294145  0.83468053\n",
      " 0.83719928 0.83536813 0.83742853 0.83605491 0.83731367 0.83536813\n",
      " 0.83731355 0.83605491 0.83639796 0.83536813 0.83571107 0.83605491]\n",
      "  warnings.warn(\n"
     ]
    },
    {
     "name": "stdout",
     "output_type": "stream",
     "text": [
      "{'classifier': SVC(C=1, degree=1, kernel='poly'), 'classifier__C': 1, 'classifier__class_weight': None, 'classifier__degree': 1, 'classifier__gamma': 'scale', 'classifier__kernel': 'poly'}\n",
      "              precision    recall  f1-score   support\n",
      "\n",
      "           1       0.44      0.17      0.24        48\n",
      "           2       0.31      0.25      0.28        71\n",
      "           3       0.36      0.43      0.39       134\n",
      "           4       0.47      0.45      0.46       267\n",
      "           5       0.74      0.79      0.76       451\n",
      "\n",
      "    accuracy                           0.58       971\n",
      "   macro avg       0.47      0.42      0.43       971\n",
      "weighted avg       0.57      0.58      0.57       971\n",
      "\n"
     ]
    }
   ],
   "source": [
    "hyper_clf = clf.fit(X_train_tune,y_train_tune)\n",
    "best_tuned_pred = hyper_clf.predict(X_test)\n",
    "print(hyper_clf.best_params_)\n",
    "print(classification_report(y_test,best_tuned_pred))"
   ]
  },
  {
   "cell_type": "code",
   "execution_count": 154,
   "metadata": {},
   "outputs": [],
   "source": []
  }
 ],
 "metadata": {
  "kernelspec": {
   "display_name": "Python 3 (ipykernel)",
   "language": "python",
   "name": "python3"
  },
  "language_info": {
   "codemirror_mode": {
    "name": "ipython",
    "version": 3
   },
   "file_extension": ".py",
   "mimetype": "text/x-python",
   "name": "python",
   "nbconvert_exporter": "python",
   "pygments_lexer": "ipython3",
   "version": "3.9.13"
  }
 },
 "nbformat": 4,
 "nbformat_minor": 1
}
