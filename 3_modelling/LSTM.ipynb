{
 "cells": [
  {
   "cell_type": "markdown",
   "source": [
    "# LSTM Rating Classifier using Word Embeddings"
   ],
   "metadata": {
    "collapsed": false
   }
  },
  {
   "cell_type": "markdown",
   "source": [
    "Q:\n",
    "https://www.youtube.com/watch?v=nam2zR7p7Os\n",
    "https://www.youtube.com/watch?v=Wp-Wb456kSU\n",
    "https://www.tensorflow.org/api_docs/python/tf/keras/preprocessing"
   ],
   "metadata": {
    "collapsed": false
   }
  },
  {
   "cell_type": "code",
   "execution_count": 56,
   "outputs": [],
   "source": [
    "import pandas as pd\n",
    "from keras.preprocessing.text import one_hot\n",
    "from keras.utils import pad_sequences # not preprocessing.sequence (deprecated)\n",
    "from numpy import asarray , array\n",
    "from numpy import zeros\n",
    "from keras.preprocessing.text import Tokenizer\n",
    "from keras.models import Sequential\n",
    "from keras.layers import Dense, Flatten, Embedding, LSTM\n",
    "import matplotlib.pyplot as plt\n",
    "from sklearn.model_selection import train_test_split"
   ],
   "metadata": {
    "collapsed": false
   }
  },
  {
   "cell_type": "code",
   "execution_count": 57,
   "outputs": [],
   "source": [
    "yelp = pd.read_csv(\"../2_text_preprocessing/cleaned_data_yelp.csv\",index_col=None)"
   ],
   "metadata": {
    "collapsed": false
   }
  },
  {
   "cell_type": "markdown",
   "source": [
    "### Word Embeddings with Keras"
   ],
   "metadata": {
    "collapsed": false
   }
  },
  {
   "cell_type": "code",
   "execution_count": 98,
   "outputs": [
    {
     "data": {
      "text/plain": "{'essen': 1,\n 'gut': 2,\n 'lecker': 3,\n 'mal': 4,\n 'service': 5,\n 'restaurant': 6,\n 'immer': 7,\n 'schon': 8,\n 'gibt': 9,\n 'wirklich': 10,\n 'super': 11,\n 'bedienung': 12,\n 'leider': 13,\n 'mehr': 14,\n 'laden': 15,\n 'berlin': 16,\n 'freundlich': 17,\n 'einfach': 18,\n 'tisch': 19,\n 'preis': 20,\n 'küche': 21,\n 'wurde': 22,\n 'ambiente': 23,\n 'ganz': 24,\n 'preise': 25,\n 'ja': 26,\n 'abend': 27,\n 'personal': 28,\n 'gerne': 29,\n 'qualität': 30,\n 'empfehlen': 31,\n 'schnell': 32,\n 'eher': 33,\n 'speisen': 34,\n 'nett': 35,\n 'karte': 36,\n 'frisch': 37,\n 'beim': 38,\n 'fleisch': 39,\n 'besuch': 40,\n 'gute': 41,\n 'voll': 42,\n 'kommen': 43,\n 'gerichte': 44,\n 'atmosphäre': 45,\n 'zwei': 46,\n 'wurden': 47,\n 'allerdings': 48,\n 'schön': 49,\n 'euro': 50,\n 'schnitzel': 51,\n 'kellner': 52,\n 'sterne': 53,\n 'wohl': 54,\n 'recht': 55,\n 'wer': 56,\n 'wenig': 57,\n 'lokal': 58,\n 'pizza': 59,\n 'kam': 60,\n 'gab': 61,\n 'ok': 62,\n 'platz': 63,\n 'fall': 64,\n 'dafür': 65,\n 'richtig': 66,\n 'fast': 67,\n 'auswahl': 68,\n 'geht': 69,\n 'salat': 70,\n 'burger': 71,\n 'gutes': 72,\n 'bestellt': 73,\n 'gegessen': 74,\n 'geschmack': 75,\n 'absolut': 76,\n 'kleine': 77,\n 'schmeckt': 78,\n 'besser': 79,\n 'bier': 80,\n 'eur': 81,\n 'jedoch': 82,\n 'besonders': 83,\n 'eigentlich': 84,\n 'viele': 85,\n 'portionen': 86,\n 'berliner': 87,\n 'gemütlich': 88,\n 'sagen': 89,\n 'kleinen': 90,\n 'guten': 91,\n 'macht': 92,\n 'kommt': 93,\n 'vielleicht': 94,\n 'gehen': 95,\n 'aufmerksam': 96,\n 'restaurants': 97,\n 'echt': 98,\n 'leckere': 99,\n 'getränke': 100,\n 'zeit': 101,\n 'hätte': 102,\n 'gäste': 103,\n 'teller': 104,\n 'natürlich': 105,\n 'top': 106,\n 'leckeres': 107,\n 'nie': 108,\n 'bekommt': 109,\n 'lange': 110,\n 'brot': 111,\n 'nette': 112,\n 'finde': 113,\n 'gerade': 114,\n 'serviert': 115,\n 'trotzdem': 116,\n 'wein': 117,\n 'einrichtung': 118,\n 'warten': 119,\n 'ab': 120,\n 'klein': 121,\n 'mitte': 122,\n 'große': 123,\n 'toll': 124,\n 'zubereitet': 125,\n 'beste': 126,\n 'empfehlenswert': 127,\n 'direkt': 128,\n 'fazit': 129,\n 'tapas': 130,\n 'minuten': 131,\n 'wäre': 132,\n 'vorspeise': 133,\n 'unbedingt': 134,\n 'möchte': 135,\n 'heute': 136,\n 'bekommen': 137,\n 'draußen': 138,\n 'bestellen': 139,\n 'insgesamt': 140,\n 'geschmeckt': 141,\n 'paar': 142,\n 'sitzen': 143,\n 'tische': 144,\n 'gar': 145,\n 'empfehlung': 146,\n 'personen': 147,\n 'schade': 148,\n 'erst': 149,\n 'fand': 150,\n 'ordnung': 151,\n 'lassen': 152,\n 'geschmacklich': 153,\n 'vielen': 154,\n 'speisekarte': 155,\n 'laut': 156,\n 'gleich': 157,\n 'guter': 158,\n 'lage': 159,\n 'uhr': 160,\n 'oft': 161,\n 'wert': 162,\n 'ersten': 163,\n 'sicher': 164,\n 'konnte': 165,\n 'tolle': 166,\n 'angenehm': 167,\n 'satt': 168,\n 'gemacht': 169,\n 'ziemlich': 170,\n 'besten': 171,\n 'gemüse': 172,\n 'daher': 173,\n 'perfekt': 174,\n 'komme': 175,\n 'dabei': 176,\n 'obwohl': 177,\n 'mag': 178,\n 'teuer': 179,\n 'genau': 180,\n 'reservierung': 181,\n 'großen': 182,\n 'sogar': 183,\n 'begeistert': 184,\n 'groß': 185,\n 'bisschen': 186,\n 'preisen': 187,\n 'zutaten': 188,\n 'drei': 189,\n 'freundliche': 190,\n 'klasse': 191,\n 'seit': 192,\n 'zufrieden': 193,\n 'suppe': 194,\n 'reservieren': 195,\n 'liegt': 196,\n 'sowie': 197,\n 'pommes': 198,\n 'ebenfalls': 199,\n 'ganze': 200,\n 'beilagen': 201,\n 'enttäuscht': 202,\n 'abends': 203,\n 'leute': 204,\n 'vorspeisen': 205,\n 'probieren': 206,\n 'location': 207,\n 'reserviert': 208,\n 'portion': 209,\n 'sommer': 210,\n 'ca': 211,\n 'bestellung': 212,\n 'gast': 213,\n 'netter': 214,\n 'frühstück': 215,\n 'grill': 216,\n 'günstig': 217,\n 'hoch': 218,\n 'steht': 219,\n 'definitiv': 220,\n 'eben': 221,\n 'gericht': 222,\n 'trotz': 223,\n 'kaffee': 224,\n 'kleiner': 225,\n 'tag': 226,\n 'tolles': 227,\n 'kamen': 228,\n 'her': 229,\n 'kaum': 230,\n 'wegen': 231,\n 'letzten': 232,\n 'total': 233,\n 'jahren': 234,\n 'gern': 235,\n 'neben': 236,\n 'kleines': 237,\n 'vorher': 238,\n 'kurz': 239,\n 'liebe': 240,\n 'eingerichtet': 241,\n 'zuvorkommend': 242,\n 'eindruck': 243,\n 'nettes': 244,\n 'angemessen': 245,\n 'blick': 246,\n 'scharf': 247,\n 'durchaus': 248,\n 'schmeckte': 249,\n 'irgendwie': 250,\n 'schöne': 251,\n 'steak': 252,\n 'bisher': 253,\n 'preislich': 254,\n 'davon': 255,\n 'schlecht': 256,\n 'bietet': 257,\n 'leckeren': 258,\n 'finden': 259,\n 'nächsten': 260,\n 'wartezeit': 261,\n 'besucht': 262,\n 'weiß': 263,\n 'dennoch': 264,\n 'relativ': 265,\n 'erste': 266,\n 'ente': 267,\n 'hingehen': 268,\n 'art': 269,\n 'mussten': 270,\n 'findet': 271,\n 'haus': 272,\n 'sauce': 273,\n 'glück': 274,\n 'bar': 275,\n 'leistungsverhältnis': 276,\n 'gesagt': 277,\n 'bereits': 278,\n 'trinken': 279,\n 'sei': 280,\n 'schmecken': 281,\n 'danach': 282,\n 'leistung': 283,\n 'hervorragend': 284,\n 'pasta': 285,\n 'okay': 286,\n 'schönen': 287,\n 'probiert': 288,\n 'nochmal': 289,\n 'lohnt': 290,\n 'rechnung': 291,\n 'sofort': 292,\n 'reis': 293,\n 'extrem': 294,\n 'sitzt': 295,\n 'bedient': 296,\n 'ganzen': 297,\n 'endlich': 298,\n 'gewürzt': 299,\n 'völlig': 300,\n 'stern': 301,\n 'ende': 302,\n 'ansonsten': 303,\n 'dessert': 304,\n 'punkt': 305,\n 'nähe': 306,\n 'bzw': 307,\n 'fisch': 308,\n 'nachdem': 309,\n 'manchmal': 310,\n 'stadt': 311,\n 'aufgrund': 312,\n 'gehört': 313,\n 'darauf': 314,\n 'bewertungen': 315,\n 'konnten': 316,\n 'gestern': 317,\n 'freunden': 318,\n 'geben': 319,\n 'authentisch': 320,\n 'gehe': 321,\n 'frische': 322,\n 'wollten': 323,\n 'stehen': 324,\n 'später': 325,\n 'lieber': 326,\n 'ecke': 327,\n 'leicht': 328,\n 'freundin': 329,\n 'vorbei': 330,\n 'beide': 331,\n 'platte': 332,\n 'hunger': 333,\n 'halt': 334,\n 'weniger': 335,\n 'menü': 336,\n 'gerichten': 337,\n 'erwartet': 338,\n 'ging': 339,\n 'geld': 340,\n 'soße': 341,\n 'gegend': 342,\n 'extra': 343,\n 'imbiss': 344,\n 'zusammen': 345,\n 'musik': 346,\n 'sauber': 347,\n 'überhaupt': 348,\n 'ramen': 349,\n 'schmackhaft': 350,\n 'woche': 351,\n 'wasser': 352,\n 'touristen': 353,\n 'angerichtet': 354,\n 'müssen': 355,\n 'stimmt': 356,\n 'ort': 357,\n 'sowohl': 358,\n 'glas': 359,\n 'bestimmt': 360,\n 'teilweise': 361,\n 'nehmen': 362,\n 'selten': 363,\n 'schönes': 364,\n 'kellnerin': 365,\n 'sieht': 366,\n 'je': 367,\n 'sushi': 368,\n 'wiener': 369,\n 'unglaublich': 370,\n 'bestellten': 371,\n 'sehen': 372,\n 'verhältnis': 373,\n 'bitte': 374,\n 'nachtisch': 375,\n 'stück': 376,\n 'mittags': 377,\n 'begleitung': 378,\n 'genießen': 379,\n 'warum': 380,\n 'verschiedenen': 381,\n 'toller': 382,\n 'falafel': 383,\n 'lässt': 384,\n 'besonderes': 385,\n 'wedding': 386,\n 'thai': 387,\n 'drinnen': 388,\n 'angebot': 389,\n 'vergessen': 390,\n 'klar': 391,\n 'selber': 392,\n 'außerdem': 393,\n 'italiener': 394,\n 'egal': 395,\n 'kalt': 396,\n 'vier': 397,\n 'persönlich': 398,\n 'gefallen': 399,\n 'koch': 400,\n 'freund': 401,\n 'stunde': 402,\n 'angeboten': 403,\n 'besuchen': 404,\n 'passt': 405,\n 'fühlt': 406,\n 'hauptgericht': 407,\n 'entschieden': 408,\n 'hauptgang': 409,\n 'deshalb': 410,\n 'gästen': 411,\n 'käse': 412,\n 'gefühl': 413,\n 'konzept': 414,\n 'fünf': 415,\n 'wunderbar': 416,\n 'reichlich': 417,\n 'dank': 418,\n 'weine': 419,\n 'deutlich': 420,\n 'flammkuchen': 421,\n 'steaks': 422,\n 'tollen': 423,\n 'genug': 424,\n 'bedienungen': 425,\n 'burritos': 426,\n 'publikum': 427,\n 'positiv': 428,\n 'eng': 429,\n 'zumindest': 430,\n 'verschiedene': 431,\n 'schöner': 432,\n 'nudeln': 433,\n 'bekamen': 434,\n 'ne': 435,\n 'gibts': 436,\n 'hätten': 437,\n 'frischen': 438,\n 'köstlich': 439,\n 'the': 440,\n 'mann': 441,\n 'sicherlich': 442,\n 'innen': 443,\n 'freundlicher': 444,\n 'wiederkommen': 445,\n 'aufs': 446,\n 'hammer': 447,\n 'ebenso': 448,\n 'terrasse': 449,\n 'meist': 450,\n 'menge': 451,\n 'gruppe': 452,\n 'raum': 453,\n 'chef': 454,\n 'lust': 455,\n 'pizzen': 456,\n 'burrito': 457,\n 'übrigens': 458,\n 'gebracht': 459,\n 'netten': 460,\n 'wahl': 461,\n 'essens': 462,\n 'einzige': 463,\n 'vegetarische': 464,\n 'min': 465,\n 'curry': 466,\n 'gesehen': 467,\n 'ausreichend': 468,\n 'trocken': 469,\n 'tresen': 470,\n 'neue': 471,\n 'unserer': 472,\n 'straße': 473,\n 'schwer': 474,\n 'meinung': 475,\n 'freundliches': 476,\n 'caf': 477,\n 'jedenfalls': 478,\n 'leer': 479,\n 'leistungs': 480,\n 'bestellte': 481,\n 'tipp': 482,\n 'frau': 483,\n 'zweit': 484,\n 'problem': 485,\n 'weit': 486,\n 'typisch': 487,\n 'kölsch': 488,\n 'möglich': 489,\n 'bratkartoffeln': 490,\n 'scheint': 491,\n 'toiletten': 492,\n 'team': 493,\n 'wirkt': 494,\n 'zart': 495,\n 'überzeugt': 496,\n 'außen': 497,\n 'darf': 498,\n 'länger': 499,\n 'spree': 500,\n 'tee': 501,\n 'geworden': 502,\n 'tun': 503,\n 'bleibt': 504,\n 'tischen': 505,\n 'danke': 506,\n 'pro': 507,\n 'gefunden': 508,\n 'letzte': 509,\n 'überrascht': 510,\n 'drauf': 511,\n 'deutsche': 512,\n 'teil': 513,\n 'denen': 514,\n 'flasche': 515,\n 'namen': 516,\n 'plätze': 517,\n 'kuchen': 518,\n 'dolores': 519,\n 'wobei': 520,\n 'biergarten': 521,\n 'idee': 522,\n 'frei': 523,\n 'zudem': 524,\n 'gutem': 525,\n 'mittlerweile': 526,\n 'rein': 527,\n 'freunde': 528,\n 'stand': 529,\n 'wochenende': 530,\n 'tatsächlich': 531,\n 'sah': 532,\n 'beiden': 533,\n 'mitnehmen': 534,\n 'deutschen': 535,\n 'weder': 536,\n 'erwarten': 537,\n 'berlins': 538,\n 'knusprig': 539,\n 'grund': 540,\n 'mittag': 541,\n 'größe': 542,\n 'herzlich': 543,\n 'de': 544,\n 'theke': 545,\n 'nix': 546,\n 'kenne': 547,\n 'ordentlich': 548,\n 'mitarbeiter': 549,\n 'royal': 550,\n 'frage': 551,\n 'gereicht': 552,\n 'genuss': 553,\n 'bemüht': 554,\n 'kartoffeln': 555,\n 'statt': 556,\n 'jahre': 557,\n 'abzug': 558,\n 'stimmung': 559,\n 'erlebt': 560,\n 'locker': 561,\n 'ausprobieren': 562,\n 'menschen': 563,\n 'ausgezeichnet': 564,\n 'food': 565,\n 'vegetarier': 566,\n 'kosten': 567,\n 'gegangen': 568,\n 'bessere': 569,\n 'daran': 570,\n 'kartoffelsalat': 571,\n 'nachfrage': 572,\n 'fanden': 573,\n 'gelegen': 574,\n 'absolute': 575,\n 'liegen': 576,\n 'la': 577,\n 'lang': 578,\n 'gefüllt': 579,\n 'worden': 580,\n 'bezahlt': 581,\n 'hauptgerichte': 582,\n 'los': 583,\n 'peking': 584,\n 'erlebnis': 585,\n 'unfreundlich': 586,\n 'bald': 587,\n 'etc': 588,\n 'wahrscheinlich': 589,\n 'stets': 590,\n 'öfter': 591,\n 'cocktails': 592,\n 'yam': 593,\n 'gegenüber': 594,\n 'gefragt': 595,\n 'charme': 596,\n 'weitere': 597,\n 'mittagessen': 598,\n 'hauptspeise': 599,\n 'tofu': 600,\n 'saßen': 601,\n 'wissen': 602,\n 'mittagstisch': 603,\n 'fair': 604,\n 'getränk': 605,\n 'oben': 606,\n 'tür': 607,\n 'spaß': 608,\n 'suppen': 609,\n 'knapp': 610,\n 'fein': 611,\n 'traum': 612,\n 'bleiben': 613,\n 'sachen': 614,\n 'person': 615,\n 'highlight': 616,\n 'freundlichen': 617,\n 'etwa': 618,\n 'bewertung': 619,\n 'komplett': 620,\n 'medium': 621,\n 'falsch': 622,\n 'beides': 623,\n 'angenehme': 624,\n 'kennt': 625,\n 'früher': 626,\n 'wetter': 627,\n 'schnitzelei': 628,\n 'jahr': 629,\n 'echte': 630,\n 'geheimtipp': 631,\n 'rest': 632,\n 'sonntag': 633,\n 'warm': 634,\n 'allein': 635,\n 'kneipe': 636,\n 'wünsche': 637,\n 'richtige': 638,\n 'genommen': 639,\n 'modern': 640,\n 'voller': 641,\n 'hohen': 642,\n 'gemütliche': 643,\n 'nächste': 644,\n 'flott': 645,\n 'qype': 646,\n 'alt': 647,\n 'niveau': 648,\n 'stunden': 649,\n 'gänge': 650,\n 'somit': 651,\n 'brunch': 652,\n 'durchschnitt': 653,\n 'offen': 654,\n 'regelmäßig': 655,\n 'sollten': 656,\n 'jeweils': 657,\n 'freundlichkeit': 658,\n 'denke': 659,\n 'großes': 660,\n 'schlicht': 661,\n 'verdient': 662,\n 'sodass': 663,\n 'kostet': 664,\n 'draussen': 665,\n 'wartezeiten': 666,\n 'sucht': 667,\n 'ehrlich': 668,\n 'wenige': 669,\n 'insbesondere': 670,\n 'bezahlen': 671,\n 'lunch': 672,\n 'naja': 673,\n 'gang': 674,\n 'preiswert': 675,\n 'mittagszeit': 676,\n 'zubereitung': 677,\n 'friedrichstraße': 678,\n 'erstmal': 679,\n 'bohnen': 680,\n 'meisten': 681,\n 'neuen': 682,\n 'isst': 683,\n 'gefällt': 684,\n 'nein': 685,\n 'lachs': 686,\n 'spätzle': 687,\n 'salate': 688,\n 'drin': 689,\n 'mitten': 690,\n 'empfohlen': 691,\n 'offene': 692,\n 'glücklich': 693,\n 'and': 694,\n 'beilage': 695,\n 'wären': 696,\n 'hause': 697,\n 'hotel': 698,\n 'hähnchen': 699,\n 'liebevoll': 700,\n 'leckerer': 701,\n 'läden': 702,\n 'espresso': 703,\n 'rind': 704,\n 'neues': 705,\n 'mehrere': 706,\n 'vorweg': 707,\n 'gemütliches': 708,\n 'großer': 709,\n 'fragen': 710,\n 'vollkommen': 711,\n 'fertig': 712,\n 'gefühlt': 713,\n 'dudu': 714,\n 'zahlen': 715,\n 'billig': 716,\n 'ruhig': 717,\n 'kollegen': 718,\n 'punkte': 719,\n 'vergleich': 720,\n 'saucen': 721,\n 'sandwich': 722,\n 'toilette': 723,\n 'weiteren': 724,\n 'nimmt': 725,\n 'mittagspause': 726,\n 'professionell': 727,\n 'zügig': 728,\n 'zweiten': 729,\n 'weinkarte': 730,\n 'machte': 731,\n 'gebraten': 732,\n 'vorhanden': 733,\n 'kunden': 734,\n 'bbq': 735,\n 'ausgesprochen': 736,\n 'mega': 737,\n 'yelp': 738,\n 'hausgemachte': 739,\n 'rund': 740,\n 'vegetarisch': 741,\n 'gemischte': 742,\n 'belegt': 743,\n 'gemütlichen': 744,\n 'riesig': 745,\n 'samstag': 746,\n 'zurück': 747,\n 'deswegen': 748,\n 'ouzo': 749,\n 'is': 750,\n 'flair': 751,\n 'fantastisch': 752,\n 'qualitativ': 753,\n 'wunsch': 754,\n 'äußerst': 755,\n 'anfang': 756,\n 'überfordert': 757,\n 'na': 758,\n 'dachte': 759,\n 'jemand': 760,\n 'interessant': 761,\n 'großartig': 762,\n 'knoblauch': 763,\n 'getränken': 764,\n 'teilen': 765,\n 'currywurst': 766,\n 'soßen': 767,\n 'überteuert': 768,\n 'begrüßt': 769,\n 'bahnhof': 770,\n 'hierher': 771,\n 'warmen': 772,\n 'spezialitäten': 773,\n 'rindfleisch': 774,\n 'suche': 775,\n 'begrüßung': 776,\n 'schawarma': 777,\n 'geeignet': 778,\n 'leuten': 779,\n 'nämlich': 780,\n 'meistens': 781,\n 'stark': 782,\n 'familie': 783,\n 'ansprechend': 784,\n 'original': 785,\n 'alternative': 786,\n 'sowas': 787,\n 'mindestens': 788,\n 'genauso': 789,\n 'halbe': 790,\n 'übersichtlich': 791,\n 'berg': 792,\n 'fairen': 793,\n 'lag': 794,\n 'befindet': 795,\n 'gastraum': 796,\n 'creme': 797,\n 'dadurch': 798,\n 'abendessen': 799,\n 'vegetarischen': 800,\n 'vorab': 801,\n 'braucht': 802,\n 'langen': 803,\n 'darüber': 804,\n 'salz': 805,\n 'normalen': 806,\n 'esse': 807,\n 'bereich': 808,\n 'alten': 809,\n 'meckern': 810,\n 'offensichtlich': 811,\n 'sauberkeit': 812,\n 'entweder': 813,\n 'allgemein': 814,\n 'nen': 815,\n 'tut': 816,\n 'spitze': 817,\n 'süß': 818,\n 'deutsch': 819,\n 'to': 820,\n 'frisches': 821,\n 'entspannt': 822,\n 'normal': 823,\n 'prima': 824,\n 'fehlt': 825,\n 'gekommen': 826,\n 'glaube': 827,\n 'woanders': 828,\n 'umgebung': 829,\n 'entfernt': 830,\n 'spontan': 831,\n 'gehoben': 832,\n 'bekam': 833,\n 'wochen': 834,\n 'überzeugen': 835,\n 'inzwischen': 836,\n 'erwartungen': 837,\n 'hand': 838,\n 'langsam': 839,\n 'empfangen': 840,\n 'stelle': 841,\n 'könnten': 842,\n 'gehabt': 843,\n 'gebe': 844,\n 'einzig': 845,\n 'durchschnittlich': 846,\n 'gastronomie': 847,\n 'gekocht': 848,\n 'pane': 849,\n 'außer': 850,\n 'vermutlich': 851,\n 'enttäuschend': 852,\n 'besitzer': 853,\n 'interieur': 854,\n 'chicken': 855,\n 'hauptspeisen': 856,\n 'mischung': 857,\n 'freitag': 858,\n 'brötchen': 859,\n 'sagt': 860,\n 'volle': 861,\n 'gelungen': 862,\n 'boden': 863,\n 'höflich': 864,\n 'cool': 865,\n 'kreuzberg': 866,\n 'jederzeit': 867,\n 'fiel': 868,\n 'eingang': 869,\n 'zunächst': 870,\n 'klare': 871,\n 'ach': 872,\n 'augen': 873,\n 'seite': 874,\n 'geschafft': 875,\n 'winter': 876,\n 'tage': 877,\n 'reicht': 878,\n 'jungs': 879,\n 'sorten': 880,\n 'überall': 881,\n 'empfang': 882,\n 'spricht': 883,\n 'alleine': 884,\n 'italienische': 885,\n 'freien': 886,\n 'entdeckt': 887,\n 'eins': 888,\n 'all': 889,\n 'neu': 890,\n 'gehalten': 891,\n 'besetzt': 892,\n 'wünschen': 893,\n 'deutschland': 894,\n 'zwiebeln': 895,\n 'abschluss': 896,\n 'schluss': 897,\n 'hauses': 898,\n 'oliven': 899,\n 'besseres': 900,\n 'rundum': 901,\n 'rote': 902,\n 'ließ': 903,\n 'verweilen': 904,\n 'mehrmals': 905,\n 'beef': 906,\n 'langweilig': 907,\n 'bestand': 908,\n 'desserts': 909,\n 'chili': 910,\n 'übrig': 911,\n 'gewartet': 912,\n 'bibimbap': 913,\n 'manko': 914,\n 'male': 915,\n 'weinauswahl': 916,\n 'spinat': 917,\n 'saftig': 918,\n 'feine': 919,\n 'beispiel': 920,\n 'sagte': 921,\n 'trinkgeld': 922,\n 'läuft': 923,\n 'entrecote': 924,\n 'weiterempfehlen': 925,\n 'verbringen': 926,\n 'zweite': 927,\n 'erfahrung': 928,\n 'erinnert': 929,\n 'stil': 930,\n 'wichtig': 931,\n 'öfters': 932,\n 'dame': 933,\n 'cafe': 934,\n 'willkommen': 935,\n 'günstigen': 936,\n 'bieten': 937,\n 'leben': 938,\n 'quasi': 939,\n 'fenster': 940,\n 'getrunken': 941,\n 'passend': 942,\n 'genossen': 943,\n 'kinder': 944,\n 'empfehle': 945,\n 'optisch': 946,\n 'bevor': 947,\n 'bringen': 948,\n 'besteck': 949,\n 'stühle': 950,\n 'good': 951,\n 'alte': 952,\n 'soweit': 953,\n 'durchweg': 954,\n 'irgendwann': 955,\n 'zuerst': 956,\n 'huhn': 957,\n 'merkt': 958,\n 'zweimal': 959,\n 'größeren': 960,\n 'asiatische': 961,\n 'guacamole': 962,\n 'offenen': 963,\n 'kiez': 964,\n 'junge': 965,\n 'ruhe': 966,\n 'schwierig': 967,\n 'servieren': 968,\n 'standard': 969,\n 'schlechten': 970,\n 'standen': 971,\n 'unschlagbar': 972,\n 'gegeben': 973,\n 'gruppen': 974,\n 'pastrami': 975,\n 'wirkte': 976,\n 'zufällig': 977,\n 'fettig': 978,\n 'betreiber': 979,\n 'wählen': 980,\n 'hohe': 981,\n 'lediglich': 982,\n 'weise': 983,\n 'grieche': 984,\n 'hübsch': 985,\n 'wenigen': 986,\n 'welt': 987,\n 'name': 988,\n 'meinte': 989,\n 'solide': 990,\n 'kennen': 991,\n 'überaus': 992,\n 'fragte': 993,\n 'positiven': 994,\n 'fehlte': 995,\n 'diverse': 996,\n 'filet': 997,\n 'verstehen': 998,\n 'authentische': 999,\n 'hingegen': 1000,\n ...}"
     },
     "execution_count": 98,
     "metadata": {},
     "output_type": "execute_result"
    }
   ],
   "source": [
    "from keras.preprocessing.text import Tokenizer\n",
    "\n",
    "comments_array = asarray(yelp['Tokenized_Comment'])\n",
    "vocab_size = 1700 #20000\n",
    "tokenizer=Tokenizer(num_words=vocab_size)\n",
    "#get index per word\n",
    "tokenizer.fit_on_texts(comments_array)\n",
    "tokenizer.word_index"
   ],
   "metadata": {
    "collapsed": false
   }
  },
  {
   "cell_type": "code",
   "execution_count": 59,
   "outputs": [
    {
     "name": "stdout",
     "output_type": "stream",
     "text": [
      "[[315, 97, 6, 41, 1043], [170, 705, 6, 1302, 83, 167, 985, 241, 287, 5, 736, 17, 96, 83, 1, 60, 32, 532, 249, 1282, 856, 2, 141, 25, 245, 16, 122, 179, 510, 8, 346, 22, 316, 67, 14, 1171, 19, 594, 22, 129, 56, 21, 178, 72, 20, 480, 373, 135, 246, 678, 460, 5, 2, 1044], [136, 319, 14, 213, 527, 60, 210, 18, 435, 790, 102, 29, 14], [1, 62, 289, 140, 585, 907, 309, 635, 6, 60, 1011, 679, 769, 1635, 58, 42, 155, 1012, 16, 122, 10, 481, 1496, 680, 70, 133, 282, 172, 963, 21, 125, 60, 986, 131, 19, 36, 54, 70, 656, 1130, 695, 70, 1000, 2, 141, 908, 1131, 1598, 57, 1153, 46, 345, 50, 239, 277, 569, 16, 21, 97, 814, 678, 473], [146, 47, 202, 447, 23, 447, 1, 737, 28, 345, 1303, 152, 566, 42, 567, 826, 92, 10, 414, 706, 44, 73]]\n"
     ]
    }
   ],
   "source": [
    "def int_encode_comments(comment_list, tokenizer):\n",
    "    return tokenizer.texts_to_sequences(comment_list)\n",
    "\n",
    "embedded_comments = int_encode_comments(comments_array, tokenizer)\n",
    "print(embedded_comments[:5])"
   ],
   "metadata": {
    "collapsed": false
   }
  },
  {
   "cell_type": "markdown",
   "source": [
    "#### LSTM Model Preparation\n",
    "\n",
    "1) Define padding size"
   ],
   "metadata": {
    "collapsed": false
   }
  },
  {
   "cell_type": "markdown",
   "source": [],
   "metadata": {
    "collapsed": false
   }
  },
  {
   "cell_type": "code",
   "execution_count": 60,
   "outputs": [
    {
     "name": "stdout",
     "output_type": "stream",
     "text": [
      "300\n"
     ]
    }
   ],
   "source": [
    "def get_max_token_length_per_cmt(Comments_arr: list[str])-> int:\n",
    "    return max(list(map(lambda x: len(x.split()),Comments_arr)))\n",
    "#padding_size = get_max_token_length_per_cmt(comments_array)\n",
    "padding_size=300\n",
    "print(str(padding_size))"
   ],
   "metadata": {
    "collapsed": false
   }
  },
  {
   "cell_type": "markdown",
   "source": [
    "2) Pad embedded comments"
   ],
   "metadata": {
    "collapsed": false
   }
  },
  {
   "cell_type": "code",
   "execution_count": 61,
   "outputs": [],
   "source": [
    "padded_cmts = pad_sequences(embedded_comments, maxlen=padding_size)"
   ],
   "metadata": {
    "collapsed": false
   }
  },
  {
   "cell_type": "markdown",
   "source": [
    "3. One-Hot-Encoding of Rating\n",
    "Q: https://www.atmosera.com/blog/multiclass-classification-with-neural-networks/"
   ],
   "metadata": {
    "collapsed": false
   }
  },
  {
   "cell_type": "code",
   "execution_count": 62,
   "outputs": [
    {
     "name": "stdout",
     "output_type": "stream",
     "text": [
      "0       5\n",
      "1       4\n",
      "2       5\n",
      "3       2\n",
      "4       5\n",
      "       ..\n",
      "9701    3\n",
      "9702    3\n",
      "9703    5\n",
      "9704    5\n",
      "9705    5\n",
      "Name: Rating, Length: 9706, dtype: int64\n",
      "[[0. 0. 0. 0. 0. 1.]\n",
      " [0. 0. 0. 0. 1. 0.]\n",
      " [0. 0. 0. 0. 0. 1.]\n",
      " ...\n",
      " [0. 0. 0. 0. 0. 1.]\n",
      " [0. 0. 0. 0. 0. 1.]\n",
      " [0. 0. 0. 0. 0. 1.]]\n"
     ]
    }
   ],
   "source": [
    "from tensorflow.keras.utils import to_categorical\n",
    "from sklearn.preprocessing import LabelEncoder\n",
    "\n",
    "# need to pre-encode labels (1-5) to (0-4) because to_categorical assumes 0 as lowest label value\n",
    "# otherwise we would get 6 classes in the one-hot encoded arrays\n",
    "\n",
    "yelp['Rating_Encoded'] = LabelEncoder().fit_transform(yelp['Rating'])\n",
    "print(yelp.Rating)\n",
    "print(to_categorical(yelp.Rating))"
   ],
   "metadata": {
    "collapsed": false
   }
  },
  {
   "cell_type": "markdown",
   "source": [
    "#### Train-Dev-Test Split"
   ],
   "metadata": {
    "collapsed": false
   }
  },
  {
   "cell_type": "code",
   "execution_count": 63,
   "outputs": [],
   "source": [
    "seed=101010\n",
    "y=yelp[\"Rating_Encoded\"]\n",
    "\n",
    "X_train_dev, X_test, y_train_dev, y_test = train_test_split(padded_cmts, y, test_size = 0.1, random_state=seed)\n",
    "X_train, X_dev, y_train, y_dev = train_test_split(X_train_dev, y_train_dev, test_size = 0.1, random_state=seed)\n"
   ],
   "metadata": {
    "collapsed": false
   }
  },
  {
   "cell_type": "markdown",
   "source": [
    "#### Define LSTM Model"
   ],
   "metadata": {
    "collapsed": false
   }
  },
  {
   "cell_type": "code",
   "execution_count": 145,
   "outputs": [],
   "source": [
    "from keras.layers import Dropout, MaxPooling1D, AveragePooling1D\n",
    "from keras.applications.densenet import layers\n",
    "from keras import optimizers\n",
    "\n",
    "model = Sequential()\n",
    "model.add(Embedding(input_dim=vocab_size,  output_dim=128, input_length=padding_size))\n",
    "lstm = LSTM( units=100, activation='tanh')\n",
    "model.add(lstm) #200\n",
    "\n",
    "#Pooling\n",
    "#model.add(Flatten())\n",
    "model.add(Dropout(0.1))\n",
    "\n",
    "model.add(Dense(units=5, activation='softmax'))\n",
    "opt = optimizers.Adam(learning_rate=1e-04) #RMSProp\n",
    "model.compile(optimizer=opt, loss='categorical_crossentropy', metrics=['accuracy'])\n",
    "#model.summary()"
   ],
   "metadata": {
    "collapsed": false
   }
  },
  {
   "cell_type": "markdown",
   "source": [
    "#### Train LSTM Model with LSTM Layer"
   ],
   "metadata": {
    "collapsed": false
   }
  },
  {
   "cell_type": "code",
   "execution_count": 146,
   "outputs": [
    {
     "name": "stdout",
     "output_type": "stream",
     "text": [
      "Epoch 1/5\n",
      "983/983 [==============================] - 279s 281ms/step - loss: 1.2700 - accuracy: 0.4723 - val_loss: 1.1242 - val_accuracy: 0.5160\n",
      "Epoch 2/5\n",
      "983/983 [==============================] - 259s 264ms/step - loss: 1.0384 - accuracy: 0.5483 - val_loss: 0.9741 - val_accuracy: 0.5641\n",
      "Epoch 3/5\n",
      "983/983 [==============================] - 270s 274ms/step - loss: 0.9510 - accuracy: 0.5927 - val_loss: 0.9530 - val_accuracy: 0.5686\n",
      "Epoch 4/5\n",
      "983/983 [==============================] - 267s 272ms/step - loss: 0.8877 - accuracy: 0.6111 - val_loss: 0.9618 - val_accuracy: 0.5515\n",
      "Epoch 5/5\n",
      "983/983 [==============================] - 243s 247ms/step - loss: 0.8343 - accuracy: 0.6443 - val_loss: 0.9257 - val_accuracy: 0.5755\n"
     ]
    }
   ],
   "source": [
    "hist = model.fit(X_train,\n",
    "                 to_categorical(y_train),\n",
    "                 batch_size=8, #5\n",
    "                 epochs=5,\n",
    "                 validation_data=(X_dev,to_categorical(y_dev)))"
   ],
   "metadata": {
    "collapsed": false
   }
  },
  {
   "cell_type": "code",
   "execution_count": 147,
   "outputs": [
    {
     "name": "stdout",
     "output_type": "stream",
     "text": [
      "31/31 [==============================] - 4s 88ms/step\n",
      "[3 4 3 1 4 4 2 2 4 4 4 4 4 3 3 2 3 4 2 3 3 4 4 4 4 4 4 4 2 3 3 2 0 3 2 3 3\n",
      " 4 3 4 0 4 3 3 2 4 4 4 4 3 3 3 3 2 2 2 4 4 4 2 0 0 0 4 2 2 4 3 4 2 2 2 4 4\n",
      " 4 4 0 4 4 2 3 4 3 2 4 4 4 4 4 4 3 4 4 3 2 2 4 4 4 4 4 4 2 4 2 3 3 4 4 4 4\n",
      " 2 3 4 2 4 3 4 4 3 3 4 4 3 3 4 0 3 4 3 3 4 3 1 4 3 4 2 1 4 2 2 2 4 4 4 3 4\n",
      " 4 3 4 3 4 3 2 2 4 3 3 4 4 4 2 0 2 4 4 3 2 4 3 1 2 4 4 2 3 2 4 4 1 3 4 4 4\n",
      " 4 4 3 4 4 4 0 2 4 4 4 3 3 3 4 4 3 0 4 2 4 4 4 4 2 4 4 4 0 4 4 3 0 3 4 2 4\n",
      " 4 2 2 3 3 3 3 2 0 4 4 4 4 3 2 3 3 3 3 2 3 3 4 3 4 3 4 4 3 3 4 4 3 4 4 2 4\n",
      " 1 2 4 2 1 3 3 4 2 4 4 4 4 3 0 3 2 0 3 2 2 4 4 2 4 4 4 3 0 4 3 4 4 4 4 3 2\n",
      " 4 3 2 4 4 2 2 3 4 4 3 4 3 2 4 4 4 2 4 4 4 2 4 2 2 2 4 4 4 4 2 4 4 3 4 3 2\n",
      " 3 3 4 3 4 3 4 4 4 4 4 4 3 4 4 4 4 2 4 4 4 3 4 3 3 4 2 2 3 0 4 4 4 4 0 3 3\n",
      " 4 2 3 4 4 4 3 4 2 3 4 3 2 3 4 0 0 3 3 3 0 4 2 4 2 4 2 4 4 3 1 4 3 0 4 3 2\n",
      " 4 4 2 4 3 4 4 4 1 4 4 2 2 3 4 3 2 4 4 3 4 3 4 4 3 4 1 3 4 4 4 2 4 4 2 4 3\n",
      " 4 0 4 4 4 2 4 2 2 2 4 4 3 4 4 3 4 4 2 3 0 3 2 4 4 4 2 4 2 0 4 4 4 0 4 3 4\n",
      " 3 3 4 1 3 4 4 4 3 2 4 4 3 4 4 2 4 2 1 4 4 4 2 4 4 4 4 4 0 3 4 4 4 3 4 3 1\n",
      " 4 3 3 3 0 4 2 2 3 4 0 4 4 3 3 4 3 0 3 4 4 2 4 4 4 4 3 4 4 3 3 2 4 4 4 3 4\n",
      " 4 4 4 4 3 3 2 4 4 4 2 4 4 3 4 4 4 2 4 3 2 0 3 3 0 4 2 4 2 4 4 3 4 2 3 4 3\n",
      " 4 2 4 4 4 2 2 3 4 4 4 4 2 2 4 4 3 4 1 4 4 4 4 3 4 4 3 0 4 3 4 2 0 4 4 2 4\n",
      " 1 3 4 4 4 4 4 4 2 4 4 2 4 3 4 3 4 3 4 4 4 3 4 2 2 4 4 4 2 3 4 4 4 3 3 4 3\n",
      " 2 4 4 4 3 4 4 4 4 2 4 3 4 4 3 0 4 4 3 3 2 4 2 3 4 4 2 4 4 4 4 4 0 3 2 4 4\n",
      " 4 4 1 4 2 3 4 2 4 3 4 4 3 3 4 4 2 4 4 2 3 2 3 3 4 0 2 4 4 3 3 4 2 4 2 4 2\n",
      " 4 4 4 4 3 4 4 3 3 3 3 3 3 1 4 2 2 0 4 4 4 4 2 3 2 3 4 4 2 4 3 4 4 3 3 4 4\n",
      " 4 4 3 4 4 4 4 4 4 3 3 3 2 3 4 3 4 4 4 4 1 2 3 4 4 3 3 4 4 4 4 4 2 0 4 4 4\n",
      " 4 4 3 3 4 3 2 3 4 3 3 4 4 4 3 2 4 4 4 4 4 4 4 2 4 4 3 4 4 3 4 3 2 4 4 1 4\n",
      " 3 3 3 4 3 4 2 3 3 2 0 2 4 2 4 3 2 4 4 2 4 3 3 2 2 4 4 3 0 3 4 4 4 4 2 3 0\n",
      " 4 4 4 3 4 2 4 4 4 4 4 4 4 3 0 0 4 3 0 3 4 4 4 4 3 0 3 2 4 4 3 4 0 4 3 4 3\n",
      " 4 4 2 0 3 3 4 3 2 4 4 2 4 3 4 2 4 4 4 4 4 4 0 2 4 2 4 3 4 3 4 4 2 4 4 3 4\n",
      " 1 4 3 4 4 4 4 2 4]\n",
      "0.5561277033985582\n",
      "0.47038075551296166\n",
      "0.4298645182635002\n",
      "0.42425675890613085\n"
     ]
    }
   ],
   "source": [
    "from sklearn.metrics import f1_score,precision_score,recall_score,accuracy_score\n",
    "import numpy as np\n",
    "pred_test= np.argmax(model.predict(X_test), axis=1)\n",
    "print(pred_test)\n",
    "print(accuracy_score(pred_test,y_test))\n",
    "print(recall_score(pred_test,y_test,average = 'macro'))\n",
    "print(f1_score(pred_test,y_test,average = 'macro'))\n",
    "print(precision_score(pred_test,y_test,average = 'macro'))"
   ],
   "metadata": {
    "collapsed": false
   }
  },
  {
   "cell_type": "code",
   "execution_count": 140,
   "outputs": [
    {
     "name": "stdout",
     "output_type": "stream",
     "text": [
      "dict_keys(['loss', 'accuracy', 'val_loss', 'val_accuracy'])\n"
     ]
    },
    {
     "data": {
      "text/plain": "<Figure size 640x480 with 1 Axes>",
      "image/png": "[encoded data removed]"
     },
     "metadata": {},
     "output_type": "display_data"
    }
   ],
   "source": [
    "print(hist.history.keys())\n",
    "#  \"Accuracy\"\n",
    "plt.plot(hist.history['loss'])\n",
    "plt.plot(hist.history['val_loss'])\n",
    "plt.title('loss function')\n",
    "plt.ylabel('loss')\n",
    "plt.xlabel('epoch')\n",
    "plt.legend(['train', 'validation'], loc='upper left')\n",
    "plt.show()"
   ],
   "metadata": {
    "collapsed": false
   }
  },
  {
   "cell_type": "markdown",
   "source": [
    "#### Train LSTM Model without LSTM Layer"
   ],
   "metadata": {
    "collapsed": false
   }
  },
  {
   "cell_type": "code",
   "execution_count": 102,
   "outputs": [],
   "source": [
    "model = Sequential()\n",
    "model.add(Embedding(input_dim=vocab_size,output_dim=10,input_length=padding_size))\n",
    "model.add(Flatten())\n",
    "model.add(Dense(5, activation='softmax'))\n",
    "opt = optimizers.Adam(learning_rate=0.001) # tried 0.1, 0.001, 0.0001\n",
    "model.compile(optimizer=opt, loss='categorical_crossentropy', metrics=['accuracy'])\n",
    "#model.summary()"
   ],
   "metadata": {
    "collapsed": false
   }
  },
  {
   "cell_type": "code",
   "execution_count": 106,
   "outputs": [
    {
     "name": "stdout",
     "output_type": "stream",
     "text": [
      "Epoch 1/5\n",
      "787/787 [==============================] - 2s 3ms/step - loss: 0.0011 - accuracy: 0.9996 - val_loss: 6.9676 - val_accuracy: 0.5069\n",
      "Epoch 2/5\n",
      "787/787 [==============================] - 2s 2ms/step - loss: 0.0012 - accuracy: 0.9995 - val_loss: 7.1184 - val_accuracy: 0.5069\n",
      "Epoch 3/5\n",
      "787/787 [==============================] - 2s 2ms/step - loss: 9.5942e-04 - accuracy: 0.9994 - val_loss: 7.2367 - val_accuracy: 0.5114\n",
      "Epoch 4/5\n",
      "787/787 [==============================] - 2s 3ms/step - loss: 0.0013 - accuracy: 0.9995 - val_loss: 7.3851 - val_accuracy: 0.5023\n",
      "Epoch 5/5\n",
      "787/787 [==============================] - 2s 3ms/step - loss: 0.0012 - accuracy: 0.9995 - val_loss: 7.4673 - val_accuracy: 0.5069\n"
     ]
    }
   ],
   "source": [
    "\n",
    "hist = model.fit(X_train,\n",
    "                 to_categorical(y_train),\n",
    "                 epochs=5, # tried 3, 4, 5, 10\n",
    "                 batch_size=10,#tried 5, 10, 50, 100\n",
    "                 validation_data=(X_dev,to_categorical(y_dev)))"
   ],
   "metadata": {
    "collapsed": false
   }
  },
  {
   "cell_type": "code",
   "execution_count": 104,
   "outputs": [
    {
     "name": "stdout",
     "output_type": "stream",
     "text": [
      "31/31 [==============================] - 0s 2ms/step\n",
      "[3 4 4 2 3 4 2 2 4 4 3 4 4 4 3 1 2 4 3 3 3 4 2 4 4 4 4 4 1 3 3 3 0 3 3 2 4\n",
      " 4 3 4 4 4 4 4 0 4 4 4 3 2 3 3 4 1 3 2 3 4 3 3 0 1 1 4 0 2 4 3 4 2 2 3 4 4\n",
      " 4 4 1 4 4 4 4 3 4 3 3 4 4 3 3 4 3 4 3 3 0 0 4 4 2 4 4 4 2 3 2 3 3 4 4 3 3\n",
      " 2 4 3 4 4 3 3 4 3 4 3 4 3 3 4 2 3 4 4 3 3 4 0 3 4 4 2 0 4 3 2 1 4 4 4 3 4\n",
      " 3 3 4 4 4 3 2 3 4 3 3 3 2 4 2 2 2 3 4 3 1 4 2 1 1 4 4 0 4 4 2 3 0 4 4 4 4\n",
      " 4 3 3 4 4 4 1 3 2 4 0 0 2 4 4 1 3 0 4 2 4 4 4 4 2 4 4 4 2 4 3 4 2 3 3 2 4\n",
      " 4 4 3 2 4 3 4 0 1 4 4 3 4 3 1 3 4 4 4 4 1 4 4 4 4 3 3 3 0 3 4 4 3 4 4 1 3\n",
      " 0 3 4 2 0 2 4 4 2 4 4 4 4 3 0 3 1 0 4 2 2 4 4 3 4 4 4 0 2 4 4 4 4 4 3 4 1\n",
      " 4 3 2 3 3 3 2 3 4 0 4 4 3 3 4 4 4 3 3 3 4 2 4 0 3 3 4 4 3 3 3 4 4 3 4 3 3\n",
      " 3 4 3 3 4 3 3 4 3 3 4 3 3 2 3 4 4 2 4 4 3 3 4 4 4 3 2 2 4 0 4 4 4 4 0 4 2\n",
      " 4 1 4 4 3 4 3 3 2 4 3 4 1 4 3 0 1 4 3 4 3 3 4 3 0 4 1 4 3 4 0 4 2 2 4 3 0\n",
      " 4 4 2 4 4 3 4 3 3 1 4 1 0 4 4 3 4 4 4 2 4 3 4 4 2 4 2 3 3 4 4 4 3 4 0 3 2\n",
      " 3 2 3 4 4 0 4 2 2 2 4 4 4 3 4 2 4 4 2 3 0 4 3 4 4 0 3 0 2 0 4 2 4 2 4 3 3\n",
      " 3 3 4 3 3 4 4 3 3 3 4 3 4 4 3 2 4 4 2 4 3 4 3 4 3 4 4 4 3 2 4 4 3 4 4 2 2\n",
      " 2 3 3 4 0 4 4 3 2 4 2 3 4 4 3 4 3 0 3 4 3 2 3 4 4 4 4 4 4 4 4 2 4 3 3 4 4\n",
      " 4 4 3 4 2 3 0 4 4 3 2 4 4 3 4 3 3 2 3 3 2 0 3 4 1 4 2 4 0 4 4 4 4 2 3 3 3\n",
      " 4 3 4 4 3 2 1 0 4 4 1 4 2 4 4 4 0 4 1 4 4 4 3 3 4 4 4 0 3 4 4 2 1 4 4 4 4\n",
      " 3 2 4 4 3 0 4 4 1 3 4 3 4 3 4 1 4 4 4 4 3 3 4 1 2 4 4 4 1 4 4 4 4 4 3 3 3\n",
      " 2 4 3 4 4 3 4 4 4 3 4 4 4 4 3 0 4 4 4 4 3 4 3 3 4 4 1 4 3 2 4 4 1 1 4 3 3\n",
      " 4 3 1 4 3 4 4 1 4 3 4 4 4 3 2 4 2 4 3 3 4 0 3 3 4 1 3 4 4 4 4 4 2 3 2 3 4\n",
      " 3 4 4 4 3 4 4 3 2 3 3 3 4 2 4 0 4 1 4 4 3 3 1 3 3 3 3 4 1 4 4 4 4 3 4 3 4\n",
      " 3 2 2 4 4 4 4 4 4 4 2 4 1 3 3 2 4 4 4 4 1 3 3 4 4 3 3 0 4 4 3 3 3 2 4 4 4\n",
      " 3 4 2 2 3 3 1 3 4 3 4 4 4 4 3 4 4 4 4 4 4 4 4 4 4 3 4 4 4 4 3 3 1 4 3 1 4\n",
      " 3 3 3 3 4 3 2 2 3 2 0 3 1 2 4 3 4 4 4 2 4 3 3 4 3 4 4 3 1 4 4 4 4 4 3 3 1\n",
      " 4 4 4 3 4 2 4 4 4 4 4 4 4 3 0 1 3 4 3 4 4 4 4 3 2 2 2 3 4 4 4 4 1 4 4 4 3\n",
      " 3 4 3 0 2 3 4 4 1 3 3 3 4 3 4 4 4 3 4 4 4 3 2 1 3 2 4 4 4 3 4 4 2 4 4 4 4\n",
      " 1 2 2 2 4 4 4 4 4]\n",
      "0.5066941297631308\n",
      "0.43416417098377724\n",
      "0.41763346244649735\n",
      "0.4057926162260017\n"
     ]
    }
   ],
   "source": [
    "pred_test_nolstm= np.argmax(model.predict(X_test), axis=1)\n",
    "print(pred_test_nolstm)\n",
    "print(accuracy_score(pred_test_nolstm,y_test))\n",
    "print(recall_score(pred_test_nolstm,y_test,average = 'macro'))\n",
    "print(f1_score(pred_test_nolstm,y_test,average = 'macro'))\n",
    "print(precision_score(pred_test_nolstm,y_test,average = 'macro'))"
   ],
   "metadata": {
    "collapsed": false
   }
  },
  {
   "cell_type": "code",
   "execution_count": 107,
   "outputs": [
    {
     "name": "stdout",
     "output_type": "stream",
     "text": [
      "dict_keys(['loss', 'accuracy', 'val_loss', 'val_accuracy'])\n"
     ]
    },
    {
     "data": {
      "text/plain": "<Figure size 640x480 with 1 Axes>",
      "image/png": "[encoded data removed]"
     },
     "metadata": {},
     "output_type": "display_data"
    }
   ],
   "source": [
    "print(hist.history.keys())\n",
    "#  \"Accuracy\"\n",
    "\n",
    "plt.plot(hist.history['loss'])\n",
    "plt.plot(hist.history['val_loss'])\n",
    "plt.title('model accuracy')\n",
    "plt.ylabel('accuracy')\n",
    "plt.xlabel('epoch')\n",
    "plt.legend(['train', 'validation'], loc='upper left')\n",
    "plt.show()"
   ],
   "metadata": {
    "collapsed": false
   }
  }
 ],
 "metadata": {
  "kernelspec": {
   "display_name": "Python 3",
   "language": "python",
   "name": "python3"
  },
  "language_info": {
   "codemirror_mode": {
    "name": "ipython",
    "version": 2
   },
   "file_extension": ".py",
   "mimetype": "text/x-python",
   "name": "python",
   "nbconvert_exporter": "python",
   "pygments_lexer": "ipython2",
   "version": "2.7.6"
  }
 },
 "nbformat": 4,
 "nbformat_minor": 0
}
