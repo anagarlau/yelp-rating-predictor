{
 "cells": [
  {
   "cell_type": "markdown",
   "source": [
    "# LSTM Rating Classifier using Word Embeddings"
   ],
   "metadata": {
    "collapsed": false
   }
  },
  {
   "cell_type": "markdown",
   "source": [
    "Q:\n",
    "https://www.youtube.com/watch?v=nam2zR7p7Os\n",
    "https://www.youtube.com/watch?v=Wp-Wb456kSU\n",
    "https://www.tensorflow.org/api_docs/python/tf/keras/preprocessing"
   ],
   "metadata": {
    "collapsed": false
   }
  },
  {
   "cell_type": "code",
   "execution_count": 56,
   "outputs": [],
   "source": [
    "import pandas as pd\n",
    "from keras.preprocessing.text import one_hot\n",
    "from keras.utils import pad_sequences # not preprocessing.sequence (deprecated)\n",
    "from numpy import asarray , array\n",
    "from numpy import zeros\n",
    "from keras.preprocessing.text import Tokenizer\n",
    "from keras.models import Sequential\n",
    "from keras.layers import Dense, Flatten, Embedding, LSTM\n",
    "import matplotlib.pyplot as plt\n",
    "from sklearn.model_selection import train_test_split"
   ],
   "metadata": {
    "collapsed": false
   }
  },
  {
   "cell_type": "code",
   "execution_count": 57,
   "outputs": [],
   "source": [
    "yelp = pd.read_csv(\"../2_text_preprocessing/cleaned_data_yelp.csv\",index_col=None)"
   ],
   "metadata": {
    "collapsed": false
   }
  },
  {
   "cell_type": "markdown",
   "source": [
    "### Word Embeddings with Keras"
   ],
   "metadata": {
    "collapsed": false
   }
  },
  {
   "cell_type": "code",
   "execution_count": 58,
   "outputs": [],
   "source": [
    "from keras.preprocessing.text import Tokenizer\n",
    "\n",
    "comments_array = asarray(yelp['Tokenized_Comment'])\n",
    "vocab_size = 1700 #20000\n",
    "tokenizer=Tokenizer(num_words=vocab_size)\n",
    "#get index per word\n",
    "tokenizer.fit_on_texts(comments_array)\n",
    "#tokenizer.word_index"
   ],
   "metadata": {
    "collapsed": false
   }
  },
  {
   "cell_type": "code",
   "execution_count": 59,
   "outputs": [
    {
     "name": "stdout",
     "output_type": "stream",
     "text": [
      "[[315, 97, 6, 41, 1043], [170, 705, 6, 1302, 83, 167, 985, 241, 287, 5, 736, 17, 96, 83, 1, 60, 32, 532, 249, 1282, 856, 2, 141, 25, 245, 16, 122, 179, 510, 8, 346, 22, 316, 67, 14, 1171, 19, 594, 22, 129, 56, 21, 178, 72, 20, 480, 373, 135, 246, 678, 460, 5, 2, 1044], [136, 319, 14, 213, 527, 60, 210, 18, 435, 790, 102, 29, 14], [1, 62, 289, 140, 585, 907, 309, 635, 6, 60, 1011, 679, 769, 1635, 58, 42, 155, 1012, 16, 122, 10, 481, 1496, 680, 70, 133, 282, 172, 963, 21, 125, 60, 986, 131, 19, 36, 54, 70, 656, 1130, 695, 70, 1000, 2, 141, 908, 1131, 1598, 57, 1153, 46, 345, 50, 239, 277, 569, 16, 21, 97, 814, 678, 473], [146, 47, 202, 447, 23, 447, 1, 737, 28, 345, 1303, 152, 566, 42, 567, 826, 92, 10, 414, 706, 44, 73]]\n"
     ]
    }
   ],
   "source": [
    "def int_encode_comments(comment_list, tokenizer):\n",
    "    return tokenizer.texts_to_sequences(comment_list)\n",
    "\n",
    "embedded_comments = int_encode_comments(comments_array, tokenizer)\n",
    "print(embedded_comments[:5])"
   ],
   "metadata": {
    "collapsed": false
   }
  },
  {
   "cell_type": "markdown",
   "source": [
    "#### LSTM Model Preparation\n",
    "\n",
    "1) Define padding size"
   ],
   "metadata": {
    "collapsed": false
   }
  },
  {
   "cell_type": "markdown",
   "source": [],
   "metadata": {
    "collapsed": false
   }
  },
  {
   "cell_type": "code",
   "execution_count": 60,
   "outputs": [
    {
     "name": "stdout",
     "output_type": "stream",
     "text": [
      "300\n"
     ]
    }
   ],
   "source": [
    "def get_max_token_length_per_cmt(Comments_arr: list[str])-> int:\n",
    "    return max(list(map(lambda x: len(x.split()),Comments_arr)))\n",
    "#padding_size = get_max_token_length_per_cmt(comments_array)\n",
    "padding_size=300\n",
    "print(str(padding_size))"
   ],
   "metadata": {
    "collapsed": false
   }
  },
  {
   "cell_type": "markdown",
   "source": [
    "2) Pad embedded comments"
   ],
   "metadata": {
    "collapsed": false
   }
  },
  {
   "cell_type": "code",
   "execution_count": 61,
   "outputs": [],
   "source": [
    "padded_cmts = pad_sequences(embedded_comments, maxlen=padding_size)"
   ],
   "metadata": {
    "collapsed": false
   }
  },
  {
   "cell_type": "markdown",
   "source": [
    "3. One-Hot-Encoding of Rating\n",
    "Q: https://www.atmosera.com/blog/multiclass-classification-with-neural-networks/"
   ],
   "metadata": {
    "collapsed": false
   }
  },
  {
   "cell_type": "code",
   "execution_count": 62,
   "outputs": [
    {
     "name": "stdout",
     "output_type": "stream",
     "text": [
      "0       5\n",
      "1       4\n",
      "2       5\n",
      "3       2\n",
      "4       5\n",
      "       ..\n",
      "9701    3\n",
      "9702    3\n",
      "9703    5\n",
      "9704    5\n",
      "9705    5\n",
      "Name: Rating, Length: 9706, dtype: int64\n",
      "[[0. 0. 0. 0. 0. 1.]\n",
      " [0. 0. 0. 0. 1. 0.]\n",
      " [0. 0. 0. 0. 0. 1.]\n",
      " ...\n",
      " [0. 0. 0. 0. 0. 1.]\n",
      " [0. 0. 0. 0. 0. 1.]\n",
      " [0. 0. 0. 0. 0. 1.]]\n"
     ]
    }
   ],
   "source": [
    "from tensorflow.keras.utils import to_categorical\n",
    "from sklearn.preprocessing import LabelEncoder\n",
    "\n",
    "# need to pre-encode labels (1-5) to (0-4) because to_categorical assumes 0 as lowest label value\n",
    "# otherwise we would get 6 classes in the one-hot encoded arrays\n",
    "\n",
    "yelp['Rating_Encoded'] = LabelEncoder().fit_transform(yelp['Rating'])\n",
    "print(yelp.Rating)\n",
    "print(to_categorical(yelp.Rating))"
   ],
   "metadata": {
    "collapsed": false
   }
  },
  {
   "cell_type": "markdown",
   "source": [
    "#### Train-Dev-Test Split"
   ],
   "metadata": {
    "collapsed": false
   }
  },
  {
   "cell_type": "code",
   "execution_count": 63,
   "outputs": [],
   "source": [
    "seed=101010\n",
    "y=yelp[\"Rating_Encoded\"]\n",
    "\n",
    "X_train_dev, X_test, y_train_dev, y_test = train_test_split(padded_cmts, y, test_size = 0.1, random_state=seed)\n",
    "X_train, X_dev, y_train, y_dev = train_test_split(X_train_dev, y_train_dev, test_size = 0.1, random_state=seed)\n"
   ],
   "metadata": {
    "collapsed": false
   }
  },
  {
   "cell_type": "markdown",
   "source": [
    "#### Define LSTM Model"
   ],
   "metadata": {
    "collapsed": false
   }
  },
  {
   "cell_type": "code",
   "execution_count": 79,
   "outputs": [
    {
     "name": "stdout",
     "output_type": "stream",
     "text": [
      "Model: \"sequential_20\"\n",
      "_________________________________________________________________\n",
      " Layer (type)                Output Shape              Param #   \n",
      "=================================================================\n",
      " embedding_20 (Embedding)    (None, 300, 128)          217600    \n",
      "                                                                 \n",
      " lstm_20 (LSTM)              (None, 200)               263200    \n",
      "                                                                 \n",
      " dense_20 (Dense)            (None, 5)                 1005      \n",
      "                                                                 \n",
      "=================================================================\n",
      "Total params: 481,805\n",
      "Trainable params: 481,805\n",
      "Non-trainable params: 0\n",
      "_________________________________________________________________\n"
     ]
    }
   ],
   "source": [
    "from keras import optimizers\n",
    "\n",
    "model = Sequential()\n",
    "model.add(Embedding(input_dim=vocab_size,  output_dim=128, input_length=padding_size))\n",
    "model.add(LSTM(units=200, activation='tanh'))\n",
    "#model.add(Flatten())\n",
    "model.add(Dense(5, activation='softmax'))\n",
    "opt = optimizers.Adam(learning_rate=1e-04) #RMSProp\n",
    "model.compile(optimizer=opt, loss='categorical_crossentropy', metrics=['accuracy'])\n",
    "model.summary()"
   ],
   "metadata": {
    "collapsed": false
   }
  },
  {
   "cell_type": "markdown",
   "source": [
    "#### Train LSTM Model with LSTM Layer"
   ],
   "metadata": {
    "collapsed": false
   }
  },
  {
   "cell_type": "code",
   "execution_count": 80,
   "outputs": [
    {
     "name": "stdout",
     "output_type": "stream",
     "text": [
      "Epoch 1/5\n",
      "246/246 [==============================] - 300s 1s/step - loss: 1.3185 - accuracy: 0.4672 - val_loss: 1.2384 - val_accuracy: 0.4966\n",
      "Epoch 2/5\n",
      "246/246 [==============================] - 267s 1s/step - loss: 1.1753 - accuracy: 0.4894 - val_loss: 1.0616 - val_accuracy: 0.5355\n",
      "Epoch 3/5\n",
      "246/246 [==============================] - 209s 852ms/step - loss: 1.0195 - accuracy: 0.5473 - val_loss: 1.0127 - val_accuracy: 0.5481\n",
      "Epoch 4/5\n",
      "246/246 [==============================] - 219s 890ms/step - loss: 0.9584 - accuracy: 0.5808 - val_loss: 0.9771 - val_accuracy: 0.5584\n",
      "Epoch 5/5\n",
      "246/246 [==============================] - 238s 967ms/step - loss: 0.9141 - accuracy: 0.6011 - val_loss: 0.9528 - val_accuracy: 0.5641\n"
     ]
    }
   ],
   "source": [
    "hist = model.fit(X_train,\n",
    "                 to_categorical(y_train),\n",
    "                 #batch_size=5,\n",
    "                 epochs=5,\n",
    "                 validation_data=(X_dev,to_categorical(y_dev)))"
   ],
   "metadata": {
    "collapsed": false
   }
  },
  {
   "cell_type": "code",
   "execution_count": 82,
   "outputs": [
    {
     "name": "stdout",
     "output_type": "stream",
     "text": [
      "31/31 [==============================] - 6s 206ms/step\n",
      "[3 4 3 2 4 4 2 2 4 4 4 4 4 3 3 2 3 4 2 3 4 4 4 3 4 4 4 4 2 4 4 2 2 4 2 3 4\n",
      " 4 4 4 2 4 3 4 2 4 4 4 4 3 3 3 4 2 2 2 4 4 4 2 2 2 0 4 2 2 4 4 4 2 2 2 4 4\n",
      " 4 4 2 4 4 2 4 4 4 2 4 4 4 4 4 4 3 4 4 3 2 2 4 4 4 4 4 4 2 4 2 3 4 4 4 4 4\n",
      " 2 4 4 3 4 3 4 4 3 3 4 4 3 4 4 1 3 4 4 4 4 4 2 4 3 4 3 2 4 3 2 2 4 4 4 3 4\n",
      " 4 4 4 4 4 3 2 2 4 3 3 4 4 4 2 2 2 4 4 4 2 4 3 2 2 4 4 2 4 3 4 4 2 4 4 4 4\n",
      " 4 4 3 4 4 4 2 2 4 4 4 3 3 4 4 4 3 2 4 2 4 4 4 4 2 4 4 4 2 4 3 3 2 3 4 2 4\n",
      " 4 3 2 3 3 4 3 3 0 4 4 4 4 3 2 3 3 4 3 4 3 3 4 3 4 4 3 4 3 3 4 4 3 4 4 2 4\n",
      " 2 2 4 2 2 3 4 4 2 4 4 4 4 3 1 3 3 2 4 2 2 4 4 2 4 4 4 3 0 4 3 4 4 4 4 3 2\n",
      " 4 4 2 4 4 2 3 3 4 4 4 4 4 2 4 4 4 2 4 4 4 2 4 2 3 3 4 4 4 4 3 4 4 4 4 4 2\n",
      " 3 4 4 4 4 3 4 4 4 4 4 4 4 4 4 4 4 2 4 4 4 3 4 4 3 4 2 2 3 2 4 4 4 4 0 3 3\n",
      " 4 3 3 4 4 4 3 4 2 3 4 3 2 3 4 2 2 4 2 3 2 4 3 4 3 4 2 4 4 3 1 4 3 0 4 4 2\n",
      " 4 4 2 4 3 4 4 3 1 4 4 2 2 4 4 3 2 4 4 3 4 3 4 4 2 4 2 3 4 4 4 3 4 4 2 4 4\n",
      " 4 2 4 4 4 2 4 2 2 2 4 4 4 4 4 4 4 4 2 4 2 4 3 4 4 4 2 4 2 2 4 4 4 2 4 3 4\n",
      " 3 3 4 2 3 4 4 4 4 2 4 4 4 4 4 2 4 2 2 4 4 4 2 4 4 4 4 4 1 4 4 4 4 3 4 3 2\n",
      " 4 3 3 3 2 4 3 3 3 4 2 4 4 3 4 4 4 1 3 4 4 3 4 4 4 4 4 4 4 4 3 2 4 4 4 3 4\n",
      " 4 4 4 3 3 3 2 4 4 4 3 4 4 3 4 4 4 2 4 4 2 0 3 3 1 4 2 4 3 4 4 4 4 2 4 4 4\n",
      " 4 3 4 4 4 2 2 3 4 4 3 4 2 2 4 4 3 4 1 4 4 4 4 4 4 4 4 2 4 4 4 2 1 4 4 3 4\n",
      " 2 3 4 4 4 3 4 4 2 4 4 2 4 4 4 3 4 3 4 4 4 3 3 2 2 4 4 4 2 3 4 4 4 3 3 4 4\n",
      " 2 4 4 4 3 4 4 4 4 2 4 3 4 4 3 1 4 4 3 4 2 4 2 3 4 4 2 4 4 4 4 4 2 3 2 4 4\n",
      " 4 4 2 4 2 4 4 3 4 2 4 4 4 4 4 4 2 4 4 2 3 3 3 4 4 1 2 4 4 4 3 4 2 4 2 4 3\n",
      " 4 4 4 4 3 4 4 3 3 3 3 3 4 2 4 2 2 1 4 4 4 4 2 3 2 4 4 4 2 4 3 4 4 4 4 4 4\n",
      " 4 4 3 4 4 4 4 3 4 3 4 3 2 4 4 3 4 4 4 4 2 2 4 4 4 3 4 4 4 4 4 4 2 2 4 4 4\n",
      " 4 4 3 3 4 2 2 3 4 3 3 4 4 4 4 3 4 4 4 4 4 4 4 2 4 4 4 4 4 4 4 3 2 4 4 2 4\n",
      " 4 3 4 4 4 4 3 4 3 2 2 2 4 3 4 3 2 4 4 2 4 3 4 2 2 4 4 4 1 4 4 4 4 4 2 3 1\n",
      " 4 4 4 3 4 2 4 4 4 3 4 4 4 3 2 2 4 4 2 3 4 4 4 4 3 2 4 3 4 4 4 4 2 4 4 4 4\n",
      " 4 4 3 1 4 3 4 4 2 4 4 2 4 3 4 3 4 4 4 4 4 4 1 3 4 3 4 3 4 4 4 4 2 4 4 3 4\n",
      " 2 4 4 4 4 4 4 2 4]\n",
      "0.5550978372811535\n",
      "0.4790073477904402\n",
      "0.35700011686186783\n",
      "0.36867492609331143\n"
     ]
    }
   ],
   "source": [
    "from sklearn.metrics import f1_score,precision_score,recall_score,accuracy_score\n",
    "import numpy as np\n",
    "pred_test= np.argmax(model.predict(X_test), axis=1)\n",
    "print(pred_test)\n",
    "print(accuracy_score(pred_test,y_test))\n",
    "print(recall_score(pred_test,y_test,average = 'macro'))\n",
    "print(f1_score(pred_test,y_test,average = 'macro'))\n",
    "print(precision_score(pred_test,y_test,average = 'macro'))"
   ],
   "metadata": {
    "collapsed": false
   }
  },
  {
   "cell_type": "code",
   "execution_count": 83,
   "outputs": [
    {
     "name": "stdout",
     "output_type": "stream",
     "text": [
      "dict_keys(['loss', 'accuracy', 'val_loss', 'val_accuracy'])\n"
     ]
    },
    {
     "data": {
      "text/plain": "<Figure size 640x480 with 1 Axes>",
      "image/png": "[encoded data removed]"
     },
     "metadata": {},
     "output_type": "display_data"
    }
   ],
   "source": [
    "print(hist.history.keys())\n",
    "#  \"Accuracy\"\n",
    "plt.plot(hist.history['accuracy'])\n",
    "plt.plot(hist.history['val_accuracy'])\n",
    "plt.title('model accuracy')\n",
    "plt.ylabel('accuracy')\n",
    "plt.xlabel('epoch')\n",
    "plt.legend(['train', 'validation'], loc='upper left')\n",
    "plt.show()"
   ],
   "metadata": {
    "collapsed": false
   }
  },
  {
   "cell_type": "markdown",
   "source": [
    "#### Train LSTM Model without LSTM Layer"
   ],
   "metadata": {
    "collapsed": false
   }
  },
  {
   "cell_type": "code",
   "execution_count": 94,
   "outputs": [],
   "source": [
    "model = Sequential()\n",
    "model.add(Embedding(input_dim=vocab_size,output_dim=10,input_length=padding_size))\n",
    "model.add(Flatten())\n",
    "model.add(Dense(5, activation='softmax'))\n",
    "opt = optimizers.Adam(learning_rate=0.001) # tried 0.1, 0.001, 0.0001\n",
    "model.compile(optimizer=opt, loss='categorical_crossentropy', metrics=['accuracy'])\n",
    "#model.summary()"
   ],
   "metadata": {
    "collapsed": false
   }
  },
  {
   "cell_type": "code",
   "execution_count": 95,
   "outputs": [
    {
     "name": "stdout",
     "output_type": "stream",
     "text": [
      "Epoch 1/5\n",
      "787/787 [==============================] - 5s 5ms/step - loss: 1.1977 - accuracy: 0.4964 - val_loss: 1.0313 - val_accuracy: 0.5469\n",
      "Epoch 2/5\n",
      "787/787 [==============================] - 2s 2ms/step - loss: 0.9642 - accuracy: 0.5934 - val_loss: 0.9552 - val_accuracy: 0.5870\n",
      "Epoch 3/5\n",
      "787/787 [==============================] - 2s 2ms/step - loss: 0.8342 - accuracy: 0.6657 - val_loss: 0.9350 - val_accuracy: 0.5927\n",
      "Epoch 4/5\n",
      "787/787 [==============================] - 2s 3ms/step - loss: 0.7219 - accuracy: 0.7241 - val_loss: 0.9468 - val_accuracy: 0.5835\n",
      "Epoch 5/5\n",
      "787/787 [==============================] - 2s 3ms/step - loss: 0.6258 - accuracy: 0.7767 - val_loss: 0.9786 - val_accuracy: 0.5767\n"
     ]
    }
   ],
   "source": [
    "\n",
    "hist = model.fit(X_train,\n",
    "                 to_categorical(y_train),\n",
    "                 epochs=5, # tried 3, 4, 5, 10\n",
    "                 batch_size=10,#tried 5, 10, 50, 100\n",
    "                 validation_data=(X_dev,to_categorical(y_dev)))"
   ],
   "metadata": {
    "collapsed": false
   }
  },
  {
   "cell_type": "code",
   "execution_count": 96,
   "outputs": [
    {
     "name": "stdout",
     "output_type": "stream",
     "text": [
      "31/31 [==============================] - 0s 2ms/step\n",
      "[4 4 2 0 4 4 2 2 4 4 3 4 4 3 3 1 3 4 2 3 3 4 4 4 4 4 4 4 2 3 3 2 0 3 4 2 3\n",
      " 4 3 4 0 4 4 4 2 4 4 4 4 3 3 3 4 3 2 3 4 4 4 3 1 0 1 4 2 2 4 4 4 3 2 3 4 4\n",
      " 4 4 1 4 4 2 4 3 3 2 4 4 4 3 4 4 3 4 4 3 0 2 4 4 4 4 4 4 3 4 0 3 3 4 4 4 4\n",
      " 2 3 3 3 4 3 4 4 4 4 4 4 4 3 4 1 1 4 3 3 4 4 1 4 4 4 2 1 4 2 2 2 4 4 4 3 4\n",
      " 4 3 3 3 4 3 2 2 4 3 3 4 4 4 2 2 2 4 4 3 2 3 3 1 2 4 4 2 4 3 4 4 2 4 4 4 4\n",
      " 4 4 3 4 3 4 2 3 4 4 2 3 4 4 4 4 4 0 4 1 4 4 4 4 2 4 4 4 1 4 3 3 2 4 3 2 4\n",
      " 4 4 3 3 3 4 4 0 1 4 4 4 4 2 2 3 2 3 3 4 3 2 4 2 4 3 4 4 0 2 4 4 3 4 4 2 4\n",
      " 2 3 4 2 0 3 4 4 2 4 4 4 4 3 0 3 2 2 4 2 1 4 4 2 4 4 4 3 1 4 3 4 3 4 3 3 3\n",
      " 3 3 2 4 4 3 2 3 4 4 3 4 4 1 3 4 4 4 4 4 4 3 4 2 2 3 4 4 4 3 3 4 4 3 4 4 2\n",
      " 3 3 4 3 4 3 4 4 3 4 4 4 3 4 4 4 4 2 4 4 4 3 4 4 3 4 2 2 4 0 4 4 4 4 0 4 2\n",
      " 4 2 3 4 3 4 3 4 2 2 3 4 2 4 4 2 1 3 4 4 1 4 2 4 0 4 2 4 3 3 1 4 3 1 4 4 3\n",
      " 4 4 2 4 3 4 4 4 1 3 4 2 2 3 4 3 3 4 4 3 4 3 4 3 2 4 1 3 4 4 4 3 4 4 2 4 3\n",
      " 4 2 3 4 4 2 4 2 2 3 4 4 3 4 4 3 4 4 2 3 2 3 3 3 4 4 3 4 2 0 4 4 4 2 4 4 3\n",
      " 3 3 4 2 3 4 4 4 3 2 4 4 4 4 4 2 4 4 2 4 3 4 3 4 3 4 4 4 1 3 4 4 4 3 4 3 2\n",
      " 3 3 3 4 0 4 3 2 3 4 2 4 4 3 3 4 3 0 4 4 4 2 4 4 4 4 3 4 4 4 3 3 4 4 4 3 4\n",
      " 4 4 4 4 3 3 2 4 4 4 2 4 4 3 4 3 3 2 4 3 1 0 2 3 2 4 2 4 1 3 4 3 4 2 3 4 4\n",
      " 4 3 4 4 4 1 0 4 4 4 3 4 3 4 4 4 2 4 2 4 4 4 4 3 4 4 4 0 3 4 4 2 0 3 4 3 4\n",
      " 2 3 4 4 4 4 4 4 3 4 4 2 4 3 4 2 4 4 4 4 3 3 4 2 2 4 4 4 2 4 4 4 4 4 3 4 3\n",
      " 2 4 4 4 4 4 4 4 4 1 4 4 4 3 3 2 4 4 4 4 2 4 3 4 4 4 1 4 4 4 4 3 1 2 3 4 4\n",
      " 4 3 2 4 3 4 4 3 4 3 3 4 4 3 4 4 2 4 4 2 3 2 2 3 4 2 2 4 4 4 3 4 2 3 3 4 2\n",
      " 4 4 4 4 2 4 4 3 3 3 3 3 4 2 4 2 2 2 4 4 4 3 2 3 3 3 4 4 2 4 4 4 4 3 3 4 4\n",
      " 4 4 4 4 4 4 4 3 4 3 3 3 1 3 4 3 4 4 4 4 1 2 3 4 4 3 3 4 4 4 4 4 3 1 4 4 4\n",
      " 4 4 2 3 4 3 3 2 4 3 4 3 4 4 3 4 4 4 4 4 4 4 4 2 4 4 3 4 4 3 4 4 2 4 4 0 4\n",
      " 3 3 3 4 3 4 3 3 3 2 0 2 4 3 4 3 4 4 4 2 4 3 3 3 3 4 4 3 0 4 4 4 4 4 3 3 1\n",
      " 4 4 4 3 4 2 4 4 4 4 3 4 4 2 0 2 3 4 1 4 3 4 4 4 3 1 3 3 4 4 3 3 1 4 4 4 3\n",
      " 4 4 3 1 3 3 4 3 2 4 4 2 4 3 4 3 4 4 4 4 4 4 1 2 4 3 4 4 3 4 4 4 1 4 4 3 4\n",
      " 0 4 4 4 4 4 4 3 4]\n",
      "0.5561277033985582\n",
      "0.5056978343294133\n",
      "0.4389083918879707\n",
      "0.4167573414687641\n"
     ]
    }
   ],
   "source": [
    "pred_test_nolstm= np.argmax(model.predict(X_test), axis=1)\n",
    "print(pred_test_nolstm)\n",
    "print(accuracy_score(pred_test_nolstm,y_test))\n",
    "print(recall_score(pred_test_nolstm,y_test,average = 'macro'))\n",
    "print(f1_score(pred_test_nolstm,y_test,average = 'macro'))\n",
    "print(precision_score(pred_test_nolstm,y_test,average = 'macro'))"
   ],
   "metadata": {
    "collapsed": false
   }
  },
  {
   "cell_type": "code",
   "execution_count": 97,
   "outputs": [
    {
     "name": "stdout",
     "output_type": "stream",
     "text": [
      "dict_keys(['loss', 'accuracy', 'val_loss', 'val_accuracy'])\n"
     ]
    },
    {
     "data": {
      "text/plain": "<Figure size 640x480 with 1 Axes>",
      "image/png": "[encoded data removed]"
     },
     "metadata": {},
     "output_type": "display_data"
    }
   ],
   "source": [
    "print(hist.history.keys())\n",
    "#  \"Accuracy\"\n",
    "plt.plot(hist.history['accuracy'])\n",
    "plt.plot(hist.history['val_accuracy'])\n",
    "plt.title('model accuracy')\n",
    "plt.ylabel('accuracy')\n",
    "plt.xlabel('epoch')\n",
    "plt.legend(['train', 'validation'], loc='upper left')\n",
    "plt.show()"
   ],
   "metadata": {
    "collapsed": false
   }
  }
 ],
 "metadata": {
  "kernelspec": {
   "display_name": "Python 3",
   "language": "python",
   "name": "python3"
  },
  "language_info": {
   "codemirror_mode": {
    "name": "ipython",
    "version": 2
   },
   "file_extension": ".py",
   "mimetype": "text/x-python",
   "name": "python",
   "nbconvert_exporter": "python",
   "pygments_lexer": "ipython2",
   "version": "2.7.6"
  }
 },
 "nbformat": 4,
 "nbformat_minor": 0
}
